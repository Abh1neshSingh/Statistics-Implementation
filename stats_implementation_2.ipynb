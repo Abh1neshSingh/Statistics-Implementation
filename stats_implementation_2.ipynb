{
 "cells": [
  {
   "cell_type": "code",
   "execution_count": 2,
   "id": "0f528ffa-c2fb-49a2-8f56-ca83dccb9a3c",
   "metadata": {},
   "outputs": [],
   "source": [
    "import numpy as np\n",
    "import pandas as pd\n",
    "import seaborn as sns\n",
    "import matplotlib.pyplot as plt"
   ]
  },
  {
   "cell_type": "code",
   "execution_count": 3,
   "id": "a938e5f8-48e9-4aa1-8cc0-8c6f2b85859b",
   "metadata": {},
   "outputs": [
    {
     "data": {
      "text/plain": [
       "[1, 2, 3, 4, 5]"
      ]
     },
     "execution_count": 3,
     "metadata": {},
     "output_type": "execute_result"
    }
   ],
   "source": [
    "data=[1,2,3,4,5]\n",
    "data"
   ]
  },
  {
   "cell_type": "code",
   "execution_count": 4,
   "id": "435bd912-6653-4c0f-89e2-fc6fbbcfaaac",
   "metadata": {},
   "outputs": [],
   "source": [
    "# measure of central tendency --- mean ,median, and mode"
   ]
  },
  {
   "cell_type": "code",
   "execution_count": 5,
   "id": "4a6ec212-414f-47f0-b877-9a0c349f2603",
   "metadata": {},
   "outputs": [
    {
     "data": {
      "text/plain": [
       "3.0"
      ]
     },
     "execution_count": 5,
     "metadata": {},
     "output_type": "execute_result"
    }
   ],
   "source": [
    "np.mean(data)"
   ]
  },
  {
   "cell_type": "code",
   "execution_count": 6,
   "id": "e8ab5840-2b08-4f94-9771-2fa4c595a2dd",
   "metadata": {},
   "outputs": [],
   "source": [
    "df=sns.load_dataset('tips')"
   ]
  },
  {
   "cell_type": "code",
   "execution_count": 7,
   "id": "07adca10-92cb-40b8-8e5f-935ae2eec6ce",
   "metadata": {},
   "outputs": [
    {
     "data": {
      "text/html": [
       "<div>\n",
       "<style scoped>\n",
       "    .dataframe tbody tr th:only-of-type {\n",
       "        vertical-align: middle;\n",
       "    }\n",
       "\n",
       "    .dataframe tbody tr th {\n",
       "        vertical-align: top;\n",
       "    }\n",
       "\n",
       "    .dataframe thead th {\n",
       "        text-align: right;\n",
       "    }\n",
       "</style>\n",
       "<table border=\"1\" class=\"dataframe\">\n",
       "  <thead>\n",
       "    <tr style=\"text-align: right;\">\n",
       "      <th></th>\n",
       "      <th>total_bill</th>\n",
       "      <th>tip</th>\n",
       "      <th>sex</th>\n",
       "      <th>smoker</th>\n",
       "      <th>day</th>\n",
       "      <th>time</th>\n",
       "      <th>size</th>\n",
       "    </tr>\n",
       "  </thead>\n",
       "  <tbody>\n",
       "    <tr>\n",
       "      <th>0</th>\n",
       "      <td>16.99</td>\n",
       "      <td>1.01</td>\n",
       "      <td>Female</td>\n",
       "      <td>No</td>\n",
       "      <td>Sun</td>\n",
       "      <td>Dinner</td>\n",
       "      <td>2</td>\n",
       "    </tr>\n",
       "    <tr>\n",
       "      <th>1</th>\n",
       "      <td>10.34</td>\n",
       "      <td>1.66</td>\n",
       "      <td>Male</td>\n",
       "      <td>No</td>\n",
       "      <td>Sun</td>\n",
       "      <td>Dinner</td>\n",
       "      <td>3</td>\n",
       "    </tr>\n",
       "    <tr>\n",
       "      <th>2</th>\n",
       "      <td>21.01</td>\n",
       "      <td>3.50</td>\n",
       "      <td>Male</td>\n",
       "      <td>No</td>\n",
       "      <td>Sun</td>\n",
       "      <td>Dinner</td>\n",
       "      <td>3</td>\n",
       "    </tr>\n",
       "    <tr>\n",
       "      <th>3</th>\n",
       "      <td>23.68</td>\n",
       "      <td>3.31</td>\n",
       "      <td>Male</td>\n",
       "      <td>No</td>\n",
       "      <td>Sun</td>\n",
       "      <td>Dinner</td>\n",
       "      <td>2</td>\n",
       "    </tr>\n",
       "    <tr>\n",
       "      <th>4</th>\n",
       "      <td>24.59</td>\n",
       "      <td>3.61</td>\n",
       "      <td>Female</td>\n",
       "      <td>No</td>\n",
       "      <td>Sun</td>\n",
       "      <td>Dinner</td>\n",
       "      <td>4</td>\n",
       "    </tr>\n",
       "    <tr>\n",
       "      <th>...</th>\n",
       "      <td>...</td>\n",
       "      <td>...</td>\n",
       "      <td>...</td>\n",
       "      <td>...</td>\n",
       "      <td>...</td>\n",
       "      <td>...</td>\n",
       "      <td>...</td>\n",
       "    </tr>\n",
       "    <tr>\n",
       "      <th>239</th>\n",
       "      <td>29.03</td>\n",
       "      <td>5.92</td>\n",
       "      <td>Male</td>\n",
       "      <td>No</td>\n",
       "      <td>Sat</td>\n",
       "      <td>Dinner</td>\n",
       "      <td>3</td>\n",
       "    </tr>\n",
       "    <tr>\n",
       "      <th>240</th>\n",
       "      <td>27.18</td>\n",
       "      <td>2.00</td>\n",
       "      <td>Female</td>\n",
       "      <td>Yes</td>\n",
       "      <td>Sat</td>\n",
       "      <td>Dinner</td>\n",
       "      <td>2</td>\n",
       "    </tr>\n",
       "    <tr>\n",
       "      <th>241</th>\n",
       "      <td>22.67</td>\n",
       "      <td>2.00</td>\n",
       "      <td>Male</td>\n",
       "      <td>Yes</td>\n",
       "      <td>Sat</td>\n",
       "      <td>Dinner</td>\n",
       "      <td>2</td>\n",
       "    </tr>\n",
       "    <tr>\n",
       "      <th>242</th>\n",
       "      <td>17.82</td>\n",
       "      <td>1.75</td>\n",
       "      <td>Male</td>\n",
       "      <td>No</td>\n",
       "      <td>Sat</td>\n",
       "      <td>Dinner</td>\n",
       "      <td>2</td>\n",
       "    </tr>\n",
       "    <tr>\n",
       "      <th>243</th>\n",
       "      <td>18.78</td>\n",
       "      <td>3.00</td>\n",
       "      <td>Female</td>\n",
       "      <td>No</td>\n",
       "      <td>Thur</td>\n",
       "      <td>Dinner</td>\n",
       "      <td>2</td>\n",
       "    </tr>\n",
       "  </tbody>\n",
       "</table>\n",
       "<p>244 rows × 7 columns</p>\n",
       "</div>"
      ],
      "text/plain": [
       "     total_bill   tip     sex smoker   day    time  size\n",
       "0         16.99  1.01  Female     No   Sun  Dinner     2\n",
       "1         10.34  1.66    Male     No   Sun  Dinner     3\n",
       "2         21.01  3.50    Male     No   Sun  Dinner     3\n",
       "3         23.68  3.31    Male     No   Sun  Dinner     2\n",
       "4         24.59  3.61  Female     No   Sun  Dinner     4\n",
       "..          ...   ...     ...    ...   ...     ...   ...\n",
       "239       29.03  5.92    Male     No   Sat  Dinner     3\n",
       "240       27.18  2.00  Female    Yes   Sat  Dinner     2\n",
       "241       22.67  2.00    Male    Yes   Sat  Dinner     2\n",
       "242       17.82  1.75    Male     No   Sat  Dinner     2\n",
       "243       18.78  3.00  Female     No  Thur  Dinner     2\n",
       "\n",
       "[244 rows x 7 columns]"
      ]
     },
     "execution_count": 7,
     "metadata": {},
     "output_type": "execute_result"
    }
   ],
   "source": [
    "df"
   ]
  },
  {
   "cell_type": "code",
   "execution_count": 8,
   "id": "33d9a072-84d5-4125-9666-53432ab1a3f6",
   "metadata": {},
   "outputs": [
    {
     "data": {
      "text/plain": [
       "19.78594262295082"
      ]
     },
     "execution_count": 8,
     "metadata": {},
     "output_type": "execute_result"
    }
   ],
   "source": [
    "np.mean(df['total_bill']) # calculate the mean of a specific column "
   ]
  },
  {
   "cell_type": "code",
   "execution_count": 9,
   "id": "8b9bfa1d-bc31-4f04-b237-48254c6668d8",
   "metadata": {},
   "outputs": [
    {
     "data": {
      "text/html": [
       "<div>\n",
       "<style scoped>\n",
       "    .dataframe tbody tr th:only-of-type {\n",
       "        vertical-align: middle;\n",
       "    }\n",
       "\n",
       "    .dataframe tbody tr th {\n",
       "        vertical-align: top;\n",
       "    }\n",
       "\n",
       "    .dataframe thead th {\n",
       "        text-align: right;\n",
       "    }\n",
       "</style>\n",
       "<table border=\"1\" class=\"dataframe\">\n",
       "  <thead>\n",
       "    <tr style=\"text-align: right;\">\n",
       "      <th></th>\n",
       "      <th>total_bill</th>\n",
       "      <th>tip</th>\n",
       "      <th>size</th>\n",
       "    </tr>\n",
       "  </thead>\n",
       "  <tbody>\n",
       "    <tr>\n",
       "      <th>count</th>\n",
       "      <td>244.000000</td>\n",
       "      <td>244.000000</td>\n",
       "      <td>244.000000</td>\n",
       "    </tr>\n",
       "    <tr>\n",
       "      <th>mean</th>\n",
       "      <td>19.785943</td>\n",
       "      <td>2.998279</td>\n",
       "      <td>2.569672</td>\n",
       "    </tr>\n",
       "    <tr>\n",
       "      <th>std</th>\n",
       "      <td>8.902412</td>\n",
       "      <td>1.383638</td>\n",
       "      <td>0.951100</td>\n",
       "    </tr>\n",
       "    <tr>\n",
       "      <th>min</th>\n",
       "      <td>3.070000</td>\n",
       "      <td>1.000000</td>\n",
       "      <td>1.000000</td>\n",
       "    </tr>\n",
       "    <tr>\n",
       "      <th>25%</th>\n",
       "      <td>13.347500</td>\n",
       "      <td>2.000000</td>\n",
       "      <td>2.000000</td>\n",
       "    </tr>\n",
       "    <tr>\n",
       "      <th>50%</th>\n",
       "      <td>17.795000</td>\n",
       "      <td>2.900000</td>\n",
       "      <td>2.000000</td>\n",
       "    </tr>\n",
       "    <tr>\n",
       "      <th>75%</th>\n",
       "      <td>24.127500</td>\n",
       "      <td>3.562500</td>\n",
       "      <td>3.000000</td>\n",
       "    </tr>\n",
       "    <tr>\n",
       "      <th>max</th>\n",
       "      <td>50.810000</td>\n",
       "      <td>10.000000</td>\n",
       "      <td>6.000000</td>\n",
       "    </tr>\n",
       "  </tbody>\n",
       "</table>\n",
       "</div>"
      ],
      "text/plain": [
       "       total_bill         tip        size\n",
       "count  244.000000  244.000000  244.000000\n",
       "mean    19.785943    2.998279    2.569672\n",
       "std      8.902412    1.383638    0.951100\n",
       "min      3.070000    1.000000    1.000000\n",
       "25%     13.347500    2.000000    2.000000\n",
       "50%     17.795000    2.900000    2.000000\n",
       "75%     24.127500    3.562500    3.000000\n",
       "max     50.810000   10.000000    6.000000"
      ]
     },
     "execution_count": 9,
     "metadata": {},
     "output_type": "execute_result"
    }
   ],
   "source": [
    "df.describe()"
   ]
  },
  {
   "cell_type": "code",
   "execution_count": 10,
   "id": "b92bfe42-8a1a-490c-b70d-10defa2b8e15",
   "metadata": {},
   "outputs": [],
   "source": [
    "# how to calculate median of data"
   ]
  },
  {
   "cell_type": "code",
   "execution_count": 11,
   "id": "7afa309d-7bae-4435-88ea-d0fdc8849254",
   "metadata": {},
   "outputs": [
    {
     "data": {
      "text/plain": [
       "[1, 2, 3, 4, 5]"
      ]
     },
     "execution_count": 11,
     "metadata": {},
     "output_type": "execute_result"
    }
   ],
   "source": [
    "data"
   ]
  },
  {
   "cell_type": "code",
   "execution_count": 12,
   "id": "d53542c1-5625-4386-828c-212c1861e5e2",
   "metadata": {},
   "outputs": [
    {
     "data": {
      "text/plain": [
       "3.0"
      ]
     },
     "execution_count": 12,
     "metadata": {},
     "output_type": "execute_result"
    }
   ],
   "source": [
    "np.median(data)"
   ]
  },
  {
   "cell_type": "code",
   "execution_count": 13,
   "id": "63d0ed9a-9d3c-4b93-8083-976d2fc48710",
   "metadata": {},
   "outputs": [
    {
     "data": {
      "text/plain": [
       "[1, 2, 3, 4, 5]"
      ]
     },
     "execution_count": 13,
     "metadata": {},
     "output_type": "execute_result"
    }
   ],
   "source": [
    "data"
   ]
  },
  {
   "cell_type": "code",
   "execution_count": 14,
   "id": "6f43e956-943d-4dd1-8a9d-2a732e164ab6",
   "metadata": {},
   "outputs": [],
   "source": [
    "data=[1, 2, 3, 4, 500] # mean is inflated by outliers"
   ]
  },
  {
   "cell_type": "code",
   "execution_count": 15,
   "id": "055569f2-42d9-4556-b102-9875a6d0dc67",
   "metadata": {},
   "outputs": [
    {
     "data": {
      "text/plain": [
       "102.0"
      ]
     },
     "execution_count": 15,
     "metadata": {},
     "output_type": "execute_result"
    }
   ],
   "source": [
    "np.mean(data)"
   ]
  },
  {
   "cell_type": "code",
   "execution_count": 16,
   "id": "5840b0db-997f-4b3b-b9be-b3f08ab96d34",
   "metadata": {},
   "outputs": [
    {
     "data": {
      "text/plain": [
       "3.0"
      ]
     },
     "execution_count": 16,
     "metadata": {},
     "output_type": "execute_result"
    }
   ],
   "source": [
    "np.median(data)"
   ]
  },
  {
   "cell_type": "code",
   "execution_count": 17,
   "id": "ad3bc29a-0f14-4ed0-8ef6-dd026c36d914",
   "metadata": {},
   "outputs": [],
   "source": [
    "# mean is inflated by outliers but median not"
   ]
  },
  {
   "cell_type": "code",
   "execution_count": 18,
   "id": "eb589a12-8b74-4716-bd35-550b11d9c87b",
   "metadata": {},
   "outputs": [
    {
     "data": {
      "text/plain": [
       "17.795"
      ]
     },
     "execution_count": 18,
     "metadata": {},
     "output_type": "execute_result"
    }
   ],
   "source": [
    "np.median(df['total_bill']) # calculate the median of a specific column "
   ]
  },
  {
   "cell_type": "code",
   "execution_count": 19,
   "id": "c1a37201-0081-49d6-9482-8902fab49c80",
   "metadata": {},
   "outputs": [],
   "source": [
    "# how to calculate mode of data"
   ]
  },
  {
   "cell_type": "code",
   "execution_count": 20,
   "id": "9f3ef9f8-ae6a-43cf-85c8-dc326ae8249e",
   "metadata": {},
   "outputs": [
    {
     "data": {
      "text/plain": [
       "[1, 2, 3, 4, 500]"
      ]
     },
     "execution_count": 20,
     "metadata": {},
     "output_type": "execute_result"
    }
   ],
   "source": [
    "data"
   ]
  },
  {
   "cell_type": "code",
   "execution_count": 21,
   "id": "c2024bfe-469f-4077-af8f-c736a60087b0",
   "metadata": {},
   "outputs": [],
   "source": [
    "data=[1, 2, 3,3,3,3, 4, 500]"
   ]
  },
  {
   "cell_type": "code",
   "execution_count": 22,
   "id": "b0a29dbf-562f-4249-8c94-adc3bcc154a7",
   "metadata": {},
   "outputs": [
    {
     "data": {
      "text/plain": [
       "[1, 2, 3, 3, 3, 3, 4, 500]"
      ]
     },
     "execution_count": 22,
     "metadata": {},
     "output_type": "execute_result"
    }
   ],
   "source": [
    "data"
   ]
  },
  {
   "cell_type": "code",
   "execution_count": 23,
   "id": "0d6f42ff-ce64-4482-bb7c-1b1892655e78",
   "metadata": {},
   "outputs": [
    {
     "ename": "AttributeError",
     "evalue": "module 'numpy' has no attribute 'mode'",
     "output_type": "error",
     "traceback": [
      "\u001b[0;31m---------------------------------------------------------------------------\u001b[0m",
      "\u001b[0;31mAttributeError\u001b[0m                            Traceback (most recent call last)",
      "Cell \u001b[0;32mIn[23], line 1\u001b[0m\n\u001b[0;32m----> 1\u001b[0m np\u001b[38;5;241m.\u001b[39mmode(data)\n",
      "File \u001b[0;32m/opt/anaconda3/lib/python3.11/site-packages/numpy/__init__.py:333\u001b[0m, in \u001b[0;36m__getattr__\u001b[0;34m(attr)\u001b[0m\n\u001b[1;32m    330\u001b[0m     \u001b[38;5;124m\"\u001b[39m\u001b[38;5;124mRemoved in NumPy 1.25.0\u001b[39m\u001b[38;5;124m\"\u001b[39m\n\u001b[1;32m    331\u001b[0m     \u001b[38;5;28;01mraise\u001b[39;00m \u001b[38;5;167;01mRuntimeError\u001b[39;00m(\u001b[38;5;124m\"\u001b[39m\u001b[38;5;124mTester was removed in NumPy 1.25.\u001b[39m\u001b[38;5;124m\"\u001b[39m)\n\u001b[0;32m--> 333\u001b[0m \u001b[38;5;28;01mraise\u001b[39;00m \u001b[38;5;167;01mAttributeError\u001b[39;00m(\u001b[38;5;124m\"\u001b[39m\u001b[38;5;124mmodule \u001b[39m\u001b[38;5;132;01m{!r}\u001b[39;00m\u001b[38;5;124m has no attribute \u001b[39m\u001b[38;5;124m\"\u001b[39m\n\u001b[1;32m    334\u001b[0m                      \u001b[38;5;124m\"\u001b[39m\u001b[38;5;132;01m{!r}\u001b[39;00m\u001b[38;5;124m\"\u001b[39m\u001b[38;5;241m.\u001b[39mformat(\u001b[38;5;18m__name__\u001b[39m, attr))\n",
      "\u001b[0;31mAttributeError\u001b[0m: module 'numpy' has no attribute 'mode'"
     ]
    }
   ],
   "source": [
    "np.mode(data) # this will through error"
   ]
  },
  {
   "cell_type": "code",
   "execution_count": 24,
   "id": "ac075a18-de9c-4721-8213-052ff6e13070",
   "metadata": {},
   "outputs": [],
   "source": [
    "# basically numpy has not concept of mode "
   ]
  },
  {
   "cell_type": "code",
   "execution_count": 25,
   "id": "36348a47-1f87-4bba-9ce1-5ed98868a688",
   "metadata": {},
   "outputs": [],
   "source": [
    "# then how to calculate mode"
   ]
  },
  {
   "cell_type": "code",
   "execution_count": 26,
   "id": "ff06e78e-5e0c-42af-853a-6cfb5b6e47aa",
   "metadata": {},
   "outputs": [
    {
     "data": {
      "text/plain": [
       "3"
      ]
     },
     "execution_count": 26,
     "metadata": {},
     "output_type": "execute_result"
    }
   ],
   "source": [
    "import statistics\n",
    "statistics.mode(data) "
   ]
  },
  {
   "cell_type": "code",
   "execution_count": 27,
   "id": "c1e989cb-c278-4049-bf24-fdfa1cc5a3cd",
   "metadata": {},
   "outputs": [
    {
     "data": {
      "text/plain": [
       "array([2.75])"
      ]
     },
     "execution_count": 27,
     "metadata": {},
     "output_type": "execute_result"
    }
   ],
   "source": [
    "np.percentile(data,[25])  # 25 percentage  of the data is below  2.75"
   ]
  },
  {
   "cell_type": "code",
   "execution_count": 28,
   "id": "0c23e0af-b4e9-4a17-ac7d-8bdc8e1fae8b",
   "metadata": {},
   "outputs": [
    {
     "data": {
      "text/plain": [
       "array([  2.75,   3.  ,   3.25, 326.4 , 361.12, 395.84, 430.56, 465.28,\n",
       "       500.  ])"
      ]
     },
     "execution_count": 28,
     "metadata": {},
     "output_type": "execute_result"
    }
   ],
   "source": [
    "np.percentile(data,[25,50,75,95,96,97,98,99,100])"
   ]
  },
  {
   "cell_type": "code",
   "execution_count": 29,
   "id": "28759f25-a876-45ed-b81f-03e775f9d89a",
   "metadata": {},
   "outputs": [
    {
     "data": {
      "text/plain": [
       "[1, 2, 3, 3, 3, 3, 4, 500]"
      ]
     },
     "execution_count": 29,
     "metadata": {},
     "output_type": "execute_result"
    }
   ],
   "source": [
    "data"
   ]
  },
  {
   "cell_type": "code",
   "execution_count": 30,
   "id": "45c808bb-3264-49a7-9067-01be3627c499",
   "metadata": {},
   "outputs": [],
   "source": [
    "data.append(-500)"
   ]
  },
  {
   "cell_type": "code",
   "execution_count": 31,
   "id": "46b32419-ebd6-410a-bb79-18f8a9278540",
   "metadata": {},
   "outputs": [],
   "source": [
    "data=[1, 2, 3, 3, 3, 3, 4, 50, -20]"
   ]
  },
  {
   "cell_type": "code",
   "execution_count": 32,
   "id": "1e7936b1-33d6-4ea8-baf0-31ee57295ae6",
   "metadata": {},
   "outputs": [],
   "source": [
    "#Extreme value are outliers "
   ]
  },
  {
   "cell_type": "code",
   "execution_count": 33,
   "id": "3311a1c3-77aa-4edd-a979-0864e582f315",
   "metadata": {},
   "outputs": [],
   "source": [
    "# make a box plot to understand the outliers"
   ]
  },
  {
   "cell_type": "code",
   "execution_count": 34,
   "id": "159908d2-dc68-478e-9dd4-0b0890a0091b",
   "metadata": {},
   "outputs": [
    {
     "data": {
      "text/plain": [
       "<Axes: >"
      ]
     },
     "execution_count": 34,
     "metadata": {},
     "output_type": "execute_result"
    },
    {
     "data": {
      "image/png": "[encoded data removed]",
      "text/plain": [
       "<Figure size 640x480 with 1 Axes>"
      ]
     },
     "metadata": {},
     "output_type": "display_data"
    }
   ],
   "source": [
    "sns.boxplot(data)"
   ]
  },
  {
   "cell_type": "code",
   "execution_count": 35,
   "id": "35e6d829-da59-4286-b6d9-32eaa76c90e1",
   "metadata": {},
   "outputs": [],
   "source": [
    "# measure of dispersion  -- variance and standard deviation "
   ]
  },
  {
   "cell_type": "code",
   "execution_count": 36,
   "id": "76d02ea3-46ea-415d-8dd5-19ea5a008353",
   "metadata": {},
   "outputs": [],
   "source": [
    "data=[1, 2, 3, 3, 3, 3, 4, 20, -20]"
   ]
  },
  {
   "cell_type": "code",
   "execution_count": 37,
   "id": "efffbb19-2551-4865-9de0-af604d31c32e",
   "metadata": {},
   "outputs": [
    {
     "data": {
      "text/plain": [
       "90.76543209876543"
      ]
     },
     "execution_count": 37,
     "metadata": {},
     "output_type": "execute_result"
    }
   ],
   "source": [
    "np.var(data) # ------variance"
   ]
  },
  {
   "cell_type": "code",
   "execution_count": 38,
   "id": "ae2bcb9f-bf4e-435a-8065-8b45c346eaf5",
   "metadata": {},
   "outputs": [
    {
     "data": {
      "text/plain": [
       "9.527089382322673"
      ]
     },
     "execution_count": 38,
     "metadata": {},
     "output_type": "execute_result"
    }
   ],
   "source": [
    "np.std(data) #---standard deviation "
   ]
  },
  {
   "cell_type": "code",
   "execution_count": 39,
   "id": "9208eb92-dfbb-4322-9c6e-a99d858fa223",
   "metadata": {},
   "outputs": [
    {
     "data": {
      "text/plain": [
       "102.11111111111111"
      ]
     },
     "execution_count": 39,
     "metadata": {},
     "output_type": "execute_result"
    }
   ],
   "source": [
    "statistics.variance(data)  # sample variance (n-1)"
   ]
  },
  {
   "cell_type": "code",
   "execution_count": 40,
   "id": "fcb30d8a-50f3-4b5e-bb0c-b24b61206378",
   "metadata": {},
   "outputs": [],
   "source": [
    "# but there different value of data . why "
   ]
  },
  {
   "cell_type": "code",
   "execution_count": 41,
   "id": "ad72f56f-c075-4a6f-b87e-9c442c467b0a",
   "metadata": {},
   "outputs": [],
   "source": [
    "# Because using -- statistics.variance(data)   - it give sample variance . in statistics \n",
    "# it by-default give the sample variance "
   ]
  },
  {
   "cell_type": "code",
   "execution_count": 42,
   "id": "b293b75e-6d8a-4e72-a01f-9ada708564f1",
   "metadata": {},
   "outputs": [
    {
     "data": {
      "text/plain": [
       "90.76543209876543"
      ]
     },
     "execution_count": 42,
     "metadata": {},
     "output_type": "execute_result"
    }
   ],
   "source": [
    "statistics.pvariance(data) # population variance is similar to ---np.var(data)"
   ]
  },
  {
   "cell_type": "code",
   "execution_count": 43,
   "id": "65344563-0a9b-4875-914f-bc13014f488e",
   "metadata": {},
   "outputs": [
    {
     "data": {
      "text/plain": [
       "10.105004260816079"
      ]
     },
     "execution_count": 43,
     "metadata": {},
     "output_type": "execute_result"
    }
   ],
   "source": [
    "import math \n",
    "math.sqrt(statistics.variance(data))"
   ]
  },
  {
   "cell_type": "code",
   "execution_count": 44,
   "id": "cd1e8e79-8d8e-411d-af9e-02d6b1fcaad0",
   "metadata": {},
   "outputs": [
    {
     "data": {
      "text/plain": [
       "[1, 2, 3, 3, 3, 3, 4, 20, -20]"
      ]
     },
     "execution_count": 44,
     "metadata": {},
     "output_type": "execute_result"
    }
   ],
   "source": [
    "data"
   ]
  },
  {
   "cell_type": "code",
   "execution_count": 45,
   "id": "5938d7ee-2df5-441a-a754-ed40f36af9ca",
   "metadata": {},
   "outputs": [
    {
     "data": {
      "text/html": [
       "<div>\n",
       "<style scoped>\n",
       "    .dataframe tbody tr th:only-of-type {\n",
       "        vertical-align: middle;\n",
       "    }\n",
       "\n",
       "    .dataframe tbody tr th {\n",
       "        vertical-align: top;\n",
       "    }\n",
       "\n",
       "    .dataframe thead th {\n",
       "        text-align: right;\n",
       "    }\n",
       "</style>\n",
       "<table border=\"1\" class=\"dataframe\">\n",
       "  <thead>\n",
       "    <tr style=\"text-align: right;\">\n",
       "      <th></th>\n",
       "      <th>total_bill</th>\n",
       "      <th>tip</th>\n",
       "      <th>sex</th>\n",
       "      <th>smoker</th>\n",
       "      <th>day</th>\n",
       "      <th>time</th>\n",
       "      <th>size</th>\n",
       "    </tr>\n",
       "  </thead>\n",
       "  <tbody>\n",
       "    <tr>\n",
       "      <th>0</th>\n",
       "      <td>16.99</td>\n",
       "      <td>1.01</td>\n",
       "      <td>Female</td>\n",
       "      <td>No</td>\n",
       "      <td>Sun</td>\n",
       "      <td>Dinner</td>\n",
       "      <td>2</td>\n",
       "    </tr>\n",
       "    <tr>\n",
       "      <th>1</th>\n",
       "      <td>10.34</td>\n",
       "      <td>1.66</td>\n",
       "      <td>Male</td>\n",
       "      <td>No</td>\n",
       "      <td>Sun</td>\n",
       "      <td>Dinner</td>\n",
       "      <td>3</td>\n",
       "    </tr>\n",
       "    <tr>\n",
       "      <th>2</th>\n",
       "      <td>21.01</td>\n",
       "      <td>3.50</td>\n",
       "      <td>Male</td>\n",
       "      <td>No</td>\n",
       "      <td>Sun</td>\n",
       "      <td>Dinner</td>\n",
       "      <td>3</td>\n",
       "    </tr>\n",
       "    <tr>\n",
       "      <th>3</th>\n",
       "      <td>23.68</td>\n",
       "      <td>3.31</td>\n",
       "      <td>Male</td>\n",
       "      <td>No</td>\n",
       "      <td>Sun</td>\n",
       "      <td>Dinner</td>\n",
       "      <td>2</td>\n",
       "    </tr>\n",
       "    <tr>\n",
       "      <th>4</th>\n",
       "      <td>24.59</td>\n",
       "      <td>3.61</td>\n",
       "      <td>Female</td>\n",
       "      <td>No</td>\n",
       "      <td>Sun</td>\n",
       "      <td>Dinner</td>\n",
       "      <td>4</td>\n",
       "    </tr>\n",
       "    <tr>\n",
       "      <th>...</th>\n",
       "      <td>...</td>\n",
       "      <td>...</td>\n",
       "      <td>...</td>\n",
       "      <td>...</td>\n",
       "      <td>...</td>\n",
       "      <td>...</td>\n",
       "      <td>...</td>\n",
       "    </tr>\n",
       "    <tr>\n",
       "      <th>239</th>\n",
       "      <td>29.03</td>\n",
       "      <td>5.92</td>\n",
       "      <td>Male</td>\n",
       "      <td>No</td>\n",
       "      <td>Sat</td>\n",
       "      <td>Dinner</td>\n",
       "      <td>3</td>\n",
       "    </tr>\n",
       "    <tr>\n",
       "      <th>240</th>\n",
       "      <td>27.18</td>\n",
       "      <td>2.00</td>\n",
       "      <td>Female</td>\n",
       "      <td>Yes</td>\n",
       "      <td>Sat</td>\n",
       "      <td>Dinner</td>\n",
       "      <td>2</td>\n",
       "    </tr>\n",
       "    <tr>\n",
       "      <th>241</th>\n",
       "      <td>22.67</td>\n",
       "      <td>2.00</td>\n",
       "      <td>Male</td>\n",
       "      <td>Yes</td>\n",
       "      <td>Sat</td>\n",
       "      <td>Dinner</td>\n",
       "      <td>2</td>\n",
       "    </tr>\n",
       "    <tr>\n",
       "      <th>242</th>\n",
       "      <td>17.82</td>\n",
       "      <td>1.75</td>\n",
       "      <td>Male</td>\n",
       "      <td>No</td>\n",
       "      <td>Sat</td>\n",
       "      <td>Dinner</td>\n",
       "      <td>2</td>\n",
       "    </tr>\n",
       "    <tr>\n",
       "      <th>243</th>\n",
       "      <td>18.78</td>\n",
       "      <td>3.00</td>\n",
       "      <td>Female</td>\n",
       "      <td>No</td>\n",
       "      <td>Thur</td>\n",
       "      <td>Dinner</td>\n",
       "      <td>2</td>\n",
       "    </tr>\n",
       "  </tbody>\n",
       "</table>\n",
       "<p>244 rows × 7 columns</p>\n",
       "</div>"
      ],
      "text/plain": [
       "     total_bill   tip     sex smoker   day    time  size\n",
       "0         16.99  1.01  Female     No   Sun  Dinner     2\n",
       "1         10.34  1.66    Male     No   Sun  Dinner     3\n",
       "2         21.01  3.50    Male     No   Sun  Dinner     3\n",
       "3         23.68  3.31    Male     No   Sun  Dinner     2\n",
       "4         24.59  3.61  Female     No   Sun  Dinner     4\n",
       "..          ...   ...     ...    ...   ...     ...   ...\n",
       "239       29.03  5.92    Male     No   Sat  Dinner     3\n",
       "240       27.18  2.00  Female    Yes   Sat  Dinner     2\n",
       "241       22.67  2.00    Male    Yes   Sat  Dinner     2\n",
       "242       17.82  1.75    Male     No   Sat  Dinner     2\n",
       "243       18.78  3.00  Female     No  Thur  Dinner     2\n",
       "\n",
       "[244 rows x 7 columns]"
      ]
     },
     "execution_count": 45,
     "metadata": {},
     "output_type": "execute_result"
    }
   ],
   "source": [
    "df"
   ]
  },
  {
   "cell_type": "code",
   "execution_count": 46,
   "id": "a8d02541-2f3f-4d77-8b5b-b2471870ff67",
   "metadata": {},
   "outputs": [],
   "source": [
    "# how to known the relationship  between  two features \n",
    "# correlation and covariance"
   ]
  },
  {
   "cell_type": "code",
   "execution_count": 47,
   "id": "57844191-2988-4267-a9b3-2fe68988c913",
   "metadata": {},
   "outputs": [],
   "source": [
    "corr=df[['total_bill','tip','size']].corr()"
   ]
  },
  {
   "cell_type": "code",
   "execution_count": 48,
   "id": "b1f8fbb0-caf0-4064-8f35-c3a29fba898a",
   "metadata": {},
   "outputs": [
    {
     "data": {
      "text/html": [
       "<div>\n",
       "<style scoped>\n",
       "    .dataframe tbody tr th:only-of-type {\n",
       "        vertical-align: middle;\n",
       "    }\n",
       "\n",
       "    .dataframe tbody tr th {\n",
       "        vertical-align: top;\n",
       "    }\n",
       "\n",
       "    .dataframe thead th {\n",
       "        text-align: right;\n",
       "    }\n",
       "</style>\n",
       "<table border=\"1\" class=\"dataframe\">\n",
       "  <thead>\n",
       "    <tr style=\"text-align: right;\">\n",
       "      <th></th>\n",
       "      <th>total_bill</th>\n",
       "      <th>tip</th>\n",
       "      <th>size</th>\n",
       "    </tr>\n",
       "  </thead>\n",
       "  <tbody>\n",
       "    <tr>\n",
       "      <th>total_bill</th>\n",
       "      <td>1.000000</td>\n",
       "      <td>0.675734</td>\n",
       "      <td>0.598315</td>\n",
       "    </tr>\n",
       "    <tr>\n",
       "      <th>tip</th>\n",
       "      <td>0.675734</td>\n",
       "      <td>1.000000</td>\n",
       "      <td>0.489299</td>\n",
       "    </tr>\n",
       "    <tr>\n",
       "      <th>size</th>\n",
       "      <td>0.598315</td>\n",
       "      <td>0.489299</td>\n",
       "      <td>1.000000</td>\n",
       "    </tr>\n",
       "  </tbody>\n",
       "</table>\n",
       "</div>"
      ],
      "text/plain": [
       "            total_bill       tip      size\n",
       "total_bill    1.000000  0.675734  0.598315\n",
       "tip           0.675734  1.000000  0.489299\n",
       "size          0.598315  0.489299  1.000000"
      ]
     },
     "execution_count": 48,
     "metadata": {},
     "output_type": "execute_result"
    }
   ],
   "source": [
    "corr"
   ]
  },
  {
   "cell_type": "code",
   "execution_count": 49,
   "id": "246042d5-94ac-4161-84f8-d31fa4049dc5",
   "metadata": {},
   "outputs": [
    {
     "data": {
      "text/html": [
       "<div>\n",
       "<style scoped>\n",
       "    .dataframe tbody tr th:only-of-type {\n",
       "        vertical-align: middle;\n",
       "    }\n",
       "\n",
       "    .dataframe tbody tr th {\n",
       "        vertical-align: top;\n",
       "    }\n",
       "\n",
       "    .dataframe thead th {\n",
       "        text-align: right;\n",
       "    }\n",
       "</style>\n",
       "<table border=\"1\" class=\"dataframe\">\n",
       "  <thead>\n",
       "    <tr style=\"text-align: right;\">\n",
       "      <th></th>\n",
       "      <th>total_bill</th>\n",
       "      <th>tip</th>\n",
       "      <th>size</th>\n",
       "    </tr>\n",
       "  </thead>\n",
       "  <tbody>\n",
       "    <tr>\n",
       "      <th>total_bill</th>\n",
       "      <td>1.000000</td>\n",
       "      <td>0.675734</td>\n",
       "      <td>0.598315</td>\n",
       "    </tr>\n",
       "    <tr>\n",
       "      <th>tip</th>\n",
       "      <td>0.675734</td>\n",
       "      <td>1.000000</td>\n",
       "      <td>0.489299</td>\n",
       "    </tr>\n",
       "    <tr>\n",
       "      <th>size</th>\n",
       "      <td>0.598315</td>\n",
       "      <td>0.489299</td>\n",
       "      <td>1.000000</td>\n",
       "    </tr>\n",
       "  </tbody>\n",
       "</table>\n",
       "</div>"
      ],
      "text/plain": [
       "            total_bill       tip      size\n",
       "total_bill    1.000000  0.675734  0.598315\n",
       "tip           0.675734  1.000000  0.489299\n",
       "size          0.598315  0.489299  1.000000"
      ]
     },
     "execution_count": 49,
     "metadata": {},
     "output_type": "execute_result"
    }
   ],
   "source": [
    "df.corr(numeric_only=True)"
   ]
  },
  {
   "cell_type": "code",
   "execution_count": 50,
   "id": "eb507405-22ba-4d0f-9ba2-71aa81cff876",
   "metadata": {},
   "outputs": [],
   "source": [
    "# if there is one unit increase in total bill then there is 67 percent chance that tip will increase in  tip"
   ]
  },
  {
   "cell_type": "code",
   "execution_count": 51,
   "id": "180a4fdd-301b-4736-a5a0-59ff337a39df",
   "metadata": {},
   "outputs": [
    {
     "data": {
      "text/plain": [
       "<Axes: >"
      ]
     },
     "execution_count": 51,
     "metadata": {},
     "output_type": "execute_result"
    },
    {
     "data": {
      "image/png": "[encoded data removed]",
      "text/plain": [
       "<Figure size 640x480 with 2 Axes>"
      ]
     },
     "metadata": {},
     "output_type": "display_data"
    }
   ],
   "source": [
    "sns.heatmap(corr, annot = True)\n",
    " "
   ]
  },
  {
   "cell_type": "code",
   "execution_count": 52,
   "id": "359f4831-b506-4f82-9591-94283fe0472e",
   "metadata": {},
   "outputs": [],
   "source": [
    "cooo=df.cov(numeric_only=True)"
   ]
  },
  {
   "cell_type": "code",
   "execution_count": 53,
   "id": "c2ce33bf-cf3e-436d-9ef3-288b10c8cbe3",
   "metadata": {},
   "outputs": [
    {
     "data": {
      "text/html": [
       "<div>\n",
       "<style scoped>\n",
       "    .dataframe tbody tr th:only-of-type {\n",
       "        vertical-align: middle;\n",
       "    }\n",
       "\n",
       "    .dataframe tbody tr th {\n",
       "        vertical-align: top;\n",
       "    }\n",
       "\n",
       "    .dataframe thead th {\n",
       "        text-align: right;\n",
       "    }\n",
       "</style>\n",
       "<table border=\"1\" class=\"dataframe\">\n",
       "  <thead>\n",
       "    <tr style=\"text-align: right;\">\n",
       "      <th></th>\n",
       "      <th>total_bill</th>\n",
       "      <th>tip</th>\n",
       "      <th>size</th>\n",
       "    </tr>\n",
       "  </thead>\n",
       "  <tbody>\n",
       "    <tr>\n",
       "      <th>total_bill</th>\n",
       "      <td>79.252939</td>\n",
       "      <td>8.323502</td>\n",
       "      <td>5.065983</td>\n",
       "    </tr>\n",
       "    <tr>\n",
       "      <th>tip</th>\n",
       "      <td>8.323502</td>\n",
       "      <td>1.914455</td>\n",
       "      <td>0.643906</td>\n",
       "    </tr>\n",
       "    <tr>\n",
       "      <th>size</th>\n",
       "      <td>5.065983</td>\n",
       "      <td>0.643906</td>\n",
       "      <td>0.904591</td>\n",
       "    </tr>\n",
       "  </tbody>\n",
       "</table>\n",
       "</div>"
      ],
      "text/plain": [
       "            total_bill       tip      size\n",
       "total_bill   79.252939  8.323502  5.065983\n",
       "tip           8.323502  1.914455  0.643906\n",
       "size          5.065983  0.643906  0.904591"
      ]
     },
     "execution_count": 53,
     "metadata": {},
     "output_type": "execute_result"
    }
   ],
   "source": [
    "cooo"
   ]
  },
  {
   "cell_type": "code",
   "execution_count": 54,
   "id": "a3574224-b988-45fe-b99a-37f07792ef32",
   "metadata": {},
   "outputs": [
    {
     "data": {
      "text/plain": [
       "<Axes: >"
      ]
     },
     "execution_count": 54,
     "metadata": {},
     "output_type": "execute_result"
    },
    {
     "data": {
      "image/png": "[encoded data removed]",
      "text/plain": [
       "<Figure size 640x480 with 2 Axes>"
      ]
     },
     "metadata": {},
     "output_type": "display_data"
    }
   ],
   "source": [
    "sns.heatmap(cooo, annot=True)"
   ]
  },
  {
   "cell_type": "code",
   "execution_count": 55,
   "id": "d411093c-07a4-4e8e-8518-a1ce26bddeb9",
   "metadata": {},
   "outputs": [
    {
     "name": "stderr",
     "output_type": "stream",
     "text": [
      "/opt/anaconda3/lib/python3.11/site-packages/seaborn/_oldcore.py:1119: FutureWarning: use_inf_as_na option is deprecated and will be removed in a future version. Convert inf values to NaN before operating instead.\n",
      "  with pd.option_context('mode.use_inf_as_na', True):\n",
      "/opt/anaconda3/lib/python3.11/site-packages/seaborn/_oldcore.py:1119: FutureWarning: use_inf_as_na option is deprecated and will be removed in a future version. Convert inf values to NaN before operating instead.\n",
      "  with pd.option_context('mode.use_inf_as_na', True):\n",
      "/opt/anaconda3/lib/python3.11/site-packages/seaborn/_oldcore.py:1119: FutureWarning: use_inf_as_na option is deprecated and will be removed in a future version. Convert inf values to NaN before operating instead.\n",
      "  with pd.option_context('mode.use_inf_as_na', True):\n"
     ]
    },
    {
     "data": {
      "text/plain": [
       "<seaborn.axisgrid.PairGrid at 0x174c4d5d0>"
      ]
     },
     "execution_count": 55,
     "metadata": {},
     "output_type": "execute_result"
    },
    {
     "data": {
      "image/png": "[encoded data removed]",
      "text/plain": [
       "<Figure size 750x750 with 12 Axes>"
      ]
     },
     "metadata": {},
     "output_type": "display_data"
    }
   ],
   "source": [
    "sns.pairplot(df)"
   ]
  },
  {
   "cell_type": "code",
   "execution_count": 56,
   "id": "c24221f8-3669-4ed5-a00b-052e57204997",
   "metadata": {},
   "outputs": [
    {
     "name": "stderr",
     "output_type": "stream",
     "text": [
      "/opt/anaconda3/lib/python3.11/site-packages/seaborn/_oldcore.py:1119: FutureWarning: use_inf_as_na option is deprecated and will be removed in a future version. Convert inf values to NaN before operating instead.\n",
      "  with pd.option_context('mode.use_inf_as_na', True):\n"
     ]
    },
    {
     "data": {
      "text/plain": [
       "<Axes: ylabel='Count'>"
      ]
     },
     "execution_count": 56,
     "metadata": {},
     "output_type": "execute_result"
    },
    {
     "data": {
      "image/png": "[encoded data removed]",
      "text/plain": [
       "<Figure size 640x480 with 1 Axes>"
      ]
     },
     "metadata": {},
     "output_type": "display_data"
    }
   ],
   "source": [
    "sns.histplot(data, kde=True)"
   ]
  },
  {
   "cell_type": "code",
   "execution_count": 57,
   "id": "2372c9cf-7f2e-4bb1-86d1-be4769f182e6",
   "metadata": {},
   "outputs": [
    {
     "data": {
      "text/plain": [
       "0      16.99\n",
       "1      10.34\n",
       "2      21.01\n",
       "3      23.68\n",
       "4      24.59\n",
       "       ...  \n",
       "239    29.03\n",
       "240    27.18\n",
       "241    22.67\n",
       "242    17.82\n",
       "243    18.78\n",
       "Name: total_bill, Length: 244, dtype: float64"
      ]
     },
     "execution_count": 57,
     "metadata": {},
     "output_type": "execute_result"
    }
   ],
   "source": [
    "df['total_bill']"
   ]
  },
  {
   "cell_type": "code",
   "execution_count": 58,
   "id": "3aa4ed3f-c09b-4681-9d61-b3a746d034fc",
   "metadata": {},
   "outputs": [
    {
     "name": "stderr",
     "output_type": "stream",
     "text": [
      "/opt/anaconda3/lib/python3.11/site-packages/seaborn/_oldcore.py:1119: FutureWarning: use_inf_as_na option is deprecated and will be removed in a future version. Convert inf values to NaN before operating instead.\n",
      "  with pd.option_context('mode.use_inf_as_na', True):\n"
     ]
    },
    {
     "data": {
      "text/plain": [
       "<Axes: xlabel='total_bill', ylabel='Count'>"
      ]
     },
     "execution_count": 58,
     "metadata": {},
     "output_type": "execute_result"
    },
    {
     "data": {
      "image/png": "[encoded data removed]",
      "text/plain": [
       "<Figure size 640x480 with 1 Axes>"
      ]
     },
     "metadata": {},
     "output_type": "display_data"
    }
   ],
   "source": [
    "sns.histplot(df['total_bill'],kde=True)"
   ]
  },
  {
   "cell_type": "code",
   "execution_count": 59,
   "id": "811e8bc7-d330-44c9-9363-43d45dfa217e",
   "metadata": {},
   "outputs": [],
   "source": [
    "data1=np.random.normal(0.5,0.2,1000)"
   ]
  },
  {
   "cell_type": "code",
   "execution_count": 60,
   "id": "03350083-a408-43e3-a1a7-11d6106c8adc",
   "metadata": {},
   "outputs": [
    {
     "name": "stderr",
     "output_type": "stream",
     "text": [
      "/var/folders/zj/f5qj3syd2556jqx5zlcjl4380000gn/T/ipykernel_94809/1727590720.py:1: UserWarning: \n",
      "\n",
      "`distplot` is a deprecated function and will be removed in seaborn v0.14.0.\n",
      "\n",
      "Please adapt your code to use either `displot` (a figure-level function with\n",
      "similar flexibility) or `histplot` (an axes-level function for histograms).\n",
      "\n",
      "For a guide to updating your code to use the new functions, please see\n",
      "https://gist.github.com/mwaskom/de44147ed2974457ad6372750bbe5751\n",
      "\n",
      "  sns.distplot(data1)\n",
      "/opt/anaconda3/lib/python3.11/site-packages/seaborn/_oldcore.py:1119: FutureWarning: use_inf_as_na option is deprecated and will be removed in a future version. Convert inf values to NaN before operating instead.\n",
      "  with pd.option_context('mode.use_inf_as_na', True):\n"
     ]
    },
    {
     "data": {
      "text/plain": [
       "<Axes: ylabel='Density'>"
      ]
     },
     "execution_count": 60,
     "metadata": {},
     "output_type": "execute_result"
    },
    {
     "data": {
      "image/png": "[encoded data removed]",
      "text/plain": [
       "<Figure size 640x480 with 1 Axes>"
      ]
     },
     "metadata": {},
     "output_type": "display_data"
    }
   ],
   "source": [
    "sns.distplot(data1)"
   ]
  },
  {
   "cell_type": "code",
   "execution_count": 61,
   "id": "93a2661d-26ca-4f17-9c86-abe8946009ba",
   "metadata": {},
   "outputs": [],
   "source": [
    "population = np.random.randint(10,20,50)"
   ]
  },
  {
   "cell_type": "code",
   "execution_count": 62,
   "id": "aec42cb1-3037-417e-a227-7d810ddb92df",
   "metadata": {},
   "outputs": [
    {
     "data": {
      "text/plain": [
       "array([17, 18, 19, 19, 17, 19, 12, 12, 11, 18, 19, 11, 14, 13, 13, 13, 16,\n",
       "       10, 17, 11, 16, 14, 15, 16, 18, 10, 17, 12, 12, 14, 14, 18, 17, 19,\n",
       "       19, 14, 15, 18, 13, 18, 18, 12, 14, 17, 12, 10, 19, 11, 15, 16])"
      ]
     },
     "execution_count": 62,
     "metadata": {},
     "output_type": "execute_result"
    }
   ],
   "source": [
    "population"
   ]
  },
  {
   "cell_type": "code",
   "execution_count": 63,
   "id": "f019915f-16ac-4d65-987d-24a89cb8e6aa",
   "metadata": {},
   "outputs": [
    {
     "data": {
      "text/plain": [
       "50"
      ]
     },
     "execution_count": 63,
     "metadata": {},
     "output_type": "execute_result"
    }
   ],
   "source": [
    "len(population)"
   ]
  },
  {
   "cell_type": "code",
   "execution_count": 64,
   "id": "4adc6e80-1ca2-4f52-95b4-7e6ff5881553",
   "metadata": {},
   "outputs": [
    {
     "data": {
      "text/plain": [
       "18"
      ]
     },
     "execution_count": 64,
     "metadata": {},
     "output_type": "execute_result"
    }
   ],
   "source": [
    "statistics.mode(population)"
   ]
  },
  {
   "cell_type": "code",
   "execution_count": 65,
   "id": "c066d3b5-cc12-447e-b123-c7113c4ec29d",
   "metadata": {},
   "outputs": [
    {
     "data": {
      "text/plain": [
       "15.04"
      ]
     },
     "execution_count": 65,
     "metadata": {},
     "output_type": "execute_result"
    }
   ],
   "source": [
    "np.mean(population)"
   ]
  },
  {
   "cell_type": "code",
   "execution_count": 66,
   "id": "1cb7e1f2-e538-4749-adc5-02495e89ba45",
   "metadata": {},
   "outputs": [],
   "source": [
    "# if from this population i want select some random  20 data points "
   ]
  },
  {
   "cell_type": "code",
   "execution_count": 67,
   "id": "c626f291-a133-454f-84ac-caee930864a9",
   "metadata": {},
   "outputs": [],
   "source": [
    "sample1=np.random.choice(population,20)\n",
    "sample2=np.random.choice(population,20)\n",
    "sample3=np.random.choice(population,20)\n",
    "sample4=np.random.choice(population,20)"
   ]
  },
  {
   "cell_type": "code",
   "execution_count": 68,
   "id": "82012c69-22eb-45d3-a4de-647e54f58c73",
   "metadata": {},
   "outputs": [
    {
     "data": {
      "text/plain": [
       "array([15, 11, 15, 16, 17, 17, 18, 16, 10, 18, 16, 13, 16, 10, 17, 11, 17,\n",
       "       10, 14, 19])"
      ]
     },
     "execution_count": 68,
     "metadata": {},
     "output_type": "execute_result"
    }
   ],
   "source": [
    "sample1"
   ]
  },
  {
   "cell_type": "code",
   "execution_count": 69,
   "id": "518f8cba-95b6-4497-a7f5-786e52f70347",
   "metadata": {},
   "outputs": [
    {
     "data": {
      "text/plain": [
       "array([10, 16, 12, 19, 14, 14, 14, 19, 14, 12, 19, 14, 17, 14, 18, 15, 10,\n",
       "       14, 15, 18])"
      ]
     },
     "execution_count": 69,
     "metadata": {},
     "output_type": "execute_result"
    }
   ],
   "source": [
    "sample2"
   ]
  },
  {
   "cell_type": "code",
   "execution_count": 70,
   "id": "3fb02197-3b6c-4ca8-beb6-d965eaec8d47",
   "metadata": {},
   "outputs": [
    {
     "data": {
      "text/plain": [
       "array([18, 17, 10, 14, 19, 14, 10, 14, 17, 19, 18, 13, 19, 10, 17, 12, 19,\n",
       "       18, 16, 12])"
      ]
     },
     "execution_count": 70,
     "metadata": {},
     "output_type": "execute_result"
    }
   ],
   "source": [
    "sample3"
   ]
  },
  {
   "cell_type": "code",
   "execution_count": 71,
   "id": "10658a45-c183-44ab-8f0c-0e869b787e5e",
   "metadata": {},
   "outputs": [
    {
     "data": {
      "text/plain": [
       "array([12, 19, 11, 18, 18, 12, 19, 14, 10, 18, 16, 12, 14, 13, 15, 12, 15,\n",
       "       11, 12, 16])"
      ]
     },
     "execution_count": 71,
     "metadata": {},
     "output_type": "execute_result"
    }
   ],
   "source": [
    "sample4"
   ]
  },
  {
   "cell_type": "code",
   "execution_count": 72,
   "id": "126ac086-c1d8-41a4-9bda-95a2d827124c",
   "metadata": {},
   "outputs": [],
   "source": [
    "# calculate the mean of each sample"
   ]
  },
  {
   "cell_type": "code",
   "execution_count": 73,
   "id": "5ed8cb44-9b94-4af0-96d1-3fcaaee2350c",
   "metadata": {},
   "outputs": [],
   "source": [
    "mean_of_samples=[]\n",
    "all_sample=[sample1, sample2, sample3, sample4]\n",
    "for sample in all_sample:\n",
    "    mean_of_samples.append(np.mean(sample))"
   ]
  },
  {
   "cell_type": "code",
   "execution_count": 74,
   "id": "1cc42ec6-e22f-4b9f-9be4-3d1a71761321",
   "metadata": {},
   "outputs": [
    {
     "data": {
      "text/plain": [
       "[14.8, 14.9, 15.3, 14.35]"
      ]
     },
     "execution_count": 74,
     "metadata": {},
     "output_type": "execute_result"
    }
   ],
   "source": [
    "mean_of_samples"
   ]
  },
  {
   "cell_type": "code",
   "execution_count": 75,
   "id": "a447bd48-6c2e-40a4-8ec6-530191f31cbd",
   "metadata": {},
   "outputs": [],
   "source": [
    "# central limit theorem >>  for amy distribution the sample mean will be approximated to normal distribution\n",
    "# given size >=30 and number of samples should be sufficiently large"
   ]
  },
  {
   "cell_type": "code",
   "execution_count": 76,
   "id": "087aaa32-14b7-4451-813e-dfdb15724adf",
   "metadata": {},
   "outputs": [],
   "source": [
    "#binomial distribution data"
   ]
  },
  {
   "cell_type": "code",
   "execution_count": 77,
   "id": "9b5d0209-635b-4335-a4e7-ea7ef252532c",
   "metadata": {},
   "outputs": [],
   "source": [
    "population = np.random.binomial(10,0.5,10000)"
   ]
  },
  {
   "cell_type": "code",
   "execution_count": 78,
   "id": "ae214a04-c526-4f03-9586-249abf560637",
   "metadata": {},
   "outputs": [
    {
     "data": {
      "text/plain": [
       "array([10,  1,  5, ...,  5,  6,  4])"
      ]
     },
     "execution_count": 78,
     "metadata": {},
     "output_type": "execute_result"
    }
   ],
   "source": [
    "population"
   ]
  },
  {
   "cell_type": "code",
   "execution_count": 79,
   "id": "760eccb2-73ba-42a1-90e6-1c5b2d1f79fd",
   "metadata": {},
   "outputs": [
    {
     "name": "stderr",
     "output_type": "stream",
     "text": [
      "/var/folders/zj/f5qj3syd2556jqx5zlcjl4380000gn/T/ipykernel_94809/2958836585.py:1: UserWarning: \n",
      "\n",
      "`distplot` is a deprecated function and will be removed in seaborn v0.14.0.\n",
      "\n",
      "Please adapt your code to use either `displot` (a figure-level function with\n",
      "similar flexibility) or `histplot` (an axes-level function for histograms).\n",
      "\n",
      "For a guide to updating your code to use the new functions, please see\n",
      "https://gist.github.com/mwaskom/de44147ed2974457ad6372750bbe5751\n",
      "\n",
      "  sns.distplot(population)\n",
      "/opt/anaconda3/lib/python3.11/site-packages/seaborn/_oldcore.py:1119: FutureWarning: use_inf_as_na option is deprecated and will be removed in a future version. Convert inf values to NaN before operating instead.\n",
      "  with pd.option_context('mode.use_inf_as_na', True):\n"
     ]
    },
    {
     "data": {
      "text/plain": [
       "<Axes: ylabel='Density'>"
      ]
     },
     "execution_count": 79,
     "metadata": {},
     "output_type": "execute_result"
    },
    {
     "data": {
      "image/png": "[encoded data removed]",
      "text/plain": [
       "<Figure size 640x480 with 1 Axes>"
      ]
     },
     "metadata": {},
     "output_type": "display_data"
    }
   ],
   "source": [
    "sns.distplot(population)"
   ]
  },
  {
   "cell_type": "code",
   "execution_count": 80,
   "id": "94a6e3be-c75e-47a1-80f0-880b72af339c",
   "metadata": {},
   "outputs": [],
   "source": [
    "sample_size=3000\n",
    "mean_of_samples=[]\n",
    "for i in range (1,10000):\n",
    "    sample=np.random.choice(population,size= sample_size)\n",
    "    mean_of_samples.append(np.mean(sample))"
   ]
  },
  {
   "cell_type": "code",
   "execution_count": 81,
   "id": "68aab052-e0b9-4bb7-ac98-31efa01751aa",
   "metadata": {},
   "outputs": [
    {
     "data": {
      "text/plain": [
       "[4.988333333333333,\n",
       " 5.063,\n",
       " 5.019666666666667,\n",
       " 5.026,\n",
       " 5.011333333333333,\n",
       " 5.0263333333333335,\n",
       " 5.0343333333333335,\n",
       " 5.074666666666666,\n",
       " 5.002,\n",
       " 5.044,\n",
       " 4.960333333333334,\n",
       " 5.051,\n",
       " 4.992333333333334,\n",
       " 4.995666666666667,\n",
       " 5.031666666666666,\n",
       " 5.043666666666667,\n",
       " 5.0023333333333335,\n",
       " 5.009666666666667,\n",
       " 5.006666666666667,\n",
       " 5.063666666666666,\n",
       " 5.034,\n",
       " 5.017,\n",
       " 5.016,\n",
       " 5.04,\n",
       " 5.082333333333334,\n",
       " 4.956666666666667,\n",
       " 5.001,\n",
       " 5.039666666666666,\n",
       " 5.043333333333333,\n",
       " 5.0216666666666665,\n",
       " 4.981333333333334,\n",
       " 4.984,\n",
       " 5.017,\n",
       " 5.001666666666667,\n",
       " 5.024666666666667,\n",
       " 5.046,\n",
       " 4.982666666666667,\n",
       " 5.031,\n",
       " 5.058,\n",
       " 5.003333333333333,\n",
       " 5.006,\n",
       " 5.0216666666666665,\n",
       " 5.085,\n",
       " 5.007,\n",
       " 5.081333333333333,\n",
       " 5.019666666666667,\n",
       " 5.038333333333333,\n",
       " 5.004666666666667,\n",
       " 5.059333333333333,\n",
       " 5.038,\n",
       " 5.075333333333333,\n",
       " 4.976666666666667,\n",
       " 5.009666666666667,\n",
       " 5.016,\n",
       " 5.028333333333333,\n",
       " 5.001666666666667,\n",
       " 4.991,\n",
       " 5.008333333333334,\n",
       " 5.011666666666667,\n",
       " 5.009333333333333,\n",
       " 5.044,\n",
       " 5.042666666666666,\n",
       " 4.998666666666667,\n",
       " 5.05,\n",
       " 5.046,\n",
       " 4.987666666666667,\n",
       " 5.036333333333333,\n",
       " 4.988,\n",
       " 5.034,\n",
       " 4.964333333333333,\n",
       " 5.038,\n",
       " 5.020666666666667,\n",
       " 5.009,\n",
       " 5.033333333333333,\n",
       " 5.008666666666667,\n",
       " 4.9976666666666665,\n",
       " 5.083333333333333,\n",
       " 4.9816666666666665,\n",
       " 4.972,\n",
       " 5.010666666666666,\n",
       " 5.023,\n",
       " 4.995,\n",
       " 5.038,\n",
       " 5.035666666666667,\n",
       " 5.066666666666666,\n",
       " 5.010666666666666,\n",
       " 5.0473333333333334,\n",
       " 5.057666666666667,\n",
       " 4.977666666666667,\n",
       " 5.033666666666667,\n",
       " 5.065333333333333,\n",
       " 5.026666666666666,\n",
       " 4.972,\n",
       " 5.068333333333333,\n",
       " 5.000666666666667,\n",
       " 5.022333333333333,\n",
       " 4.949,\n",
       " 5.050333333333334,\n",
       " 4.9976666666666665,\n",
       " 5.008333333333334,\n",
       " 5.041333333333333,\n",
       " 5.081666666666667,\n",
       " 5.022666666666667,\n",
       " 4.981,\n",
       " 5.094666666666667,\n",
       " 5.036,\n",
       " 5.023,\n",
       " 5.024666666666667,\n",
       " 5.033,\n",
       " 4.991333333333333,\n",
       " 5.076,\n",
       " 5.018,\n",
       " 4.985,\n",
       " 5.067333333333333,\n",
       " 4.999666666666666,\n",
       " 4.993666666666667,\n",
       " 5.023,\n",
       " 5.014666666666667,\n",
       " 4.991333333333333,\n",
       " 5.017333333333333,\n",
       " 5.070333333333333,\n",
       " 5.002,\n",
       " 5.041666666666667,\n",
       " 5.045,\n",
       " 5.052666666666667,\n",
       " 4.9736666666666665,\n",
       " 5.009,\n",
       " 5.065666666666667,\n",
       " 5.031,\n",
       " 5.098,\n",
       " 5.028333333333333,\n",
       " 5.056,\n",
       " 5.084666666666666,\n",
       " 5.0136666666666665,\n",
       " 5.007666666666666,\n",
       " 5.003333333333333,\n",
       " 5.011333333333333,\n",
       " 4.999666666666666,\n",
       " 5.020666666666667,\n",
       " 5.043666666666667,\n",
       " 5.025,\n",
       " 4.999333333333333,\n",
       " 5.073666666666667,\n",
       " 4.990666666666667,\n",
       " 4.997,\n",
       " 5.020666666666667,\n",
       " 5.016333333333334,\n",
       " 5.027,\n",
       " 4.994,\n",
       " 5.046666666666667,\n",
       " 5.013,\n",
       " 5.005,\n",
       " 5.0183333333333335,\n",
       " 4.968666666666667,\n",
       " 5.017666666666667,\n",
       " 4.981,\n",
       " 5.028666666666667,\n",
       " 4.99,\n",
       " 5.035666666666667,\n",
       " 5.038333333333333,\n",
       " 4.997333333333334,\n",
       " 5.062666666666667,\n",
       " 5.04,\n",
       " 5.017,\n",
       " 5.012,\n",
       " 4.998,\n",
       " 4.964333333333333,\n",
       " 5.022333333333333,\n",
       " 5.048,\n",
       " 5.043333333333333,\n",
       " 4.941666666666666,\n",
       " 4.996333333333333,\n",
       " 4.986666666666666,\n",
       " 5.066333333333334,\n",
       " 5.047,\n",
       " 4.998,\n",
       " 5.03,\n",
       " 5.015333333333333,\n",
       " 5.024666666666667,\n",
       " 5.029333333333334,\n",
       " 5.026666666666666,\n",
       " 5.028,\n",
       " 5.040333333333334,\n",
       " 5.024333333333334,\n",
       " 5.0103333333333335,\n",
       " 5.016333333333334,\n",
       " 5.008333333333334,\n",
       " 5.007666666666666,\n",
       " 4.992333333333334,\n",
       " 5.008333333333334,\n",
       " 5.016666666666667,\n",
       " 4.967666666666666,\n",
       " 4.999333333333333,\n",
       " 5.024333333333334,\n",
       " 4.999,\n",
       " 5.042333333333334,\n",
       " 4.995,\n",
       " 4.985,\n",
       " 5.058333333333334,\n",
       " 5.009,\n",
       " 5.025,\n",
       " 4.983666666666666,\n",
       " 5.003,\n",
       " 4.9863333333333335,\n",
       " 5.049333333333333,\n",
       " 5.014,\n",
       " 5.0263333333333335,\n",
       " 4.955,\n",
       " 4.993333333333333,\n",
       " 5.011333333333333,\n",
       " 5.011333333333333,\n",
       " 5.046333333333333,\n",
       " 5.015333333333333,\n",
       " 5.012,\n",
       " 5.033666666666667,\n",
       " 5.010666666666666,\n",
       " 4.994,\n",
       " 5.017666666666667,\n",
       " 5.013333333333334,\n",
       " 4.966333333333333,\n",
       " 5.0553333333333335,\n",
       " 4.984,\n",
       " 5.05,\n",
       " 4.975666666666666,\n",
       " 5.05,\n",
       " 4.997,\n",
       " 5.089,\n",
       " 5.006,\n",
       " 5.027333333333333,\n",
       " 4.998666666666667,\n",
       " 4.982,\n",
       " 5.020333333333333,\n",
       " 5.015666666666666,\n",
       " 5.022666666666667,\n",
       " 5.042666666666666,\n",
       " 5.100666666666666,\n",
       " 5.031666666666666,\n",
       " 5.054666666666667,\n",
       " 5.04,\n",
       " 5.059333333333333,\n",
       " 4.98,\n",
       " 4.987666666666667,\n",
       " 4.9783333333333335,\n",
       " 5.016,\n",
       " 5.021333333333334,\n",
       " 5.064,\n",
       " 4.957666666666666,\n",
       " 5.019333333333333,\n",
       " 5.013333333333334,\n",
       " 5.083666666666667,\n",
       " 5.0536666666666665,\n",
       " 5.018666666666666,\n",
       " 5.005333333333334,\n",
       " 5.071666666666666,\n",
       " 5.0183333333333335,\n",
       " 5.049333333333333,\n",
       " 5.0183333333333335,\n",
       " 5.015,\n",
       " 4.9896666666666665,\n",
       " 4.976666666666667,\n",
       " 5.008666666666667,\n",
       " 5.030333333333333,\n",
       " 4.968,\n",
       " 5.02,\n",
       " 5.0263333333333335,\n",
       " 4.986,\n",
       " 5.032333333333334,\n",
       " 5.131333333333333,\n",
       " 5.040333333333334,\n",
       " 5.026666666666666,\n",
       " 4.99,\n",
       " 5.022666666666667,\n",
       " 5.007666666666666,\n",
       " 5.02,\n",
       " 5.014,\n",
       " 5.0473333333333334,\n",
       " 5.016,\n",
       " 4.998666666666667,\n",
       " 4.996666666666667,\n",
       " 5.0216666666666665,\n",
       " 5.018,\n",
       " 5.025333333333333,\n",
       " 4.987,\n",
       " 5.0263333333333335,\n",
       " 5.034666666666666,\n",
       " 5.040666666666667,\n",
       " 4.996,\n",
       " 5.022666666666667,\n",
       " 5.015666666666666,\n",
       " 4.975666666666666,\n",
       " 5.015666666666666,\n",
       " 5.013,\n",
       " 5.01,\n",
       " 5.018666666666666,\n",
       " 4.968333333333334,\n",
       " 5.041666666666667,\n",
       " 4.997333333333334,\n",
       " 5.026,\n",
       " 4.995666666666667,\n",
       " 5.048,\n",
       " 4.998666666666667,\n",
       " 5.025666666666667,\n",
       " 5.019,\n",
       " 4.988333333333333,\n",
       " 5.030333333333333,\n",
       " 5.004333333333333,\n",
       " 5.007333333333333,\n",
       " 4.993333333333333,\n",
       " 4.994,\n",
       " 5.0216666666666665,\n",
       " 5.003,\n",
       " 5.033333333333333,\n",
       " 4.982666666666667,\n",
       " 5.0473333333333334,\n",
       " 4.982,\n",
       " 5.025,\n",
       " 5.059,\n",
       " 5.015333333333333,\n",
       " 5.015,\n",
       " 5.004666666666667,\n",
       " 4.996333333333333,\n",
       " 5.073333333333333,\n",
       " 5.030333333333333,\n",
       " 5.023333333333333,\n",
       " 4.991666666666666,\n",
       " 5.040666666666667,\n",
       " 5.023333333333333,\n",
       " 4.999666666666666,\n",
       " 5.023666666666666,\n",
       " 5.017,\n",
       " 5.008333333333334,\n",
       " 5.053,\n",
       " 5.017666666666667,\n",
       " 5.046666666666667,\n",
       " 5.040333333333334,\n",
       " 5.033,\n",
       " 4.952,\n",
       " 5.003,\n",
       " 5.006666666666667,\n",
       " 5.014666666666667,\n",
       " 5.028,\n",
       " 5.010666666666666,\n",
       " 5.026,\n",
       " 4.9736666666666665,\n",
       " 5.04,\n",
       " 5.055,\n",
       " 5.051,\n",
       " 5.002,\n",
       " 4.9896666666666665,\n",
       " 5.014,\n",
       " 5.036333333333333,\n",
       " 5.028,\n",
       " 5.008666666666667,\n",
       " 5.028666666666667,\n",
       " 4.995333333333333,\n",
       " 5.022666666666667,\n",
       " 5.0,\n",
       " 5.043333333333333,\n",
       " 5.046,\n",
       " 5.015333333333333,\n",
       " 5.039333333333333,\n",
       " 5.0296666666666665,\n",
       " 5.043,\n",
       " 5.026666666666666,\n",
       " 5.030666666666667,\n",
       " 5.010666666666666,\n",
       " 5.021333333333334,\n",
       " 5.036,\n",
       " 5.043,\n",
       " 5.028666666666667,\n",
       " 4.96,\n",
       " 5.033,\n",
       " 5.03,\n",
       " 5.017666666666667,\n",
       " 5.026666666666666,\n",
       " 5.064666666666667,\n",
       " 5.032333333333334,\n",
       " 5.0103333333333335,\n",
       " 4.967,\n",
       " 5.005333333333334,\n",
       " 4.979,\n",
       " 5.024,\n",
       " 5.003,\n",
       " 5.044333333333333,\n",
       " 5.025,\n",
       " 5.025333333333333,\n",
       " 5.009333333333333,\n",
       " 5.005,\n",
       " 5.032333333333334,\n",
       " 4.979333333333333,\n",
       " 5.039,\n",
       " 5.049333333333333,\n",
       " 4.993666666666667,\n",
       " 5.012333333333333,\n",
       " 5.0263333333333335,\n",
       " 5.046666666666667,\n",
       " 4.921333333333333,\n",
       " 5.044333333333333,\n",
       " 5.055,\n",
       " 5.024333333333334,\n",
       " 5.0216666666666665,\n",
       " 5.032666666666667,\n",
       " 5.015666666666666,\n",
       " 5.044,\n",
       " 4.988333333333333,\n",
       " 5.048333333333333,\n",
       " 5.008666666666667,\n",
       " 5.013,\n",
       " 5.004,\n",
       " 5.041,\n",
       " 5.005333333333334,\n",
       " 4.9976666666666665,\n",
       " 5.01,\n",
       " 5.028666666666667,\n",
       " 4.95,\n",
       " 5.028,\n",
       " 4.997,\n",
       " 5.006333333333333,\n",
       " 4.992,\n",
       " 5.026666666666666,\n",
       " 5.051666666666667,\n",
       " 4.994666666666666,\n",
       " 5.057666666666667,\n",
       " 4.985,\n",
       " 5.042333333333334,\n",
       " 4.992333333333334,\n",
       " 5.025,\n",
       " 5.071666666666666,\n",
       " 5.033,\n",
       " 4.967666666666666,\n",
       " 4.999,\n",
       " 5.044333333333333,\n",
       " 4.958,\n",
       " 5.046333333333333,\n",
       " 4.969333333333333,\n",
       " 5.033666666666667,\n",
       " 5.009,\n",
       " 5.028333333333333,\n",
       " 5.045333333333334,\n",
       " 5.0136666666666665,\n",
       " 5.026,\n",
       " 5.0103333333333335,\n",
       " 5.003333333333333,\n",
       " 4.9543333333333335,\n",
       " 5.062666666666667,\n",
       " 5.0456666666666665,\n",
       " 5.0473333333333334,\n",
       " 5.014,\n",
       " 5.026,\n",
       " 5.05,\n",
       " 5.039,\n",
       " 4.993,\n",
       " 5.0376666666666665,\n",
       " 5.014333333333333,\n",
       " 4.996333333333333,\n",
       " 5.047666666666666,\n",
       " 4.993666666666667,\n",
       " 5.003333333333333,\n",
       " 5.048,\n",
       " 5.045333333333334,\n",
       " 4.995,\n",
       " 5.043666666666667,\n",
       " 5.047,\n",
       " 5.009666666666667,\n",
       " 5.041,\n",
       " 4.9783333333333335,\n",
       " 5.032,\n",
       " 5.051666666666667,\n",
       " 5.025,\n",
       " 5.012,\n",
       " 4.972,\n",
       " 5.0023333333333335,\n",
       " 5.0553333333333335,\n",
       " 5.088,\n",
       " 4.940333333333333,\n",
       " 5.041666666666667,\n",
       " 5.015333333333333,\n",
       " 5.023333333333333,\n",
       " 5.0136666666666665,\n",
       " 5.012333333333333,\n",
       " 5.014,\n",
       " 5.021333333333334,\n",
       " 5.050666666666666,\n",
       " 5.033,\n",
       " 4.993666666666667,\n",
       " 5.0023333333333335,\n",
       " 5.030666666666667,\n",
       " 5.029333333333334,\n",
       " 5.0553333333333335,\n",
       " 5.008,\n",
       " 4.963,\n",
       " 5.019333333333333,\n",
       " 4.993666666666667,\n",
       " 4.998333333333333,\n",
       " 5.04,\n",
       " 5.032,\n",
       " 4.991,\n",
       " 5.014,\n",
       " 5.019333333333333,\n",
       " 4.952,\n",
       " 5.045333333333334,\n",
       " 5.061,\n",
       " 5.002666666666666,\n",
       " 5.016666666666667,\n",
       " 5.016666666666667,\n",
       " 5.004,\n",
       " 5.017,\n",
       " 4.991333333333333,\n",
       " 4.970666666666666,\n",
       " 5.015,\n",
       " 5.024333333333334,\n",
       " 4.995666666666667,\n",
       " 5.001,\n",
       " 5.0296666666666665,\n",
       " 5.040666666666667,\n",
       " 5.070666666666667,\n",
       " 4.996333333333333,\n",
       " 5.062,\n",
       " 5.003,\n",
       " 4.962666666666666,\n",
       " 5.017,\n",
       " 5.018,\n",
       " 5.035666666666667,\n",
       " 5.002666666666666,\n",
       " 5.114333333333334,\n",
       " 5.04,\n",
       " 5.030666666666667,\n",
       " 5.012333333333333,\n",
       " 4.996333333333333,\n",
       " 5.014333333333333,\n",
       " 5.049,\n",
       " 5.033,\n",
       " 5.038666666666667,\n",
       " 5.019,\n",
       " 5.068666666666667,\n",
       " 4.959,\n",
       " 5.015,\n",
       " 5.0376666666666665,\n",
       " 5.009333333333333,\n",
       " 5.0263333333333335,\n",
       " 5.014666666666667,\n",
       " 5.005333333333334,\n",
       " 5.020333333333333,\n",
       " 5.043333333333333,\n",
       " 4.963,\n",
       " 4.947666666666667,\n",
       " 5.012,\n",
       " 5.033,\n",
       " 4.998,\n",
       " 5.051,\n",
       " 5.042666666666666,\n",
       " 5.022333333333333,\n",
       " 5.029333333333334,\n",
       " 4.954666666666666,\n",
       " 5.040333333333334,\n",
       " 5.080666666666667,\n",
       " 5.008333333333334,\n",
       " 5.0103333333333335,\n",
       " 5.014333333333333,\n",
       " 5.011,\n",
       " 5.033666666666667,\n",
       " 5.068333333333333,\n",
       " 5.010666666666666,\n",
       " 5.036666666666667,\n",
       " 5.003333333333333,\n",
       " 5.013333333333334,\n",
       " 5.031666666666666,\n",
       " 5.025,\n",
       " 5.025333333333333,\n",
       " 5.025,\n",
       " 5.018666666666666,\n",
       " 4.9976666666666665,\n",
       " 5.058666666666666,\n",
       " 5.024,\n",
       " 5.012,\n",
       " 5.015,\n",
       " 4.986,\n",
       " 5.022666666666667,\n",
       " 5.008,\n",
       " 5.032,\n",
       " 5.001333333333333,\n",
       " 4.97,\n",
       " 5.059333333333333,\n",
       " 5.032333333333334,\n",
       " 5.023,\n",
       " 5.073333333333333,\n",
       " 4.993333333333333,\n",
       " 4.992333333333334,\n",
       " 4.982333333333333,\n",
       " 5.037,\n",
       " 5.015666666666666,\n",
       " 5.030333333333333,\n",
       " 4.981,\n",
       " 5.044,\n",
       " 4.9383333333333335,\n",
       " 5.009,\n",
       " 4.991,\n",
       " 5.015,\n",
       " 5.0263333333333335,\n",
       " 5.016333333333334,\n",
       " 5.002,\n",
       " 5.059,\n",
       " 5.091333333333333,\n",
       " 5.0103333333333335,\n",
       " 5.016333333333334,\n",
       " 5.015,\n",
       " 5.0713333333333335,\n",
       " 4.988666666666667,\n",
       " 5.050333333333334,\n",
       " 5.067333333333333,\n",
       " 5.033,\n",
       " 5.053,\n",
       " 5.025333333333333,\n",
       " 5.0376666666666665,\n",
       " 5.021333333333334,\n",
       " 5.006333333333333,\n",
       " 5.039666666666666,\n",
       " 5.052,\n",
       " 4.998333333333333,\n",
       " 5.042666666666666,\n",
       " 4.987333333333333,\n",
       " 5.042666666666666,\n",
       " 5.026666666666666,\n",
       " 5.017,\n",
       " 4.979,\n",
       " 5.003666666666667,\n",
       " 5.0456666666666665,\n",
       " 5.036666666666667,\n",
       " 5.022666666666667,\n",
       " 5.024333333333334,\n",
       " 5.024666666666667,\n",
       " 5.048333333333333,\n",
       " 5.001,\n",
       " 5.025,\n",
       " 5.049333333333333,\n",
       " 4.987666666666667,\n",
       " 4.990333333333333,\n",
       " 4.998333333333333,\n",
       " 5.027333333333333,\n",
       " 4.969,\n",
       " 4.908,\n",
       " 5.0376666666666665,\n",
       " 5.002,\n",
       " 5.027333333333333,\n",
       " 5.018666666666666,\n",
       " 4.997,\n",
       " 5.029,\n",
       " 5.024333333333334,\n",
       " 5.033333333333333,\n",
       " 5.041,\n",
       " 5.011666666666667,\n",
       " 5.0,\n",
       " 5.012333333333333,\n",
       " 5.021,\n",
       " 5.024,\n",
       " 5.036666666666667,\n",
       " 5.015666666666666,\n",
       " 5.069333333333334,\n",
       " 5.040333333333334,\n",
       " 4.991333333333333,\n",
       " 5.031333333333333,\n",
       " 4.9976666666666665,\n",
       " 4.993,\n",
       " 5.008333333333334,\n",
       " 4.994,\n",
       " 4.983,\n",
       " 5.027333333333333,\n",
       " 5.017,\n",
       " 5.036,\n",
       " 5.012333333333333,\n",
       " 5.0,\n",
       " 5.017333333333333,\n",
       " 4.991,\n",
       " 5.022333333333333,\n",
       " 5.025,\n",
       " 5.005333333333334,\n",
       " 5.03,\n",
       " 5.034,\n",
       " 4.998,\n",
       " 4.991,\n",
       " 4.974666666666667,\n",
       " 5.009,\n",
       " 5.038333333333333,\n",
       " 5.024333333333334,\n",
       " 5.061333333333334,\n",
       " 5.009666666666667,\n",
       " 5.035,\n",
       " 4.981,\n",
       " 4.959333333333333,\n",
       " 5.012666666666667,\n",
       " 5.027,\n",
       " 5.02,\n",
       " 5.025,\n",
       " 5.019666666666667,\n",
       " 5.059,\n",
       " 5.008666666666667,\n",
       " 4.985,\n",
       " 5.036333333333333,\n",
       " 5.04,\n",
       " 5.0633333333333335,\n",
       " 5.0,\n",
       " 4.998,\n",
       " 5.035333333333333,\n",
       " 5.048666666666667,\n",
       " 5.003,\n",
       " 5.016333333333334,\n",
       " 4.972,\n",
       " 5.071666666666666,\n",
       " 5.004333333333333,\n",
       " 4.996333333333333,\n",
       " 5.027,\n",
       " 5.067333333333333,\n",
       " 4.976666666666667,\n",
       " 4.994666666666666,\n",
       " 5.082666666666666,\n",
       " 5.058666666666666,\n",
       " 5.067666666666667,\n",
       " 5.0456666666666665,\n",
       " 4.993333333333333,\n",
       " 4.996666666666667,\n",
       " 4.988333333333333,\n",
       " 4.977,\n",
       " 5.021333333333334,\n",
       " 5.011333333333333,\n",
       " 5.053,\n",
       " 5.051666666666667,\n",
       " 4.979666666666667,\n",
       " 4.985666666666667,\n",
       " 5.024,\n",
       " 5.029,\n",
       " 5.041333333333333,\n",
       " 5.019,\n",
       " 5.044333333333333,\n",
       " 5.014,\n",
       " 5.0183333333333335,\n",
       " 5.044333333333333,\n",
       " 4.988,\n",
       " 5.061333333333334,\n",
       " 5.049333333333333,\n",
       " 5.043666666666667,\n",
       " 5.052,\n",
       " 5.025666666666667,\n",
       " 5.012,\n",
       " 5.102333333333333,\n",
       " 5.029,\n",
       " 5.011333333333333,\n",
       " 5.015666666666666,\n",
       " 5.023666666666666,\n",
       " 4.993666666666667,\n",
       " 5.059333333333333,\n",
       " 5.063,\n",
       " 5.025333333333333,\n",
       " 5.042333333333334,\n",
       " 5.028333333333333,\n",
       " 5.040333333333334,\n",
       " 5.054333333333333,\n",
       " 4.979,\n",
       " 5.061333333333334,\n",
       " 5.023666666666666,\n",
       " 5.012333333333333,\n",
       " 4.985333333333333,\n",
       " 4.996333333333333,\n",
       " 4.985666666666667,\n",
       " 4.977,\n",
       " 4.966,\n",
       " 5.026,\n",
       " 5.003333333333333,\n",
       " 5.02,\n",
       " 4.992333333333334,\n",
       " 4.9896666666666665,\n",
       " 5.0343333333333335,\n",
       " 5.076666666666667,\n",
       " 4.995666666666667,\n",
       " 5.025333333333333,\n",
       " 5.019333333333333,\n",
       " 5.091,\n",
       " 5.107666666666667,\n",
       " 5.01,\n",
       " 4.988666666666667,\n",
       " 5.050666666666666,\n",
       " 5.01,\n",
       " 5.059666666666667,\n",
       " 5.048,\n",
       " 5.0183333333333335,\n",
       " 4.999,\n",
       " 5.004333333333333,\n",
       " 5.037333333333334,\n",
       " 5.001,\n",
       " 5.018666666666666,\n",
       " 5.019,\n",
       " 4.996666666666667,\n",
       " 5.048333333333333,\n",
       " 4.9736666666666665,\n",
       " 4.982333333333333,\n",
       " 5.036333333333333,\n",
       " 4.972333333333333,\n",
       " 4.9783333333333335,\n",
       " 5.023333333333333,\n",
       " 5.004333333333333,\n",
       " 4.994666666666666,\n",
       " 4.9896666666666665,\n",
       " 5.08,\n",
       " 5.020333333333333,\n",
       " 5.048,\n",
       " 5.025,\n",
       " 5.050333333333334,\n",
       " 4.983333333333333,\n",
       " 5.008666666666667,\n",
       " 5.020333333333333,\n",
       " 5.016,\n",
       " 5.031,\n",
       " 5.051333333333333,\n",
       " 5.032333333333334,\n",
       " 5.0296666666666665,\n",
       " 5.062333333333333,\n",
       " 4.968666666666667,\n",
       " 4.9623333333333335,\n",
       " 5.030333333333333,\n",
       " 4.9976666666666665,\n",
       " 5.055666666666666,\n",
       " 4.998333333333333,\n",
       " 5.040333333333334,\n",
       " 4.999,\n",
       " 5.043333333333333,\n",
       " 5.008333333333334,\n",
       " 5.02,\n",
       " 5.026,\n",
       " 4.976666666666667,\n",
       " 5.0713333333333335,\n",
       " 5.041333333333333,\n",
       " 5.0216666666666665,\n",
       " 5.0473333333333334,\n",
       " 5.060333333333333,\n",
       " 4.963666666666667,\n",
       " 5.028,\n",
       " 5.005333333333334,\n",
       " 4.974666666666667,\n",
       " 5.062,\n",
       " 5.044,\n",
       " 4.992666666666667,\n",
       " 5.024,\n",
       " 5.022,\n",
       " 4.989333333333334,\n",
       " 5.028666666666667,\n",
       " 4.968333333333334,\n",
       " 5.045333333333334,\n",
       " 4.968666666666667,\n",
       " 5.007333333333333,\n",
       " 4.987333333333333,\n",
       " 5.026,\n",
       " 5.051666666666667,\n",
       " 5.062666666666667,\n",
       " 5.079,\n",
       " 5.015666666666666,\n",
       " 5.0056666666666665,\n",
       " 5.0216666666666665,\n",
       " 4.969,\n",
       " 5.015,\n",
       " 5.019,\n",
       " 4.998,\n",
       " 5.044666666666667,\n",
       " 5.071,\n",
       " 5.045333333333334,\n",
       " 4.9816666666666665,\n",
       " 4.981,\n",
       " 4.974666666666667,\n",
       " 5.007333333333333,\n",
       " 5.005333333333334,\n",
       " 5.033,\n",
       " 5.004666666666667,\n",
       " 5.0776666666666666,\n",
       " 5.005,\n",
       " 5.051333333333333,\n",
       " 5.058,\n",
       " 5.036,\n",
       " 4.97,\n",
       " 5.013333333333334,\n",
       " 5.039,\n",
       " 5.046666666666667,\n",
       " 5.006,\n",
       " 4.989,\n",
       " 5.076333333333333,\n",
       " 5.031333333333333,\n",
       " 5.022333333333333,\n",
       " 5.016666666666667,\n",
       " 4.999333333333333,\n",
       " 5.050666666666666,\n",
       " 4.960333333333334,\n",
       " 5.023666666666666,\n",
       " 4.982666666666667,\n",
       " 5.0136666666666665,\n",
       " 4.984333333333334,\n",
       " 4.992666666666667,\n",
       " 5.030333333333333,\n",
       " 5.040666666666667,\n",
       " 5.035,\n",
       " 5.048666666666667,\n",
       " 4.998,\n",
       " 5.050333333333334,\n",
       " 4.984666666666667,\n",
       " 5.005,\n",
       " 5.057333333333333,\n",
       " 5.045,\n",
       " 5.04,\n",
       " 5.017,\n",
       " 5.017333333333333,\n",
       " 5.0536666666666665,\n",
       " 5.029333333333334,\n",
       " 4.997,\n",
       " 4.978,\n",
       " 5.017666666666667,\n",
       " 5.042666666666666,\n",
       " 5.0056666666666665,\n",
       " 5.0023333333333335,\n",
       " 4.985,\n",
       " 5.046,\n",
       " 5.049333333333333,\n",
       " 5.024666666666667,\n",
       " 5.004666666666667,\n",
       " 5.001666666666667,\n",
       " 4.967,\n",
       " 4.994,\n",
       " 5.0056666666666665,\n",
       " 5.042333333333334,\n",
       " 5.000333333333334,\n",
       " 5.051333333333333,\n",
       " 5.036,\n",
       " 5.022666666666667,\n",
       " 4.987333333333333,\n",
       " 5.020666666666667,\n",
       " 5.014,\n",
       " 4.971,\n",
       " 5.019,\n",
       " 5.056333333333333,\n",
       " 4.992666666666667,\n",
       " 4.987666666666667,\n",
       " 4.972666666666667,\n",
       " 5.048,\n",
       " 5.056,\n",
       " 4.955666666666667,\n",
       " 5.1193333333333335,\n",
       " 5.044666666666667,\n",
       " 5.0376666666666665,\n",
       " 5.002,\n",
       " 5.024333333333334,\n",
       " 5.034666666666666,\n",
       " 5.0343333333333335,\n",
       " 5.019,\n",
       " 5.020333333333333,\n",
       " 5.0616666666666665,\n",
       " 4.999666666666666,\n",
       " 5.001333333333333,\n",
       " 5.062,\n",
       " 4.9863333333333335,\n",
       " 5.007666666666666,\n",
       " 5.105,\n",
       " 5.004666666666667,\n",
       " 5.014666666666667,\n",
       " 5.063666666666666,\n",
       " 5.018,\n",
       " 5.007666666666666,\n",
       " 5.092666666666666,\n",
       " 5.0473333333333334,\n",
       " 4.995333333333333,\n",
       " 5.0343333333333335,\n",
       " 5.092333333333333,\n",
       " 5.076,\n",
       " 5.0296666666666665,\n",
       " 5.066666666666666,\n",
       " 5.012,\n",
       " 4.982666666666667,\n",
       " 4.999333333333333,\n",
       " 5.064666666666667,\n",
       " 5.038666666666667,\n",
       " 4.959333333333333,\n",
       " 5.0,\n",
       " 4.999333333333333,\n",
       " 5.031,\n",
       " 5.048333333333333,\n",
       " 5.073666666666667,\n",
       " 5.030333333333333,\n",
       " 4.964333333333333,\n",
       " 4.998,\n",
       " 5.035666666666667,\n",
       " 5.057333333333333,\n",
       " 4.982666666666667,\n",
       " 5.023333333333333,\n",
       " 5.0136666666666665,\n",
       " 5.011333333333333,\n",
       " 5.019333333333333,\n",
       " 5.055,\n",
       " 4.983333333333333,\n",
       " 4.972,\n",
       " 5.027333333333333,\n",
       " 5.041333333333333,\n",
       " 5.025,\n",
       " 5.018666666666666,\n",
       " 5.033,\n",
       " 5.004333333333333,\n",
       " 5.024,\n",
       " ...]"
      ]
     },
     "execution_count": 81,
     "metadata": {},
     "output_type": "execute_result"
    }
   ],
   "source": [
    "mean_of_samples"
   ]
  },
  {
   "cell_type": "code",
   "execution_count": 82,
   "id": "f0f66011-b29d-4d53-b0fb-7d74f1f26d94",
   "metadata": {},
   "outputs": [
    {
     "name": "stderr",
     "output_type": "stream",
     "text": [
      "/var/folders/zj/f5qj3syd2556jqx5zlcjl4380000gn/T/ipykernel_94809/3779219531.py:1: UserWarning: \n",
      "\n",
      "`distplot` is a deprecated function and will be removed in seaborn v0.14.0.\n",
      "\n",
      "Please adapt your code to use either `displot` (a figure-level function with\n",
      "similar flexibility) or `histplot` (an axes-level function for histograms).\n",
      "\n",
      "For a guide to updating your code to use the new functions, please see\n",
      "https://gist.github.com/mwaskom/de44147ed2974457ad6372750bbe5751\n",
      "\n",
      "  sns.distplot(mean_of_samples,kde=True,color='red')\n",
      "/opt/anaconda3/lib/python3.11/site-packages/seaborn/_oldcore.py:1119: FutureWarning: use_inf_as_na option is deprecated and will be removed in a future version. Convert inf values to NaN before operating instead.\n",
      "  with pd.option_context('mode.use_inf_as_na', True):\n"
     ]
    },
    {
     "data": {
      "text/plain": [
       "<Axes: ylabel='Density'>"
      ]
     },
     "execution_count": 82,
     "metadata": {},
     "output_type": "execute_result"
    },
    {
     "data": {
      "image/png": "[encoded data removed]",
      "text/plain": [
       "<Figure size 640x480 with 1 Axes>"
      ]
     },
     "metadata": {},
     "output_type": "display_data"
    }
   ],
   "source": [
    "sns.distplot(mean_of_samples,kde=True,color='red')"
   ]
  },
  {
   "cell_type": "code",
   "execution_count": 83,
   "id": "fc01cf21-5c60-40e0-9a01-2aa31d1929dd",
   "metadata": {},
   "outputs": [
    {
     "data": {
      "text/plain": [
       "5.020073374004068"
      ]
     },
     "execution_count": 83,
     "metadata": {},
     "output_type": "execute_result"
    }
   ],
   "source": [
    "np.mean(mean_of_samples)"
   ]
  },
  {
   "cell_type": "code",
   "execution_count": 84,
   "id": "2cc6c542-fcd9-4993-9852-c50ba6bddac4",
   "metadata": {},
   "outputs": [
    {
     "data": {
      "text/plain": [
       "5.019666666666667"
      ]
     },
     "execution_count": 84,
     "metadata": {},
     "output_type": "execute_result"
    }
   ],
   "source": [
    "np.median(mean_of_samples)"
   ]
  },
  {
   "cell_type": "code",
   "execution_count": 85,
   "id": "e0462af2-406c-42fe-8f01-be581d066210",
   "metadata": {},
   "outputs": [
    {
     "data": {
      "text/plain": [
       "5.014666666666667"
      ]
     },
     "execution_count": 85,
     "metadata": {},
     "output_type": "execute_result"
    }
   ],
   "source": [
    "statistics.mode(mean_of_samples)"
   ]
  },
  {
   "cell_type": "code",
   "execution_count": 86,
   "id": "ac31a2c1-8ae8-4206-9343-fb708000e11d",
   "metadata": {},
   "outputs": [],
   "source": [
    "# mean=median=mode--- above proved"
   ]
  },
  {
   "cell_type": "code",
   "execution_count": 87,
   "id": "1c34430a-97f3-455c-b77c-38f22d3642cc",
   "metadata": {},
   "outputs": [],
   "source": [
    "import scipy.stats as stats"
   ]
  },
  {
   "cell_type": "code",
   "execution_count": 88,
   "id": "ecec73f2-d35d-416b-adfc-77d37a75dba7",
   "metadata": {},
   "outputs": [
    {
     "data": {
      "text/plain": [
       "[4.988333333333333,\n",
       " 5.063,\n",
       " 5.019666666666667,\n",
       " 5.026,\n",
       " 5.011333333333333,\n",
       " 5.0263333333333335,\n",
       " 5.0343333333333335,\n",
       " 5.074666666666666,\n",
       " 5.002,\n",
       " 5.044,\n",
       " 4.960333333333334,\n",
       " 5.051,\n",
       " 4.992333333333334,\n",
       " 4.995666666666667,\n",
       " 5.031666666666666,\n",
       " 5.043666666666667,\n",
       " 5.0023333333333335,\n",
       " 5.009666666666667,\n",
       " 5.006666666666667,\n",
       " 5.063666666666666,\n",
       " 5.034,\n",
       " 5.017,\n",
       " 5.016,\n",
       " 5.04,\n",
       " 5.082333333333334,\n",
       " 4.956666666666667,\n",
       " 5.001,\n",
       " 5.039666666666666,\n",
       " 5.043333333333333,\n",
       " 5.0216666666666665,\n",
       " 4.981333333333334,\n",
       " 4.984,\n",
       " 5.017,\n",
       " 5.001666666666667,\n",
       " 5.024666666666667,\n",
       " 5.046,\n",
       " 4.982666666666667,\n",
       " 5.031,\n",
       " 5.058,\n",
       " 5.003333333333333,\n",
       " 5.006,\n",
       " 5.0216666666666665,\n",
       " 5.085,\n",
       " 5.007,\n",
       " 5.081333333333333,\n",
       " 5.019666666666667,\n",
       " 5.038333333333333,\n",
       " 5.004666666666667,\n",
       " 5.059333333333333,\n",
       " 5.038,\n",
       " 5.075333333333333,\n",
       " 4.976666666666667,\n",
       " 5.009666666666667,\n",
       " 5.016,\n",
       " 5.028333333333333,\n",
       " 5.001666666666667,\n",
       " 4.991,\n",
       " 5.008333333333334,\n",
       " 5.011666666666667,\n",
       " 5.009333333333333,\n",
       " 5.044,\n",
       " 5.042666666666666,\n",
       " 4.998666666666667,\n",
       " 5.05,\n",
       " 5.046,\n",
       " 4.987666666666667,\n",
       " 5.036333333333333,\n",
       " 4.988,\n",
       " 5.034,\n",
       " 4.964333333333333,\n",
       " 5.038,\n",
       " 5.020666666666667,\n",
       " 5.009,\n",
       " 5.033333333333333,\n",
       " 5.008666666666667,\n",
       " 4.9976666666666665,\n",
       " 5.083333333333333,\n",
       " 4.9816666666666665,\n",
       " 4.972,\n",
       " 5.010666666666666,\n",
       " 5.023,\n",
       " 4.995,\n",
       " 5.038,\n",
       " 5.035666666666667,\n",
       " 5.066666666666666,\n",
       " 5.010666666666666,\n",
       " 5.0473333333333334,\n",
       " 5.057666666666667,\n",
       " 4.977666666666667,\n",
       " 5.033666666666667,\n",
       " 5.065333333333333,\n",
       " 5.026666666666666,\n",
       " 4.972,\n",
       " 5.068333333333333,\n",
       " 5.000666666666667,\n",
       " 5.022333333333333,\n",
       " 4.949,\n",
       " 5.050333333333334,\n",
       " 4.9976666666666665,\n",
       " 5.008333333333334,\n",
       " 5.041333333333333,\n",
       " 5.081666666666667,\n",
       " 5.022666666666667,\n",
       " 4.981,\n",
       " 5.094666666666667,\n",
       " 5.036,\n",
       " 5.023,\n",
       " 5.024666666666667,\n",
       " 5.033,\n",
       " 4.991333333333333,\n",
       " 5.076,\n",
       " 5.018,\n",
       " 4.985,\n",
       " 5.067333333333333,\n",
       " 4.999666666666666,\n",
       " 4.993666666666667,\n",
       " 5.023,\n",
       " 5.014666666666667,\n",
       " 4.991333333333333,\n",
       " 5.017333333333333,\n",
       " 5.070333333333333,\n",
       " 5.002,\n",
       " 5.041666666666667,\n",
       " 5.045,\n",
       " 5.052666666666667,\n",
       " 4.9736666666666665,\n",
       " 5.009,\n",
       " 5.065666666666667,\n",
       " 5.031,\n",
       " 5.098,\n",
       " 5.028333333333333,\n",
       " 5.056,\n",
       " 5.084666666666666,\n",
       " 5.0136666666666665,\n",
       " 5.007666666666666,\n",
       " 5.003333333333333,\n",
       " 5.011333333333333,\n",
       " 4.999666666666666,\n",
       " 5.020666666666667,\n",
       " 5.043666666666667,\n",
       " 5.025,\n",
       " 4.999333333333333,\n",
       " 5.073666666666667,\n",
       " 4.990666666666667,\n",
       " 4.997,\n",
       " 5.020666666666667,\n",
       " 5.016333333333334,\n",
       " 5.027,\n",
       " 4.994,\n",
       " 5.046666666666667,\n",
       " 5.013,\n",
       " 5.005,\n",
       " 5.0183333333333335,\n",
       " 4.968666666666667,\n",
       " 5.017666666666667,\n",
       " 4.981,\n",
       " 5.028666666666667,\n",
       " 4.99,\n",
       " 5.035666666666667,\n",
       " 5.038333333333333,\n",
       " 4.997333333333334,\n",
       " 5.062666666666667,\n",
       " 5.04,\n",
       " 5.017,\n",
       " 5.012,\n",
       " 4.998,\n",
       " 4.964333333333333,\n",
       " 5.022333333333333,\n",
       " 5.048,\n",
       " 5.043333333333333,\n",
       " 4.941666666666666,\n",
       " 4.996333333333333,\n",
       " 4.986666666666666,\n",
       " 5.066333333333334,\n",
       " 5.047,\n",
       " 4.998,\n",
       " 5.03,\n",
       " 5.015333333333333,\n",
       " 5.024666666666667,\n",
       " 5.029333333333334,\n",
       " 5.026666666666666,\n",
       " 5.028,\n",
       " 5.040333333333334,\n",
       " 5.024333333333334,\n",
       " 5.0103333333333335,\n",
       " 5.016333333333334,\n",
       " 5.008333333333334,\n",
       " 5.007666666666666,\n",
       " 4.992333333333334,\n",
       " 5.008333333333334,\n",
       " 5.016666666666667,\n",
       " 4.967666666666666,\n",
       " 4.999333333333333,\n",
       " 5.024333333333334,\n",
       " 4.999,\n",
       " 5.042333333333334,\n",
       " 4.995,\n",
       " 4.985,\n",
       " 5.058333333333334,\n",
       " 5.009,\n",
       " 5.025,\n",
       " 4.983666666666666,\n",
       " 5.003,\n",
       " 4.9863333333333335,\n",
       " 5.049333333333333,\n",
       " 5.014,\n",
       " 5.0263333333333335,\n",
       " 4.955,\n",
       " 4.993333333333333,\n",
       " 5.011333333333333,\n",
       " 5.011333333333333,\n",
       " 5.046333333333333,\n",
       " 5.015333333333333,\n",
       " 5.012,\n",
       " 5.033666666666667,\n",
       " 5.010666666666666,\n",
       " 4.994,\n",
       " 5.017666666666667,\n",
       " 5.013333333333334,\n",
       " 4.966333333333333,\n",
       " 5.0553333333333335,\n",
       " 4.984,\n",
       " 5.05,\n",
       " 4.975666666666666,\n",
       " 5.05,\n",
       " 4.997,\n",
       " 5.089,\n",
       " 5.006,\n",
       " 5.027333333333333,\n",
       " 4.998666666666667,\n",
       " 4.982,\n",
       " 5.020333333333333,\n",
       " 5.015666666666666,\n",
       " 5.022666666666667,\n",
       " 5.042666666666666,\n",
       " 5.100666666666666,\n",
       " 5.031666666666666,\n",
       " 5.054666666666667,\n",
       " 5.04,\n",
       " 5.059333333333333,\n",
       " 4.98,\n",
       " 4.987666666666667,\n",
       " 4.9783333333333335,\n",
       " 5.016,\n",
       " 5.021333333333334,\n",
       " 5.064,\n",
       " 4.957666666666666,\n",
       " 5.019333333333333,\n",
       " 5.013333333333334,\n",
       " 5.083666666666667,\n",
       " 5.0536666666666665,\n",
       " 5.018666666666666,\n",
       " 5.005333333333334,\n",
       " 5.071666666666666,\n",
       " 5.0183333333333335,\n",
       " 5.049333333333333,\n",
       " 5.0183333333333335,\n",
       " 5.015,\n",
       " 4.9896666666666665,\n",
       " 4.976666666666667,\n",
       " 5.008666666666667,\n",
       " 5.030333333333333,\n",
       " 4.968,\n",
       " 5.02,\n",
       " 5.0263333333333335,\n",
       " 4.986,\n",
       " 5.032333333333334,\n",
       " 5.131333333333333,\n",
       " 5.040333333333334,\n",
       " 5.026666666666666,\n",
       " 4.99,\n",
       " 5.022666666666667,\n",
       " 5.007666666666666,\n",
       " 5.02,\n",
       " 5.014,\n",
       " 5.0473333333333334,\n",
       " 5.016,\n",
       " 4.998666666666667,\n",
       " 4.996666666666667,\n",
       " 5.0216666666666665,\n",
       " 5.018,\n",
       " 5.025333333333333,\n",
       " 4.987,\n",
       " 5.0263333333333335,\n",
       " 5.034666666666666,\n",
       " 5.040666666666667,\n",
       " 4.996,\n",
       " 5.022666666666667,\n",
       " 5.015666666666666,\n",
       " 4.975666666666666,\n",
       " 5.015666666666666,\n",
       " 5.013,\n",
       " 5.01,\n",
       " 5.018666666666666,\n",
       " 4.968333333333334,\n",
       " 5.041666666666667,\n",
       " 4.997333333333334,\n",
       " 5.026,\n",
       " 4.995666666666667,\n",
       " 5.048,\n",
       " 4.998666666666667,\n",
       " 5.025666666666667,\n",
       " 5.019,\n",
       " 4.988333333333333,\n",
       " 5.030333333333333,\n",
       " 5.004333333333333,\n",
       " 5.007333333333333,\n",
       " 4.993333333333333,\n",
       " 4.994,\n",
       " 5.0216666666666665,\n",
       " 5.003,\n",
       " 5.033333333333333,\n",
       " 4.982666666666667,\n",
       " 5.0473333333333334,\n",
       " 4.982,\n",
       " 5.025,\n",
       " 5.059,\n",
       " 5.015333333333333,\n",
       " 5.015,\n",
       " 5.004666666666667,\n",
       " 4.996333333333333,\n",
       " 5.073333333333333,\n",
       " 5.030333333333333,\n",
       " 5.023333333333333,\n",
       " 4.991666666666666,\n",
       " 5.040666666666667,\n",
       " 5.023333333333333,\n",
       " 4.999666666666666,\n",
       " 5.023666666666666,\n",
       " 5.017,\n",
       " 5.008333333333334,\n",
       " 5.053,\n",
       " 5.017666666666667,\n",
       " 5.046666666666667,\n",
       " 5.040333333333334,\n",
       " 5.033,\n",
       " 4.952,\n",
       " 5.003,\n",
       " 5.006666666666667,\n",
       " 5.014666666666667,\n",
       " 5.028,\n",
       " 5.010666666666666,\n",
       " 5.026,\n",
       " 4.9736666666666665,\n",
       " 5.04,\n",
       " 5.055,\n",
       " 5.051,\n",
       " 5.002,\n",
       " 4.9896666666666665,\n",
       " 5.014,\n",
       " 5.036333333333333,\n",
       " 5.028,\n",
       " 5.008666666666667,\n",
       " 5.028666666666667,\n",
       " 4.995333333333333,\n",
       " 5.022666666666667,\n",
       " 5.0,\n",
       " 5.043333333333333,\n",
       " 5.046,\n",
       " 5.015333333333333,\n",
       " 5.039333333333333,\n",
       " 5.0296666666666665,\n",
       " 5.043,\n",
       " 5.026666666666666,\n",
       " 5.030666666666667,\n",
       " 5.010666666666666,\n",
       " 5.021333333333334,\n",
       " 5.036,\n",
       " 5.043,\n",
       " 5.028666666666667,\n",
       " 4.96,\n",
       " 5.033,\n",
       " 5.03,\n",
       " 5.017666666666667,\n",
       " 5.026666666666666,\n",
       " 5.064666666666667,\n",
       " 5.032333333333334,\n",
       " 5.0103333333333335,\n",
       " 4.967,\n",
       " 5.005333333333334,\n",
       " 4.979,\n",
       " 5.024,\n",
       " 5.003,\n",
       " 5.044333333333333,\n",
       " 5.025,\n",
       " 5.025333333333333,\n",
       " 5.009333333333333,\n",
       " 5.005,\n",
       " 5.032333333333334,\n",
       " 4.979333333333333,\n",
       " 5.039,\n",
       " 5.049333333333333,\n",
       " 4.993666666666667,\n",
       " 5.012333333333333,\n",
       " 5.0263333333333335,\n",
       " 5.046666666666667,\n",
       " 4.921333333333333,\n",
       " 5.044333333333333,\n",
       " 5.055,\n",
       " 5.024333333333334,\n",
       " 5.0216666666666665,\n",
       " 5.032666666666667,\n",
       " 5.015666666666666,\n",
       " 5.044,\n",
       " 4.988333333333333,\n",
       " 5.048333333333333,\n",
       " 5.008666666666667,\n",
       " 5.013,\n",
       " 5.004,\n",
       " 5.041,\n",
       " 5.005333333333334,\n",
       " 4.9976666666666665,\n",
       " 5.01,\n",
       " 5.028666666666667,\n",
       " 4.95,\n",
       " 5.028,\n",
       " 4.997,\n",
       " 5.006333333333333,\n",
       " 4.992,\n",
       " 5.026666666666666,\n",
       " 5.051666666666667,\n",
       " 4.994666666666666,\n",
       " 5.057666666666667,\n",
       " 4.985,\n",
       " 5.042333333333334,\n",
       " 4.992333333333334,\n",
       " 5.025,\n",
       " 5.071666666666666,\n",
       " 5.033,\n",
       " 4.967666666666666,\n",
       " 4.999,\n",
       " 5.044333333333333,\n",
       " 4.958,\n",
       " 5.046333333333333,\n",
       " 4.969333333333333,\n",
       " 5.033666666666667,\n",
       " 5.009,\n",
       " 5.028333333333333,\n",
       " 5.045333333333334,\n",
       " 5.0136666666666665,\n",
       " 5.026,\n",
       " 5.0103333333333335,\n",
       " 5.003333333333333,\n",
       " 4.9543333333333335,\n",
       " 5.062666666666667,\n",
       " 5.0456666666666665,\n",
       " 5.0473333333333334,\n",
       " 5.014,\n",
       " 5.026,\n",
       " 5.05,\n",
       " 5.039,\n",
       " 4.993,\n",
       " 5.0376666666666665,\n",
       " 5.014333333333333,\n",
       " 4.996333333333333,\n",
       " 5.047666666666666,\n",
       " 4.993666666666667,\n",
       " 5.003333333333333,\n",
       " 5.048,\n",
       " 5.045333333333334,\n",
       " 4.995,\n",
       " 5.043666666666667,\n",
       " 5.047,\n",
       " 5.009666666666667,\n",
       " 5.041,\n",
       " 4.9783333333333335,\n",
       " 5.032,\n",
       " 5.051666666666667,\n",
       " 5.025,\n",
       " 5.012,\n",
       " 4.972,\n",
       " 5.0023333333333335,\n",
       " 5.0553333333333335,\n",
       " 5.088,\n",
       " 4.940333333333333,\n",
       " 5.041666666666667,\n",
       " 5.015333333333333,\n",
       " 5.023333333333333,\n",
       " 5.0136666666666665,\n",
       " 5.012333333333333,\n",
       " 5.014,\n",
       " 5.021333333333334,\n",
       " 5.050666666666666,\n",
       " 5.033,\n",
       " 4.993666666666667,\n",
       " 5.0023333333333335,\n",
       " 5.030666666666667,\n",
       " 5.029333333333334,\n",
       " 5.0553333333333335,\n",
       " 5.008,\n",
       " 4.963,\n",
       " 5.019333333333333,\n",
       " 4.993666666666667,\n",
       " 4.998333333333333,\n",
       " 5.04,\n",
       " 5.032,\n",
       " 4.991,\n",
       " 5.014,\n",
       " 5.019333333333333,\n",
       " 4.952,\n",
       " 5.045333333333334,\n",
       " 5.061,\n",
       " 5.002666666666666,\n",
       " 5.016666666666667,\n",
       " 5.016666666666667,\n",
       " 5.004,\n",
       " 5.017,\n",
       " 4.991333333333333,\n",
       " 4.970666666666666,\n",
       " 5.015,\n",
       " 5.024333333333334,\n",
       " 4.995666666666667,\n",
       " 5.001,\n",
       " 5.0296666666666665,\n",
       " 5.040666666666667,\n",
       " 5.070666666666667,\n",
       " 4.996333333333333,\n",
       " 5.062,\n",
       " 5.003,\n",
       " 4.962666666666666,\n",
       " 5.017,\n",
       " 5.018,\n",
       " 5.035666666666667,\n",
       " 5.002666666666666,\n",
       " 5.114333333333334,\n",
       " 5.04,\n",
       " 5.030666666666667,\n",
       " 5.012333333333333,\n",
       " 4.996333333333333,\n",
       " 5.014333333333333,\n",
       " 5.049,\n",
       " 5.033,\n",
       " 5.038666666666667,\n",
       " 5.019,\n",
       " 5.068666666666667,\n",
       " 4.959,\n",
       " 5.015,\n",
       " 5.0376666666666665,\n",
       " 5.009333333333333,\n",
       " 5.0263333333333335,\n",
       " 5.014666666666667,\n",
       " 5.005333333333334,\n",
       " 5.020333333333333,\n",
       " 5.043333333333333,\n",
       " 4.963,\n",
       " 4.947666666666667,\n",
       " 5.012,\n",
       " 5.033,\n",
       " 4.998,\n",
       " 5.051,\n",
       " 5.042666666666666,\n",
       " 5.022333333333333,\n",
       " 5.029333333333334,\n",
       " 4.954666666666666,\n",
       " 5.040333333333334,\n",
       " 5.080666666666667,\n",
       " 5.008333333333334,\n",
       " 5.0103333333333335,\n",
       " 5.014333333333333,\n",
       " 5.011,\n",
       " 5.033666666666667,\n",
       " 5.068333333333333,\n",
       " 5.010666666666666,\n",
       " 5.036666666666667,\n",
       " 5.003333333333333,\n",
       " 5.013333333333334,\n",
       " 5.031666666666666,\n",
       " 5.025,\n",
       " 5.025333333333333,\n",
       " 5.025,\n",
       " 5.018666666666666,\n",
       " 4.9976666666666665,\n",
       " 5.058666666666666,\n",
       " 5.024,\n",
       " 5.012,\n",
       " 5.015,\n",
       " 4.986,\n",
       " 5.022666666666667,\n",
       " 5.008,\n",
       " 5.032,\n",
       " 5.001333333333333,\n",
       " 4.97,\n",
       " 5.059333333333333,\n",
       " 5.032333333333334,\n",
       " 5.023,\n",
       " 5.073333333333333,\n",
       " 4.993333333333333,\n",
       " 4.992333333333334,\n",
       " 4.982333333333333,\n",
       " 5.037,\n",
       " 5.015666666666666,\n",
       " 5.030333333333333,\n",
       " 4.981,\n",
       " 5.044,\n",
       " 4.9383333333333335,\n",
       " 5.009,\n",
       " 4.991,\n",
       " 5.015,\n",
       " 5.0263333333333335,\n",
       " 5.016333333333334,\n",
       " 5.002,\n",
       " 5.059,\n",
       " 5.091333333333333,\n",
       " 5.0103333333333335,\n",
       " 5.016333333333334,\n",
       " 5.015,\n",
       " 5.0713333333333335,\n",
       " 4.988666666666667,\n",
       " 5.050333333333334,\n",
       " 5.067333333333333,\n",
       " 5.033,\n",
       " 5.053,\n",
       " 5.025333333333333,\n",
       " 5.0376666666666665,\n",
       " 5.021333333333334,\n",
       " 5.006333333333333,\n",
       " 5.039666666666666,\n",
       " 5.052,\n",
       " 4.998333333333333,\n",
       " 5.042666666666666,\n",
       " 4.987333333333333,\n",
       " 5.042666666666666,\n",
       " 5.026666666666666,\n",
       " 5.017,\n",
       " 4.979,\n",
       " 5.003666666666667,\n",
       " 5.0456666666666665,\n",
       " 5.036666666666667,\n",
       " 5.022666666666667,\n",
       " 5.024333333333334,\n",
       " 5.024666666666667,\n",
       " 5.048333333333333,\n",
       " 5.001,\n",
       " 5.025,\n",
       " 5.049333333333333,\n",
       " 4.987666666666667,\n",
       " 4.990333333333333,\n",
       " 4.998333333333333,\n",
       " 5.027333333333333,\n",
       " 4.969,\n",
       " 4.908,\n",
       " 5.0376666666666665,\n",
       " 5.002,\n",
       " 5.027333333333333,\n",
       " 5.018666666666666,\n",
       " 4.997,\n",
       " 5.029,\n",
       " 5.024333333333334,\n",
       " 5.033333333333333,\n",
       " 5.041,\n",
       " 5.011666666666667,\n",
       " 5.0,\n",
       " 5.012333333333333,\n",
       " 5.021,\n",
       " 5.024,\n",
       " 5.036666666666667,\n",
       " 5.015666666666666,\n",
       " 5.069333333333334,\n",
       " 5.040333333333334,\n",
       " 4.991333333333333,\n",
       " 5.031333333333333,\n",
       " 4.9976666666666665,\n",
       " 4.993,\n",
       " 5.008333333333334,\n",
       " 4.994,\n",
       " 4.983,\n",
       " 5.027333333333333,\n",
       " 5.017,\n",
       " 5.036,\n",
       " 5.012333333333333,\n",
       " 5.0,\n",
       " 5.017333333333333,\n",
       " 4.991,\n",
       " 5.022333333333333,\n",
       " 5.025,\n",
       " 5.005333333333334,\n",
       " 5.03,\n",
       " 5.034,\n",
       " 4.998,\n",
       " 4.991,\n",
       " 4.974666666666667,\n",
       " 5.009,\n",
       " 5.038333333333333,\n",
       " 5.024333333333334,\n",
       " 5.061333333333334,\n",
       " 5.009666666666667,\n",
       " 5.035,\n",
       " 4.981,\n",
       " 4.959333333333333,\n",
       " 5.012666666666667,\n",
       " 5.027,\n",
       " 5.02,\n",
       " 5.025,\n",
       " 5.019666666666667,\n",
       " 5.059,\n",
       " 5.008666666666667,\n",
       " 4.985,\n",
       " 5.036333333333333,\n",
       " 5.04,\n",
       " 5.0633333333333335,\n",
       " 5.0,\n",
       " 4.998,\n",
       " 5.035333333333333,\n",
       " 5.048666666666667,\n",
       " 5.003,\n",
       " 5.016333333333334,\n",
       " 4.972,\n",
       " 5.071666666666666,\n",
       " 5.004333333333333,\n",
       " 4.996333333333333,\n",
       " 5.027,\n",
       " 5.067333333333333,\n",
       " 4.976666666666667,\n",
       " 4.994666666666666,\n",
       " 5.082666666666666,\n",
       " 5.058666666666666,\n",
       " 5.067666666666667,\n",
       " 5.0456666666666665,\n",
       " 4.993333333333333,\n",
       " 4.996666666666667,\n",
       " 4.988333333333333,\n",
       " 4.977,\n",
       " 5.021333333333334,\n",
       " 5.011333333333333,\n",
       " 5.053,\n",
       " 5.051666666666667,\n",
       " 4.979666666666667,\n",
       " 4.985666666666667,\n",
       " 5.024,\n",
       " 5.029,\n",
       " 5.041333333333333,\n",
       " 5.019,\n",
       " 5.044333333333333,\n",
       " 5.014,\n",
       " 5.0183333333333335,\n",
       " 5.044333333333333,\n",
       " 4.988,\n",
       " 5.061333333333334,\n",
       " 5.049333333333333,\n",
       " 5.043666666666667,\n",
       " 5.052,\n",
       " 5.025666666666667,\n",
       " 5.012,\n",
       " 5.102333333333333,\n",
       " 5.029,\n",
       " 5.011333333333333,\n",
       " 5.015666666666666,\n",
       " 5.023666666666666,\n",
       " 4.993666666666667,\n",
       " 5.059333333333333,\n",
       " 5.063,\n",
       " 5.025333333333333,\n",
       " 5.042333333333334,\n",
       " 5.028333333333333,\n",
       " 5.040333333333334,\n",
       " 5.054333333333333,\n",
       " 4.979,\n",
       " 5.061333333333334,\n",
       " 5.023666666666666,\n",
       " 5.012333333333333,\n",
       " 4.985333333333333,\n",
       " 4.996333333333333,\n",
       " 4.985666666666667,\n",
       " 4.977,\n",
       " 4.966,\n",
       " 5.026,\n",
       " 5.003333333333333,\n",
       " 5.02,\n",
       " 4.992333333333334,\n",
       " 4.9896666666666665,\n",
       " 5.0343333333333335,\n",
       " 5.076666666666667,\n",
       " 4.995666666666667,\n",
       " 5.025333333333333,\n",
       " 5.019333333333333,\n",
       " 5.091,\n",
       " 5.107666666666667,\n",
       " 5.01,\n",
       " 4.988666666666667,\n",
       " 5.050666666666666,\n",
       " 5.01,\n",
       " 5.059666666666667,\n",
       " 5.048,\n",
       " 5.0183333333333335,\n",
       " 4.999,\n",
       " 5.004333333333333,\n",
       " 5.037333333333334,\n",
       " 5.001,\n",
       " 5.018666666666666,\n",
       " 5.019,\n",
       " 4.996666666666667,\n",
       " 5.048333333333333,\n",
       " 4.9736666666666665,\n",
       " 4.982333333333333,\n",
       " 5.036333333333333,\n",
       " 4.972333333333333,\n",
       " 4.9783333333333335,\n",
       " 5.023333333333333,\n",
       " 5.004333333333333,\n",
       " 4.994666666666666,\n",
       " 4.9896666666666665,\n",
       " 5.08,\n",
       " 5.020333333333333,\n",
       " 5.048,\n",
       " 5.025,\n",
       " 5.050333333333334,\n",
       " 4.983333333333333,\n",
       " 5.008666666666667,\n",
       " 5.020333333333333,\n",
       " 5.016,\n",
       " 5.031,\n",
       " 5.051333333333333,\n",
       " 5.032333333333334,\n",
       " 5.0296666666666665,\n",
       " 5.062333333333333,\n",
       " 4.968666666666667,\n",
       " 4.9623333333333335,\n",
       " 5.030333333333333,\n",
       " 4.9976666666666665,\n",
       " 5.055666666666666,\n",
       " 4.998333333333333,\n",
       " 5.040333333333334,\n",
       " 4.999,\n",
       " 5.043333333333333,\n",
       " 5.008333333333334,\n",
       " 5.02,\n",
       " 5.026,\n",
       " 4.976666666666667,\n",
       " 5.0713333333333335,\n",
       " 5.041333333333333,\n",
       " 5.0216666666666665,\n",
       " 5.0473333333333334,\n",
       " 5.060333333333333,\n",
       " 4.963666666666667,\n",
       " 5.028,\n",
       " 5.005333333333334,\n",
       " 4.974666666666667,\n",
       " 5.062,\n",
       " 5.044,\n",
       " 4.992666666666667,\n",
       " 5.024,\n",
       " 5.022,\n",
       " 4.989333333333334,\n",
       " 5.028666666666667,\n",
       " 4.968333333333334,\n",
       " 5.045333333333334,\n",
       " 4.968666666666667,\n",
       " 5.007333333333333,\n",
       " 4.987333333333333,\n",
       " 5.026,\n",
       " 5.051666666666667,\n",
       " 5.062666666666667,\n",
       " 5.079,\n",
       " 5.015666666666666,\n",
       " 5.0056666666666665,\n",
       " 5.0216666666666665,\n",
       " 4.969,\n",
       " 5.015,\n",
       " 5.019,\n",
       " 4.998,\n",
       " 5.044666666666667,\n",
       " 5.071,\n",
       " 5.045333333333334,\n",
       " 4.9816666666666665,\n",
       " 4.981,\n",
       " 4.974666666666667,\n",
       " 5.007333333333333,\n",
       " 5.005333333333334,\n",
       " 5.033,\n",
       " 5.004666666666667,\n",
       " 5.0776666666666666,\n",
       " 5.005,\n",
       " 5.051333333333333,\n",
       " 5.058,\n",
       " 5.036,\n",
       " 4.97,\n",
       " 5.013333333333334,\n",
       " 5.039,\n",
       " 5.046666666666667,\n",
       " 5.006,\n",
       " 4.989,\n",
       " 5.076333333333333,\n",
       " 5.031333333333333,\n",
       " 5.022333333333333,\n",
       " 5.016666666666667,\n",
       " 4.999333333333333,\n",
       " 5.050666666666666,\n",
       " 4.960333333333334,\n",
       " 5.023666666666666,\n",
       " 4.982666666666667,\n",
       " 5.0136666666666665,\n",
       " 4.984333333333334,\n",
       " 4.992666666666667,\n",
       " 5.030333333333333,\n",
       " 5.040666666666667,\n",
       " 5.035,\n",
       " 5.048666666666667,\n",
       " 4.998,\n",
       " 5.050333333333334,\n",
       " 4.984666666666667,\n",
       " 5.005,\n",
       " 5.057333333333333,\n",
       " 5.045,\n",
       " 5.04,\n",
       " 5.017,\n",
       " 5.017333333333333,\n",
       " 5.0536666666666665,\n",
       " 5.029333333333334,\n",
       " 4.997,\n",
       " 4.978,\n",
       " 5.017666666666667,\n",
       " 5.042666666666666,\n",
       " 5.0056666666666665,\n",
       " 5.0023333333333335,\n",
       " 4.985,\n",
       " 5.046,\n",
       " 5.049333333333333,\n",
       " 5.024666666666667,\n",
       " 5.004666666666667,\n",
       " 5.001666666666667,\n",
       " 4.967,\n",
       " 4.994,\n",
       " 5.0056666666666665,\n",
       " 5.042333333333334,\n",
       " 5.000333333333334,\n",
       " 5.051333333333333,\n",
       " 5.036,\n",
       " 5.022666666666667,\n",
       " 4.987333333333333,\n",
       " 5.020666666666667,\n",
       " 5.014,\n",
       " 4.971,\n",
       " 5.019,\n",
       " 5.056333333333333,\n",
       " 4.992666666666667,\n",
       " 4.987666666666667,\n",
       " 4.972666666666667,\n",
       " 5.048,\n",
       " 5.056,\n",
       " 4.955666666666667,\n",
       " 5.1193333333333335,\n",
       " 5.044666666666667,\n",
       " 5.0376666666666665,\n",
       " 5.002,\n",
       " 5.024333333333334,\n",
       " 5.034666666666666,\n",
       " 5.0343333333333335,\n",
       " 5.019,\n",
       " 5.020333333333333,\n",
       " 5.0616666666666665,\n",
       " 4.999666666666666,\n",
       " 5.001333333333333,\n",
       " 5.062,\n",
       " 4.9863333333333335,\n",
       " 5.007666666666666,\n",
       " 5.105,\n",
       " 5.004666666666667,\n",
       " 5.014666666666667,\n",
       " 5.063666666666666,\n",
       " 5.018,\n",
       " 5.007666666666666,\n",
       " 5.092666666666666,\n",
       " 5.0473333333333334,\n",
       " 4.995333333333333,\n",
       " 5.0343333333333335,\n",
       " 5.092333333333333,\n",
       " 5.076,\n",
       " 5.0296666666666665,\n",
       " 5.066666666666666,\n",
       " 5.012,\n",
       " 4.982666666666667,\n",
       " 4.999333333333333,\n",
       " 5.064666666666667,\n",
       " 5.038666666666667,\n",
       " 4.959333333333333,\n",
       " 5.0,\n",
       " 4.999333333333333,\n",
       " 5.031,\n",
       " 5.048333333333333,\n",
       " 5.073666666666667,\n",
       " 5.030333333333333,\n",
       " 4.964333333333333,\n",
       " 4.998,\n",
       " 5.035666666666667,\n",
       " 5.057333333333333,\n",
       " 4.982666666666667,\n",
       " 5.023333333333333,\n",
       " 5.0136666666666665,\n",
       " 5.011333333333333,\n",
       " 5.019333333333333,\n",
       " 5.055,\n",
       " 4.983333333333333,\n",
       " 4.972,\n",
       " 5.027333333333333,\n",
       " 5.041333333333333,\n",
       " 5.025,\n",
       " 5.018666666666666,\n",
       " 5.033,\n",
       " 5.004333333333333,\n",
       " 5.024,\n",
       " ...]"
      ]
     },
     "execution_count": 88,
     "metadata": {},
     "output_type": "execute_result"
    }
   ],
   "source": [
    "mean_of_samples"
   ]
  },
  {
   "cell_type": "code",
   "execution_count": 89,
   "id": "82c8b7d9-8902-4a76-994e-cae336ee907f",
   "metadata": {},
   "outputs": [
    {
     "data": {
      "text/plain": [
       "1.959963984540054"
      ]
     },
     "execution_count": 89,
     "metadata": {},
     "output_type": "execute_result"
    }
   ],
   "source": [
    "z_critical=stats.norm.ppf(q=0.975)   # this is for z critical  for given alpha -- using z table\n",
    "z_critical"
   ]
  },
  {
   "cell_type": "code",
   "execution_count": 90,
   "id": "fab2f29f-b660-4cb5-afe1-27456ae70ed5",
   "metadata": {},
   "outputs": [
    {
     "data": {
      "text/plain": [
       "1.973994288847133"
      ]
     },
     "execution_count": 90,
     "metadata": {},
     "output_type": "execute_result"
    }
   ],
   "source": [
    "stats.t.ppf(df=24, q=0.97)  # this is for t critical  for given alpha -- using t table"
   ]
  },
  {
   "cell_type": "code",
   "execution_count": 91,
   "id": "668f5441-551d-48b3-832d-75baf896aa7e",
   "metadata": {},
   "outputs": [],
   "source": [
    "# margin of error \n",
    "margin_of_error=z_critical* np.std(mean_of_samples) / np.sqrt(20)"
   ]
  },
  {
   "cell_type": "code",
   "execution_count": 92,
   "id": "c9b876a1-6201-4605-bde2-f8d41e591f87",
   "metadata": {},
   "outputs": [
    {
     "data": {
      "text/plain": [
       "0.012813324204333346"
      ]
     },
     "execution_count": 92,
     "metadata": {},
     "output_type": "execute_result"
    }
   ],
   "source": [
    "margin_of_error"
   ]
  },
  {
   "cell_type": "code",
   "execution_count": 93,
   "id": "e76e78e1-390c-4fa5-b250-6681b58c63ad",
   "metadata": {},
   "outputs": [
    {
     "data": {
      "text/plain": [
       "(5.007260049799735, 5.032886698208401)"
      ]
     },
     "execution_count": 93,
     "metadata": {},
     "output_type": "execute_result"
    }
   ],
   "source": [
    "# confidence intervl\n",
    "np.mean(mean_of_samples)-margin_of_error,np.mean(mean_of_samples)+margin_of_error"
   ]
  },
  {
   "cell_type": "code",
   "execution_count": null,
   "id": "509de771-def3-44de-93fd-2d20da2485f7",
   "metadata": {},
   "outputs": [],
   "source": []
  },
  {
   "cell_type": "code",
   "execution_count": 94,
   "id": "15c277af-a5d2-4190-b329-6262d5d9f609",
   "metadata": {},
   "outputs": [],
   "source": [
    "# Z-Test"
   ]
  },
  {
   "cell_type": "code",
   "execution_count": 95,
   "id": "4556a68f-9dde-45a7-bcf7-25143ba77d9a",
   "metadata": {},
   "outputs": [],
   "source": [
    "from numpy.random import randn"
   ]
  },
  {
   "cell_type": "code",
   "execution_count": 119,
   "id": "09c5e30c-48f2-4423-9be5-1795d7597b62",
   "metadata": {},
   "outputs": [
    {
     "data": {
      "text/plain": [
       "array([ 2.16211314e+00, -1.80532291e-01,  4.87025021e-01,  6.41573843e-01,\n",
       "        1.71806465e+00, -4.17379289e-01,  2.60485410e-01, -1.86166252e+00,\n",
       "        9.12665186e-01,  1.49255751e+00, -5.06882135e-01, -4.82316650e-01,\n",
       "        1.27768274e+00, -6.09106548e-01, -2.63481288e-01,  7.69781750e-01,\n",
       "       -7.46278898e-01, -1.20402249e+00, -6.72441100e-01,  7.78725201e-01,\n",
       "       -2.00173410e-02, -2.42841775e+00, -2.62790851e+00,  8.97655018e-01,\n",
       "        1.61094846e-01,  2.02032534e-01, -3.34013078e-01,  2.53684376e+00,\n",
       "       -1.30806210e+00,  2.05604982e-01,  3.75218367e-02,  5.63016630e-01,\n",
       "       -1.87813502e+00,  1.09233975e+00, -5.50846157e-01, -3.10021926e-01,\n",
       "       -5.28345355e-01,  4.75959399e-01, -1.75284325e+00,  8.00393519e-01,\n",
       "        1.20248279e+00,  6.03548508e-01,  5.96217859e-01,  2.60635822e-01,\n",
       "       -5.80654896e-01,  2.06531231e-01, -7.86714667e-01,  1.16283132e+00,\n",
       "        1.36460134e-01,  6.30860790e-01, -1.17966197e-01,  5.96745393e-02,\n",
       "       -1.04106178e+00,  2.28864385e-01,  4.99852169e-02, -3.00132743e-02,\n",
       "        8.53973381e-01,  1.30236557e+00, -2.25826854e+00, -1.02538837e+00,\n",
       "       -9.31967781e-01, -5.20996389e-02, -1.28265576e+00,  1.10091245e+00,\n",
       "       -1.04734982e+00,  1.07946599e+00,  2.45679249e-01,  1.09020689e+00,\n",
       "       -7.75772402e-01, -2.21893741e-01, -9.54714840e-01,  5.27490225e-01,\n",
       "        1.03400539e+00, -4.58907745e-01, -6.47474419e-01,  1.07395314e-01,\n",
       "       -1.77838481e-01, -1.23438955e+00,  1.86945801e+00, -1.40517251e+00,\n",
       "        2.53394210e+00, -8.38221775e-01, -1.03848935e-01,  8.48545662e-01,\n",
       "        5.69676219e-01, -1.17281749e+00, -2.31560624e+00, -7.98588108e-01,\n",
       "        1.54989790e+00,  1.63361122e+00, -2.63645935e-02, -8.00496374e-01,\n",
       "        5.11031917e-01,  1.05735468e+00,  5.63460115e-01,  1.80240043e+00,\n",
       "        1.43675837e+00,  6.12890722e-01, -2.00306282e+00,  2.83401016e-02,\n",
       "       -3.08347099e-01, -1.72915054e+00, -1.04081128e-01,  1.03855626e+00,\n",
       "       -9.96736116e-01, -1.04936058e+00,  5.61121384e-01, -3.51683984e-01,\n",
       "        4.71287472e-01, -3.32506212e-01,  8.09678021e-01, -4.09623059e-01,\n",
       "       -3.28576146e-01,  6.34482777e-01, -3.33457938e-01,  7.77751845e-01,\n",
       "        1.25842651e+00, -1.44463909e+00,  8.11528530e-01, -6.66394887e-02,\n",
       "       -8.04945220e-01, -2.13845348e+00, -6.68320175e-01,  3.85802227e-02,\n",
       "       -4.72816835e-03, -5.16400111e-01, -3.71382697e-02,  8.14147177e-01,\n",
       "       -9.42906603e-01,  4.05720876e-01, -1.16973738e+00, -1.02568690e+00,\n",
       "        1.51141931e-01, -1.78090555e-03,  1.00794534e+00,  1.05229149e+00,\n",
       "        1.65685663e+00,  7.74991419e-01,  1.17189559e+00,  1.21562053e+00,\n",
       "        6.76334025e-01,  3.39939848e-01,  7.41907083e-02,  1.45117620e+00,\n",
       "        7.21282391e-01,  1.25148094e+00, -1.08462114e+00,  2.04187221e-01,\n",
       "        4.98771657e-01,  3.88339066e-03, -3.21824179e-01, -3.40132412e-02,\n",
       "        2.06780061e-01,  6.69733456e-01, -1.51722019e+00, -2.97115381e-02,\n",
       "        3.19437753e-01,  8.17990838e-01, -1.78563835e+00, -1.35480608e+00,\n",
       "       -1.63403548e-01, -8.63331133e-02,  1.14852930e+00,  2.38943415e-01,\n",
       "       -1.64560989e-02, -4.57911015e-01, -1.85351115e-02, -7.14077967e-01,\n",
       "        1.33499155e+00, -2.10704845e+00, -1.40122456e+00,  3.97074127e-01,\n",
       "        1.13001126e+00, -2.86355342e-01, -2.14422358e-01, -1.37542413e+00,\n",
       "       -1.01200646e+00,  2.45596963e-01,  1.05867696e+00,  4.51366911e-01,\n",
       "        5.59448656e-01, -9.65668190e-01,  2.02256026e+00,  1.82127660e+00,\n",
       "       -2.77449466e+00,  1.71540667e+00,  1.11489428e+00,  5.59708897e-01,\n",
       "        2.53448750e+00, -1.86967318e-01,  1.13436011e+00, -5.91819822e-01,\n",
       "       -8.39473326e-01,  1.17168698e+00, -1.69004621e+00,  2.01417635e-01,\n",
       "        2.24181291e+00,  6.64101266e-01,  1.44171346e+00, -8.92868255e-01,\n",
       "        5.59391855e-01, -1.70127541e+00, -6.23052383e-01,  7.21412896e-01,\n",
       "        3.37736945e-01, -3.23696110e-01, -9.33374817e-01, -1.39187731e+00,\n",
       "        4.01313285e-01, -1.10496002e+00,  6.18129920e-01,  1.08602977e+00,\n",
       "       -1.78399404e+00, -2.42788668e+00,  1.19535557e+00, -8.14316410e-01,\n",
       "        2.62394457e+00,  6.90757961e-01, -3.80106873e-01, -3.79170133e-01,\n",
       "        7.79752647e-01, -5.80830277e-02,  1.25141815e+00, -1.83084684e-01,\n",
       "        1.53726383e+00,  1.36179174e+00,  1.38862267e-01,  1.66018994e+00,\n",
       "       -8.70753557e-01, -5.37357033e-01,  1.41172043e+00,  1.05533233e+00,\n",
       "       -6.52923755e-01, -3.09040858e-01,  4.01965258e-01, -3.43996069e-01,\n",
       "        7.53585867e-01, -7.68110394e-01,  2.91372440e-01,  6.54594230e-01,\n",
       "       -3.65289572e-02, -2.22556546e+00,  4.00869434e-01, -8.21006292e-01,\n",
       "        3.98001815e-01,  2.34059800e+00,  1.42457495e+00, -3.04500458e-01,\n",
       "       -7.05935622e-01,  3.77373685e-01, -1.30453185e-01, -8.53633001e-01,\n",
       "       -4.97235509e-01,  2.22212757e+00, -3.81941197e-01,  6.30270275e-01,\n",
       "       -3.05426491e-01, -1.66244474e+00,  7.15925745e-01, -1.48217087e+00,\n",
       "       -4.73262515e-01, -1.73851175e+00, -5.33073024e-01, -7.49107437e-01,\n",
       "        4.55549040e-01,  6.61260401e-01,  2.00097337e+00, -4.61307983e-01,\n",
       "       -2.92515663e-01,  5.01596557e-01, -1.44848292e+00, -1.67831592e+00,\n",
       "        2.44258346e-02,  3.13624932e-01, -6.71949664e-01, -1.00437624e+00,\n",
       "       -2.19102379e-01,  7.48019564e-01, -4.71178289e-01,  6.16041609e-02,\n",
       "       -1.74626494e+00,  1.96276739e+00,  1.01889957e-02, -1.07253386e+00,\n",
       "        4.00620801e-01,  3.60395704e-01, -1.19353268e-01,  1.05368158e+00,\n",
       "       -6.92803047e-01, -1.16011533e+00, -3.26974961e-02,  8.85630366e-03,\n",
       "       -4.38855233e-01,  1.70703032e+00, -9.84938402e-01,  2.79995508e+00,\n",
       "       -7.71973451e-01, -7.23731563e-01,  4.00706169e-01,  1.21797500e+00,\n",
       "       -8.25339940e-01, -5.74419921e-01,  1.50260088e+00, -1.58713448e+00,\n",
       "        2.70255162e-01,  7.25955687e-01, -1.18449759e+00, -9.54322280e-01,\n",
       "       -1.90710028e-01,  1.07681788e+00,  1.25778575e-01,  4.05422657e-01,\n",
       "        1.33417563e-02,  1.42864296e+00, -9.53919132e-02,  8.63825171e-01,\n",
       "       -3.75589290e-01,  4.79338154e-01,  8.98605720e-01,  8.66954770e-02,\n",
       "        1.15795969e-01,  6.55126862e-01,  7.20426521e-01,  1.20965549e+00,\n",
       "        3.96903631e-01, -1.16949802e+00,  2.27479602e-01,  1.12703231e+00,\n",
       "       -4.90324728e-02, -5.30912678e-02, -1.38361848e+00,  1.62893467e+00,\n",
       "       -1.18627813e+00, -1.20804985e+00, -9.14759431e-01,  2.47537639e-01,\n",
       "        4.95129387e-01,  1.23373485e+00,  1.33908236e-01,  9.56612487e-02,\n",
       "        2.09783854e+00,  2.67260514e+00, -1.79393641e+00,  2.65012226e-01,\n",
       "        4.84362766e-01,  2.67486932e+00, -1.05226439e+00, -1.49997138e+00,\n",
       "       -1.29862725e+00, -8.92650819e-01,  1.50091471e+00, -1.38790881e+00,\n",
       "        1.69576719e+00,  1.93940659e+00,  4.43246885e-01,  1.55232085e-01,\n",
       "        4.65464648e-01, -4.09443422e-01,  5.96813018e-01, -4.16019080e-01,\n",
       "       -1.96048008e-02,  7.79843867e-01,  1.13460207e+00, -9.12522483e-01,\n",
       "        6.74713140e-01, -9.31469278e-01, -1.06152373e+00, -3.00638299e-01,\n",
       "       -1.93276640e+00,  1.33203597e+00,  1.48882050e+00, -1.83363923e+00,\n",
       "        5.17844019e-01, -3.14804634e-04,  2.91405437e-01, -1.39931261e-01,\n",
       "        1.23353359e+00,  5.92447312e-01, -1.53604208e+00, -9.15415641e-01,\n",
       "       -1.95494462e-01, -8.94260895e-01,  1.49999665e+00,  4.87124475e-01,\n",
       "        2.29640367e+00,  1.20068314e+00, -3.54713542e-01,  9.43279729e-01,\n",
       "        1.30587164e+00, -9.24663989e-01,  1.01818275e+00, -7.86036999e-01,\n",
       "       -8.76045033e-01, -3.38314557e-01, -7.10379120e-01,  1.69070158e-01,\n",
       "        1.37426081e+00,  6.07012581e-01, -4.24246259e-01, -5.29531661e-01,\n",
       "       -5.97363858e-01, -1.06450640e+00,  1.17530543e-01,  6.42988240e-02,\n",
       "        1.21148914e+00,  2.14654721e-01,  7.57975110e-01, -1.03666534e+00,\n",
       "        1.06950541e+00,  2.58565657e-02,  6.25402689e-01,  8.63167009e-01,\n",
       "        1.28016696e+00,  9.25116823e-02,  3.37917641e-01, -5.86264563e-01,\n",
       "        9.63327013e-01,  3.07290303e-01,  1.35035454e+00, -8.02644367e-01,\n",
       "       -3.43138081e-01, -1.12404454e+00, -8.81416631e-01,  4.37067724e-01,\n",
       "        9.51091699e-01, -1.55039199e-01,  5.89141852e-01,  8.57485797e-01,\n",
       "        8.10152466e-01,  6.73890981e-01, -7.08701520e-01, -1.81385980e-01,\n",
       "       -1.24595313e+00,  3.97098015e-01,  7.80351451e-01,  1.40742246e+00,\n",
       "       -1.72557058e+00, -8.85634359e-02,  5.31795992e-01, -7.13516688e-01,\n",
       "        2.05097106e+00,  6.99427215e-01, -1.01193405e-01,  4.47786723e-01,\n",
       "        9.25359573e-01, -5.22384316e-01,  9.86956372e-01, -5.34315843e-01,\n",
       "       -3.44942127e-01,  9.29077185e-01, -1.05610979e+00,  6.10794602e-01,\n",
       "       -1.01625935e+00,  9.10694476e-01, -1.20865815e+00, -2.96830312e-01,\n",
       "       -4.57767149e-02, -1.53023975e+00, -3.41907526e-01, -3.95251821e-01,\n",
       "       -5.17328017e-01,  2.84805989e-01, -5.48582521e-01, -1.31382015e+00,\n",
       "       -9.18630546e-01, -5.37421080e-01,  2.20353796e-01, -4.28029492e-01,\n",
       "        1.51087348e+00,  8.91870348e-01, -1.90839089e+00, -3.36012578e-01,\n",
       "       -1.09108192e+00,  5.85945742e-01,  2.55674736e-01, -1.22672263e+00,\n",
       "       -1.06060361e+00, -1.06737336e-01, -2.51121702e+00, -1.55605779e+00,\n",
       "       -2.13778919e+00, -2.22425185e+00, -1.02972563e+00,  1.35633372e+00,\n",
       "       -2.01523473e-01,  2.89209499e-01, -2.10782796e+00,  1.88153396e-01,\n",
       "       -1.02310624e-01, -7.79795750e-01, -7.75848407e-01, -1.98334394e-01,\n",
       "       -2.44222202e-01,  4.94700963e-01,  5.91621465e-01, -1.19035615e+00,\n",
       "        3.03937962e-01, -6.69315993e-01, -7.84748253e-01,  1.41583656e+00,\n",
       "       -9.43509076e-04,  7.13316670e-02, -4.85466815e-01, -4.42538683e-01,\n",
       "       -1.26251859e+00, -8.07165100e-01, -1.21995566e+00,  1.04892987e+00,\n",
       "       -6.22198818e-01,  1.01031946e+00, -1.53780450e+00, -2.92793342e-01,\n",
       "       -4.74451963e-01, -1.55983741e-01,  7.16471922e-01,  1.73023137e-01,\n",
       "        2.78608938e-01,  7.31296218e-01, -1.50484970e+00, -5.06261887e-02,\n",
       "        2.22663844e+00, -3.21026748e-01,  9.01186306e-01,  8.69936783e-01,\n",
       "        1.36911133e+00,  6.21820629e-01, -2.14306075e-01, -1.61043193e+00,\n",
       "       -1.97145244e-01, -1.36134093e+00,  2.37561335e+00,  1.57403186e-01,\n",
       "        1.77272589e+00, -1.03478389e+00, -1.29593439e+00, -3.08909134e-01,\n",
       "       -2.64298123e-01, -1.63453726e+00,  6.89893616e-01, -1.69929859e+00,\n",
       "        8.93007843e-01, -7.41384833e-01, -3.36273644e-02,  4.93994608e-03,\n",
       "       -2.18895851e+00,  2.27094753e+00, -1.33909984e-01, -9.08632877e-01,\n",
       "       -7.24358811e-01, -1.68114832e+00,  1.23806268e-01, -6.74691236e-01,\n",
       "        5.73793073e-01, -1.91338732e+00,  2.61883691e+00, -1.34035660e+00,\n",
       "        3.43850257e-01, -1.04429034e+00, -1.29682801e-01, -6.85693461e-01,\n",
       "       -4.30189687e-01,  1.37589028e+00, -2.57194116e-01,  1.09422341e+00,\n",
       "       -1.07655311e+00, -9.66944958e-01,  4.26610315e-01, -2.48092354e+00,\n",
       "        5.50084750e-02,  1.21621779e+00, -6.61083685e-01,  2.13988713e-01,\n",
       "        1.31621938e+00,  1.62891462e+00, -7.67379171e-01,  4.08164684e-02,\n",
       "       -8.40351085e-01, -3.77568775e-01,  5.70663080e-01,  4.99827689e-01,\n",
       "       -1.31238010e+00,  7.52281492e-01, -4.54437025e-01,  3.65391371e-01,\n",
       "        5.09069044e-01,  1.24832739e-02,  1.52079514e+00,  1.26503617e-01,\n",
       "        4.13826666e-01,  1.40343256e+00, -5.87423711e-02,  1.15901307e+00,\n",
       "        1.07502428e+00, -4.17912223e-01, -1.77617914e+00,  3.13482143e-01,\n",
       "        5.44509764e-01, -3.15310387e-01,  1.17341588e+00,  3.63680053e-01,\n",
       "        6.67110030e-01,  1.58551938e+00,  2.87656060e-01,  8.53585654e-01,\n",
       "        4.27978229e-01, -5.64800691e-01,  1.35236599e-01,  2.46614723e-01,\n",
       "       -1.53844372e-01,  1.66792436e+00, -3.34321779e-01, -6.95811265e-03,\n",
       "        6.46587100e-01,  5.08761125e-01,  1.28938496e+00,  1.61393224e-01,\n",
       "        1.04866554e+00,  1.99598719e-01, -5.66397287e-01,  5.06466235e-01,\n",
       "       -1.18513851e+00,  3.27501889e-01, -4.56942219e-01,  1.81981197e+00,\n",
       "        7.24224359e-01,  7.33195453e-01, -7.46869657e-01, -9.05042419e-02,\n",
       "       -3.62637358e-02,  3.57096346e-01,  1.52305414e+00, -3.04282419e-01,\n",
       "       -7.06152167e-01,  1.65290661e+00,  1.67136183e+00,  8.17519250e-01,\n",
       "       -4.01571407e-01, -6.78509909e-01,  4.39125634e-01,  2.44138782e-01,\n",
       "        8.55988655e-01, -8.98202943e-01, -4.25330653e-01, -1.90563631e+00,\n",
       "        4.76695908e-01, -1.66511802e+00,  1.55444308e+00, -2.19840177e+00,\n",
       "       -6.36092086e-01,  8.75162268e-01, -4.70650896e-01,  4.67505798e-01,\n",
       "        6.90613283e-01,  5.87238848e-01,  4.47087225e-02,  6.67790563e-01,\n",
       "        2.12864333e+00,  3.24190853e-01,  1.35328348e+00,  4.31809787e-01,\n",
       "       -1.63561908e+00,  9.74009855e-01,  6.79678645e-01,  4.94652964e-02,\n",
       "       -1.46959685e+00, -6.19588884e-01, -7.68389020e-01, -1.19475770e+00,\n",
       "       -1.03957128e+00,  1.05162331e+00, -1.67150153e-01,  9.91506305e-01,\n",
       "        2.35748321e-01, -8.22553141e-01,  5.47872129e-01,  2.10568505e+00,\n",
       "       -1.30099011e+00,  5.92549781e-01, -1.07285352e+00,  2.28382081e+00,\n",
       "       -6.29608677e-01,  2.26188300e-02,  9.52942001e-01, -1.37811831e+00,\n",
       "       -4.44803512e-01, -6.00583197e-01, -8.99188570e-01,  1.34681838e+00,\n",
       "        3.69602967e+00,  4.28295226e-01,  8.12437568e-01,  3.17364930e-01,\n",
       "        3.22769901e-01, -5.42294528e-01,  8.01073622e-01,  1.11461016e+00,\n",
       "        1.56528008e-01,  9.55770953e-01, -3.07639578e-02, -7.01173768e-01,\n",
       "        4.55481741e-01,  6.47230102e-02, -1.62065018e-01, -1.12035108e+00,\n",
       "       -1.78818552e-01, -1.50889304e-01, -8.52253374e-01, -2.00998932e+00,\n",
       "       -6.23585662e-01, -7.42660174e-01, -7.92934805e-01, -6.75078012e-01,\n",
       "       -1.30590078e+00,  7.06059796e-01, -5.46417301e-01, -6.21226117e-02,\n",
       "       -1.24026209e+00, -1.50596021e+00, -4.46428406e-01,  9.33831239e-02,\n",
       "       -8.03199113e-01,  1.78371441e+00, -5.11965592e-01,  1.33453537e+00,\n",
       "       -7.66886957e-01,  2.47242085e-01,  1.36711746e+00,  1.85078581e+00,\n",
       "        2.30859098e-01, -1.78851214e-01,  3.07099284e-01, -6.15812679e-01,\n",
       "        1.01883414e+00,  7.09861039e-01,  1.43313936e+00,  4.87101299e-02,\n",
       "        2.06696968e-01, -6.87998649e-01,  8.34886973e-02, -1.80508327e+00,\n",
       "       -8.61316717e-02, -6.93250191e-01, -1.26189182e+00, -1.58701101e+00,\n",
       "       -3.21074069e-01,  2.68370014e-01, -1.42322198e+00,  8.85324868e-01,\n",
       "       -3.04325694e-01, -4.62570717e-01,  4.08429704e-01,  1.36815104e-01,\n",
       "       -1.12815474e+00,  1.57817322e+00, -9.38473804e-01, -2.26160616e-02,\n",
       "       -6.09723337e-01, -6.80441479e-04,  9.68827593e-01,  2.29356315e-01,\n",
       "        2.20797501e+00,  1.45318067e+00, -1.83401281e+00,  4.54555516e-02,\n",
       "       -2.49802131e-01, -8.26974883e-02, -2.70070764e-01,  4.60138197e-01,\n",
       "        2.15215544e+00, -1.33386787e+00, -1.66157978e-01,  3.19595901e-01,\n",
       "       -1.27800078e+00, -6.70004321e-01,  6.41860602e-01, -1.12438856e-01,\n",
       "       -8.17696536e-01,  6.59807547e-01,  3.98269020e-01, -6.15541139e-01,\n",
       "        1.25855564e-01,  1.97340401e-01, -7.69457372e-02, -7.98264485e-01,\n",
       "        4.41480577e-01,  1.48774477e+00,  1.27687615e+00, -1.77109034e+00,\n",
       "        1.75619226e+00, -1.11643918e+00,  3.07577029e-01,  6.86746054e-02,\n",
       "        7.57644313e-01, -2.15370430e+00, -1.08640717e+00, -1.64213249e+00,\n",
       "       -6.47742686e-02, -5.02540113e-01, -1.93658675e+00, -1.99776472e-01,\n",
       "        1.26638927e-01,  5.26607876e-01,  2.58681938e-01,  9.64219908e-01,\n",
       "       -1.26258937e+00, -1.13536567e+00,  5.49647926e-01, -1.74955221e+00,\n",
       "        1.03541514e+00, -5.16497075e-01,  8.43999772e-01,  2.00728608e+00,\n",
       "       -2.84026654e-02,  6.44036121e-02,  5.11060845e-01,  6.93005831e-01,\n",
       "       -1.72108059e-01,  7.01023669e-01, -7.74608538e-02,  5.49575710e-01,\n",
       "        1.46121970e+00, -2.59947678e-01, -6.75890468e-01,  7.65861867e-01,\n",
       "       -1.70373091e+00,  5.55990820e-01,  2.46134162e-01, -1.97791541e+00,\n",
       "        1.96487814e+00,  2.58580987e-01,  4.68559798e-01,  1.54471477e+00,\n",
       "        9.49154239e-01, -1.41085687e+00,  1.94240152e-01, -3.94574555e-01,\n",
       "       -3.79700659e-01, -8.72170599e-01,  7.13184545e-01, -8.17303814e-01,\n",
       "       -1.22754648e+00, -1.19030288e+00, -3.83989728e-01,  1.71016654e+00,\n",
       "        6.12785923e-01,  4.65454146e-01, -5.81300864e-01, -7.63074630e-01,\n",
       "        2.43649978e-01, -5.68453694e-01,  5.62012686e-01, -2.65411516e+00,\n",
       "       -9.10491379e-01,  4.11630960e-01, -3.97246525e-01,  2.25343873e+00,\n",
       "        4.66584108e-01, -1.20434022e+00,  7.38670860e-01, -3.32848662e-02,\n",
       "        1.23617537e+00, -1.41900076e+00,  3.00656760e-01, -4.82821154e-01,\n",
       "       -8.26623479e-01,  2.31457135e+00, -2.17657002e+00, -3.80073315e-01,\n",
       "       -1.60098468e+00, -5.99471669e-01, -1.46567316e+00,  1.58202900e+00,\n",
       "        1.76044086e-01,  6.52632064e-01, -1.47814629e+00,  1.72825226e-01,\n",
       "        3.31794406e-01, -4.72121561e-01, -4.90109074e-01, -4.76282729e-01,\n",
       "       -1.91494242e+00,  1.31618839e-01, -2.50667375e-02, -9.16786705e-01,\n",
       "       -2.53681628e-02, -5.66389581e-01,  8.24896757e-01, -4.65561005e-01,\n",
       "       -2.59212265e-01,  1.68437493e-01,  4.47897006e-01, -7.82567493e-01,\n",
       "        4.80028369e-01, -1.10246488e+00, -9.33490586e-01, -9.05075270e-01,\n",
       "        5.03580404e-01, -5.21158116e-02,  4.90947009e-01, -1.32476927e+00,\n",
       "       -9.14259666e-01,  6.67806974e-01, -4.09962662e-01,  2.88959357e-02,\n",
       "        5.27248315e-01, -4.91255062e-01, -6.68288590e-01, -1.95927253e+00,\n",
       "        1.02765443e+00, -1.96369876e+00, -4.64033866e-01,  8.05176726e-02,\n",
       "        4.22072253e-01,  1.91301095e-01, -1.52870654e-01, -7.01151491e-01,\n",
       "       -6.50562396e-02, -4.29306092e-02,  2.87747212e-01, -3.55609091e-01,\n",
       "       -9.23660875e-01, -6.80141311e-01,  3.45975782e-01, -2.01153098e-01,\n",
       "        1.97835767e-01, -4.56720836e-01,  1.38986162e+00,  9.16609446e-01,\n",
       "        8.47636654e-01, -1.59427163e+00,  5.08473043e-01,  4.74481605e-01,\n",
       "        5.52972473e-01,  1.51985274e+00, -5.24547312e-01,  1.04388979e-01,\n",
       "       -7.64392850e-01, -6.06147826e-01,  2.32728086e+00, -1.22013317e-01,\n",
       "        3.31605105e+00, -8.23596510e-01, -5.82257837e-01, -9.15802837e-03,\n",
       "       -2.56948125e-02,  4.30575349e-01,  1.02149661e+00,  4.17699216e-01,\n",
       "        3.63975014e-01, -6.43875663e-02, -8.16647132e-01,  1.75005477e+00,\n",
       "       -1.13486792e+00, -1.52512913e+00,  5.34874828e-01, -9.41112924e-01,\n",
       "       -5.87116694e-02, -6.67556623e-01,  1.77906181e+00, -1.05903789e+00,\n",
       "       -3.99162995e-01, -3.05453569e-01,  1.98419058e+00, -1.11252684e-02,\n",
       "        2.43274322e-01, -2.45070788e+00,  2.64124142e-02,  7.18846298e-01,\n",
       "       -1.05000388e+00, -7.12200280e-01, -2.05074314e-01, -2.91685803e-01,\n",
       "        2.37699561e+00, -1.38508321e+00,  9.95360590e-01, -1.10437198e-01,\n",
       "        3.47917833e-01, -3.00008465e-01,  7.24823189e-01,  5.56219150e-01,\n",
       "        1.75213930e+00,  1.92952351e+00, -4.76535728e-02, -3.40819169e-02,\n",
       "       -8.62620016e-01, -1.07104833e+00,  1.32255752e+00, -3.12822529e-01,\n",
       "       -4.58161729e-01, -1.90150175e+00, -8.22984514e-01,  9.80227803e-02,\n",
       "        1.59301673e+00, -1.44369093e+00,  8.81189500e-01,  1.62312854e+00,\n",
       "       -2.22895039e-02,  1.01724019e+00,  4.63766125e-02,  6.40346401e-01])"
      ]
     },
     "execution_count": 119,
     "metadata": {},
     "output_type": "execute_result"
    }
   ],
   "source": [
    "population =randn(1000)\n",
    "population "
   ]
  },
  {
   "cell_type": "code",
   "execution_count": 120,
   "id": "e119d0d9-0b1b-46ae-8f0e-bb791aad9e72",
   "metadata": {},
   "outputs": [
    {
     "name": "stderr",
     "output_type": "stream",
     "text": [
      "/var/folders/zj/f5qj3syd2556jqx5zlcjl4380000gn/T/ipykernel_94809/2958836585.py:1: UserWarning: \n",
      "\n",
      "`distplot` is a deprecated function and will be removed in seaborn v0.14.0.\n",
      "\n",
      "Please adapt your code to use either `displot` (a figure-level function with\n",
      "similar flexibility) or `histplot` (an axes-level function for histograms).\n",
      "\n",
      "For a guide to updating your code to use the new functions, please see\n",
      "https://gist.github.com/mwaskom/de44147ed2974457ad6372750bbe5751\n",
      "\n",
      "  sns.distplot(population)\n",
      "/opt/anaconda3/lib/python3.11/site-packages/seaborn/_oldcore.py:1119: FutureWarning: use_inf_as_na option is deprecated and will be removed in a future version. Convert inf values to NaN before operating instead.\n",
      "  with pd.option_context('mode.use_inf_as_na', True):\n"
     ]
    },
    {
     "data": {
      "text/plain": [
       "<Axes: ylabel='Density'>"
      ]
     },
     "execution_count": 120,
     "metadata": {},
     "output_type": "execute_result"
    },
    {
     "data": {
      "image/png": "[encoded data removed]",
      "text/plain": [
       "<Figure size 640x480 with 1 Axes>"
      ]
     },
     "metadata": {},
     "output_type": "display_data"
    }
   ],
   "source": [
    "sns.distplot(population)"
   ]
  },
  {
   "cell_type": "code",
   "execution_count": 121,
   "id": "496507f9-03ec-4eef-a5ba-62ca70f57fcd",
   "metadata": {},
   "outputs": [
    {
     "data": {
      "text/plain": [
       "(0.013302663547719298, 1.0236818590880128)"
      ]
     },
     "execution_count": 121,
     "metadata": {},
     "output_type": "execute_result"
    }
   ],
   "source": [
    "np.mean(population),np.std(population)"
   ]
  },
  {
   "cell_type": "code",
   "execution_count": 122,
   "id": "ecd02825-2c6e-4b3f-b819-a6d99bb7b173",
   "metadata": {},
   "outputs": [],
   "source": [
    "null_mean=0.05 # its means claim\n",
    "# if pvalue <= 0.05 -- reject null hypothesis\n",
    "# if pvalue > 0.05 -- fail to reject null hypothesis\n",
    "from statsmodels.stats.weightstats import ztest"
   ]
  },
  {
   "cell_type": "code",
   "execution_count": 123,
   "id": "450d5dca-62c1-4a27-b3e9-32cd16523b37",
   "metadata": {},
   "outputs": [],
   "source": [
    "zscore , pvalue=ztest(population,value=null_mean,alternative='larger')# here alternative means ,\n",
    "                                        #  mean is greater than null mean "
   ]
  },
  {
   "cell_type": "code",
   "execution_count": 124,
   "id": "855ae662-d1ba-4642-9295-45d6781e2aca",
   "metadata": {},
   "outputs": [
    {
     "data": {
      "text/plain": [
       "-1.133058363047331"
      ]
     },
     "execution_count": 124,
     "metadata": {},
     "output_type": "execute_result"
    }
   ],
   "source": [
    "zscore "
   ]
  },
  {
   "cell_type": "code",
   "execution_count": 125,
   "id": "107d20d0-7226-4039-a8be-595611236779",
   "metadata": {},
   "outputs": [
    {
     "data": {
      "text/plain": [
       "0.8714051275198673"
      ]
     },
     "execution_count": 125,
     "metadata": {},
     "output_type": "execute_result"
    }
   ],
   "source": [
    "pvalue"
   ]
  },
  {
   "cell_type": "code",
   "execution_count": 126,
   "id": "58e988aa-ad36-407e-883f-4a4161b4c80a",
   "metadata": {},
   "outputs": [
    {
     "name": "stdout",
     "output_type": "stream",
     "text": [
      "Fail to the reject Null Hypothesis \n"
     ]
    }
   ],
   "source": [
    "if pvalue <= 0.05:\n",
    "    print(\"Reject the Null Hypothesis\")\n",
    "else:\n",
    "    print(\"Fail to the reject Null Hypothesis \")"
   ]
  },
  {
   "cell_type": "raw",
   "id": "020f94d1-a17f-48f7-a089-88dbf1424324",
   "metadata": {},
   "source": [
    "# A school calculated IQ score of 50 student , the average IQ turned out to be 100. \n",
    "# the mean of population IQ is 90.\n",
    "# And the std deviation  is 16.\n",
    "# state wheather the claim by school \n",
    "# that IQ increases if student study more than avg of school with 5% of significance level \n",
    "# null hypothesis : mean_IQ =90\n",
    "# Alternative hypothesis : mean_IQ > 90"
   ]
  },
  {
   "cell_type": "code",
   "execution_count": 128,
   "id": "24ebf931-17d6-49af-9423-bed54f8a5274",
   "metadata": {},
   "outputs": [],
   "source": [
    "# z critical approach\n",
    "import scipy.stats as stats\n",
    "\n",
    "sample_mean=100\n",
    "population_mean=90\n",
    "population_std=16\n",
    "sample_size= 50\n",
    "alpha=0.05"
   ]
  },
  {
   "cell_type": "code",
   "execution_count": 130,
   "id": "4230e9d6-a81a-43ef-a22a-ef8ace5921c9",
   "metadata": {},
   "outputs": [],
   "source": [
    "z_score=(sample_mean-population_mean)/(population_std/np.sqrt(sample_size))"
   ]
  },
  {
   "cell_type": "code",
   "execution_count": 131,
   "id": "a98e3fb5-036b-449a-b477-493ee6418adb",
   "metadata": {},
   "outputs": [
    {
     "data": {
      "text/plain": [
       "4.419417382415922"
      ]
     },
     "execution_count": 131,
     "metadata": {},
     "output_type": "execute_result"
    }
   ],
   "source": [
    "z_score"
   ]
  },
  {
   "cell_type": "code",
   "execution_count": 133,
   "id": "d3e801a6-b901-46fa-94ed-1a46c5181feb",
   "metadata": {},
   "outputs": [],
   "source": [
    "# stats module in scipy >> z_critical\n",
    "#ppf >> percent point function  is inverse of cdf\n",
    "z_critical=stats.norm.ppf(1-alpha)"
   ]
  },
  {
   "cell_type": "code",
   "execution_count": 134,
   "id": "b208fc7d-83f6-405f-9cd9-4e9a198df3be",
   "metadata": {},
   "outputs": [
    {
     "data": {
      "text/plain": [
       "1.6448536269514722"
      ]
     },
     "execution_count": 134,
     "metadata": {},
     "output_type": "execute_result"
    }
   ],
   "source": [
    "z_critical"
   ]
  },
  {
   "cell_type": "code",
   "execution_count": 136,
   "id": "28ca3d9f-dc2e-4b54-866a-3285993a293f",
   "metadata": {},
   "outputs": [
    {
     "name": "stdout",
     "output_type": "stream",
     "text": [
      "Reject the Null Hypothesis\n"
     ]
    }
   ],
   "source": [
    "if z_score >= z_critical:\n",
    "    print(\"Reject the Null Hypothesis\")\n",
    "else:\n",
    "    print(\"Fail to the reject Null Hypothesis\")"
   ]
  },
  {
   "cell_type": "code",
   "execution_count": 137,
   "id": "8518959f-a64d-49e7-81c8-3794b359b333",
   "metadata": {},
   "outputs": [],
   "source": [
    "# pvalue approach using scipy\n",
    "\n",
    "pvalue =1-stats.norm.cdf(z_score)\n"
   ]
  },
  {
   "cell_type": "code",
   "execution_count": 138,
   "id": "8740d697-f59a-4141-9509-9558992b7504",
   "metadata": {},
   "outputs": [
    {
     "data": {
      "text/plain": [
       "4.948367312573865e-06"
      ]
     },
     "execution_count": 138,
     "metadata": {},
     "output_type": "execute_result"
    }
   ],
   "source": [
    "pvalue"
   ]
  },
  {
   "cell_type": "code",
   "execution_count": 139,
   "id": "54281372-a640-451e-86cc-c582d56edc9b",
   "metadata": {},
   "outputs": [
    {
     "name": "stdout",
     "output_type": "stream",
     "text": [
      "Reject the Null Hypothesis\n"
     ]
    }
   ],
   "source": [
    "if pvalue <= alpha:\n",
    "    print(\"Reject the Null Hypothesis\")\n",
    "else:\n",
    "    print(\"Fail to the reject Null Hypothesis\")"
   ]
  },
  {
   "cell_type": "code",
   "execution_count": null,
   "id": "5ee51796-16dd-4521-8274-4029744e2f3c",
   "metadata": {},
   "outputs": [],
   "source": [
    "# Z test is done-----------------------------"
   ]
  },
  {
   "cell_type": "code",
   "execution_count": 180,
   "id": "53fa33ef-d76d-431e-9f64-39f4f951f468",
   "metadata": {},
   "outputs": [
    {
     "data": {
      "text/html": [
       "<div>\n",
       "<style scoped>\n",
       "    .dataframe tbody tr th:only-of-type {\n",
       "        vertical-align: middle;\n",
       "    }\n",
       "\n",
       "    .dataframe tbody tr th {\n",
       "        vertical-align: top;\n",
       "    }\n",
       "\n",
       "    .dataframe thead th {\n",
       "        text-align: right;\n",
       "    }\n",
       "</style>\n",
       "<table border=\"1\" class=\"dataframe\">\n",
       "  <thead>\n",
       "    <tr style=\"text-align: right;\">\n",
       "      <th></th>\n",
       "      <th>total_bill</th>\n",
       "      <th>tip</th>\n",
       "      <th>sex</th>\n",
       "      <th>smoker</th>\n",
       "      <th>day</th>\n",
       "      <th>time</th>\n",
       "      <th>size</th>\n",
       "    </tr>\n",
       "  </thead>\n",
       "  <tbody>\n",
       "    <tr>\n",
       "      <th>0</th>\n",
       "      <td>16.99</td>\n",
       "      <td>1.01</td>\n",
       "      <td>Female</td>\n",
       "      <td>No</td>\n",
       "      <td>Sun</td>\n",
       "      <td>Dinner</td>\n",
       "      <td>2</td>\n",
       "    </tr>\n",
       "    <tr>\n",
       "      <th>1</th>\n",
       "      <td>10.34</td>\n",
       "      <td>1.66</td>\n",
       "      <td>Male</td>\n",
       "      <td>No</td>\n",
       "      <td>Sun</td>\n",
       "      <td>Dinner</td>\n",
       "      <td>3</td>\n",
       "    </tr>\n",
       "    <tr>\n",
       "      <th>2</th>\n",
       "      <td>21.01</td>\n",
       "      <td>3.50</td>\n",
       "      <td>Male</td>\n",
       "      <td>No</td>\n",
       "      <td>Sun</td>\n",
       "      <td>Dinner</td>\n",
       "      <td>3</td>\n",
       "    </tr>\n",
       "    <tr>\n",
       "      <th>3</th>\n",
       "      <td>23.68</td>\n",
       "      <td>3.31</td>\n",
       "      <td>Male</td>\n",
       "      <td>No</td>\n",
       "      <td>Sun</td>\n",
       "      <td>Dinner</td>\n",
       "      <td>2</td>\n",
       "    </tr>\n",
       "    <tr>\n",
       "      <th>4</th>\n",
       "      <td>24.59</td>\n",
       "      <td>3.61</td>\n",
       "      <td>Female</td>\n",
       "      <td>No</td>\n",
       "      <td>Sun</td>\n",
       "      <td>Dinner</td>\n",
       "      <td>4</td>\n",
       "    </tr>\n",
       "    <tr>\n",
       "      <th>...</th>\n",
       "      <td>...</td>\n",
       "      <td>...</td>\n",
       "      <td>...</td>\n",
       "      <td>...</td>\n",
       "      <td>...</td>\n",
       "      <td>...</td>\n",
       "      <td>...</td>\n",
       "    </tr>\n",
       "    <tr>\n",
       "      <th>239</th>\n",
       "      <td>29.03</td>\n",
       "      <td>5.92</td>\n",
       "      <td>Male</td>\n",
       "      <td>No</td>\n",
       "      <td>Sat</td>\n",
       "      <td>Dinner</td>\n",
       "      <td>3</td>\n",
       "    </tr>\n",
       "    <tr>\n",
       "      <th>240</th>\n",
       "      <td>27.18</td>\n",
       "      <td>2.00</td>\n",
       "      <td>Female</td>\n",
       "      <td>Yes</td>\n",
       "      <td>Sat</td>\n",
       "      <td>Dinner</td>\n",
       "      <td>2</td>\n",
       "    </tr>\n",
       "    <tr>\n",
       "      <th>241</th>\n",
       "      <td>22.67</td>\n",
       "      <td>2.00</td>\n",
       "      <td>Male</td>\n",
       "      <td>Yes</td>\n",
       "      <td>Sat</td>\n",
       "      <td>Dinner</td>\n",
       "      <td>2</td>\n",
       "    </tr>\n",
       "    <tr>\n",
       "      <th>242</th>\n",
       "      <td>17.82</td>\n",
       "      <td>1.75</td>\n",
       "      <td>Male</td>\n",
       "      <td>No</td>\n",
       "      <td>Sat</td>\n",
       "      <td>Dinner</td>\n",
       "      <td>2</td>\n",
       "    </tr>\n",
       "    <tr>\n",
       "      <th>243</th>\n",
       "      <td>18.78</td>\n",
       "      <td>3.00</td>\n",
       "      <td>Female</td>\n",
       "      <td>No</td>\n",
       "      <td>Thur</td>\n",
       "      <td>Dinner</td>\n",
       "      <td>2</td>\n",
       "    </tr>\n",
       "  </tbody>\n",
       "</table>\n",
       "<p>244 rows × 7 columns</p>\n",
       "</div>"
      ],
      "text/plain": [
       "     total_bill   tip     sex smoker   day    time  size\n",
       "0         16.99  1.01  Female     No   Sun  Dinner     2\n",
       "1         10.34  1.66    Male     No   Sun  Dinner     3\n",
       "2         21.01  3.50    Male     No   Sun  Dinner     3\n",
       "3         23.68  3.31    Male     No   Sun  Dinner     2\n",
       "4         24.59  3.61  Female     No   Sun  Dinner     4\n",
       "..          ...   ...     ...    ...   ...     ...   ...\n",
       "239       29.03  5.92    Male     No   Sat  Dinner     3\n",
       "240       27.18  2.00  Female    Yes   Sat  Dinner     2\n",
       "241       22.67  2.00    Male    Yes   Sat  Dinner     2\n",
       "242       17.82  1.75    Male     No   Sat  Dinner     2\n",
       "243       18.78  3.00  Female     No  Thur  Dinner     2\n",
       "\n",
       "[244 rows x 7 columns]"
      ]
     },
     "execution_count": 180,
     "metadata": {},
     "output_type": "execute_result"
    }
   ],
   "source": [
    "df"
   ]
  },
  {
   "cell_type": "code",
   "execution_count": null,
   "id": "ff9980c6-b62f-481c-ad46-02e8728ee414",
   "metadata": {},
   "outputs": [],
   "source": [
    "# how to known that  if given data is normally distributed or not\n",
    "# ---> to see distribution plot >> distplot(----) or q-q plot\n",
    "# but now their is statistical test to known data is normally distributed or not"
   ]
  },
  {
   "cell_type": "code",
   "execution_count": 185,
   "id": "2d1e4612-ce47-4bdb-a251-95d1c2a37c86",
   "metadata": {},
   "outputs": [],
   "source": [
    "data=pd.read_csv(\"/Users/abhineshsingh/winequality-red.csv\")"
   ]
  },
  {
   "cell_type": "code",
   "execution_count": 186,
   "id": "53d5d389-8fff-4d03-a833-0c9f45ad32a9",
   "metadata": {},
   "outputs": [
    {
     "data": {
      "text/html": [
       "<div>\n",
       "<style scoped>\n",
       "    .dataframe tbody tr th:only-of-type {\n",
       "        vertical-align: middle;\n",
       "    }\n",
       "\n",
       "    .dataframe tbody tr th {\n",
       "        vertical-align: top;\n",
       "    }\n",
       "\n",
       "    .dataframe thead th {\n",
       "        text-align: right;\n",
       "    }\n",
       "</style>\n",
       "<table border=\"1\" class=\"dataframe\">\n",
       "  <thead>\n",
       "    <tr style=\"text-align: right;\">\n",
       "      <th></th>\n",
       "      <th>fixed acidity</th>\n",
       "      <th>volatile acidity</th>\n",
       "      <th>citric acid</th>\n",
       "      <th>residual sugar</th>\n",
       "      <th>chlorides</th>\n",
       "      <th>free sulfur dioxide</th>\n",
       "      <th>total sulfur dioxide</th>\n",
       "      <th>density</th>\n",
       "      <th>pH</th>\n",
       "      <th>sulphates</th>\n",
       "      <th>alcohol</th>\n",
       "      <th>quality</th>\n",
       "    </tr>\n",
       "  </thead>\n",
       "  <tbody>\n",
       "    <tr>\n",
       "      <th>0</th>\n",
       "      <td>7.4</td>\n",
       "      <td>0.700</td>\n",
       "      <td>0.00</td>\n",
       "      <td>1.9</td>\n",
       "      <td>0.076</td>\n",
       "      <td>11.0</td>\n",
       "      <td>34.0</td>\n",
       "      <td>0.99780</td>\n",
       "      <td>3.51</td>\n",
       "      <td>0.56</td>\n",
       "      <td>9.4</td>\n",
       "      <td>5</td>\n",
       "    </tr>\n",
       "    <tr>\n",
       "      <th>1</th>\n",
       "      <td>7.8</td>\n",
       "      <td>0.880</td>\n",
       "      <td>0.00</td>\n",
       "      <td>2.6</td>\n",
       "      <td>0.098</td>\n",
       "      <td>25.0</td>\n",
       "      <td>67.0</td>\n",
       "      <td>0.99680</td>\n",
       "      <td>3.20</td>\n",
       "      <td>0.68</td>\n",
       "      <td>9.8</td>\n",
       "      <td>5</td>\n",
       "    </tr>\n",
       "    <tr>\n",
       "      <th>2</th>\n",
       "      <td>7.8</td>\n",
       "      <td>0.760</td>\n",
       "      <td>0.04</td>\n",
       "      <td>2.3</td>\n",
       "      <td>0.092</td>\n",
       "      <td>15.0</td>\n",
       "      <td>54.0</td>\n",
       "      <td>0.99700</td>\n",
       "      <td>3.26</td>\n",
       "      <td>0.65</td>\n",
       "      <td>9.8</td>\n",
       "      <td>5</td>\n",
       "    </tr>\n",
       "    <tr>\n",
       "      <th>3</th>\n",
       "      <td>11.2</td>\n",
       "      <td>0.280</td>\n",
       "      <td>0.56</td>\n",
       "      <td>1.9</td>\n",
       "      <td>0.075</td>\n",
       "      <td>17.0</td>\n",
       "      <td>60.0</td>\n",
       "      <td>0.99800</td>\n",
       "      <td>3.16</td>\n",
       "      <td>0.58</td>\n",
       "      <td>9.8</td>\n",
       "      <td>6</td>\n",
       "    </tr>\n",
       "    <tr>\n",
       "      <th>4</th>\n",
       "      <td>7.4</td>\n",
       "      <td>0.700</td>\n",
       "      <td>0.00</td>\n",
       "      <td>1.9</td>\n",
       "      <td>0.076</td>\n",
       "      <td>11.0</td>\n",
       "      <td>34.0</td>\n",
       "      <td>0.99780</td>\n",
       "      <td>3.51</td>\n",
       "      <td>0.56</td>\n",
       "      <td>9.4</td>\n",
       "      <td>5</td>\n",
       "    </tr>\n",
       "    <tr>\n",
       "      <th>...</th>\n",
       "      <td>...</td>\n",
       "      <td>...</td>\n",
       "      <td>...</td>\n",
       "      <td>...</td>\n",
       "      <td>...</td>\n",
       "      <td>...</td>\n",
       "      <td>...</td>\n",
       "      <td>...</td>\n",
       "      <td>...</td>\n",
       "      <td>...</td>\n",
       "      <td>...</td>\n",
       "      <td>...</td>\n",
       "    </tr>\n",
       "    <tr>\n",
       "      <th>1594</th>\n",
       "      <td>6.2</td>\n",
       "      <td>0.600</td>\n",
       "      <td>0.08</td>\n",
       "      <td>2.0</td>\n",
       "      <td>0.090</td>\n",
       "      <td>32.0</td>\n",
       "      <td>44.0</td>\n",
       "      <td>0.99490</td>\n",
       "      <td>3.45</td>\n",
       "      <td>0.58</td>\n",
       "      <td>10.5</td>\n",
       "      <td>5</td>\n",
       "    </tr>\n",
       "    <tr>\n",
       "      <th>1595</th>\n",
       "      <td>5.9</td>\n",
       "      <td>0.550</td>\n",
       "      <td>0.10</td>\n",
       "      <td>2.2</td>\n",
       "      <td>0.062</td>\n",
       "      <td>39.0</td>\n",
       "      <td>51.0</td>\n",
       "      <td>0.99512</td>\n",
       "      <td>3.52</td>\n",
       "      <td>0.76</td>\n",
       "      <td>11.2</td>\n",
       "      <td>6</td>\n",
       "    </tr>\n",
       "    <tr>\n",
       "      <th>1596</th>\n",
       "      <td>6.3</td>\n",
       "      <td>0.510</td>\n",
       "      <td>0.13</td>\n",
       "      <td>2.3</td>\n",
       "      <td>0.076</td>\n",
       "      <td>29.0</td>\n",
       "      <td>40.0</td>\n",
       "      <td>0.99574</td>\n",
       "      <td>3.42</td>\n",
       "      <td>0.75</td>\n",
       "      <td>11.0</td>\n",
       "      <td>6</td>\n",
       "    </tr>\n",
       "    <tr>\n",
       "      <th>1597</th>\n",
       "      <td>5.9</td>\n",
       "      <td>0.645</td>\n",
       "      <td>0.12</td>\n",
       "      <td>2.0</td>\n",
       "      <td>0.075</td>\n",
       "      <td>32.0</td>\n",
       "      <td>44.0</td>\n",
       "      <td>0.99547</td>\n",
       "      <td>3.57</td>\n",
       "      <td>0.71</td>\n",
       "      <td>10.2</td>\n",
       "      <td>5</td>\n",
       "    </tr>\n",
       "    <tr>\n",
       "      <th>1598</th>\n",
       "      <td>6.0</td>\n",
       "      <td>0.310</td>\n",
       "      <td>0.47</td>\n",
       "      <td>3.6</td>\n",
       "      <td>0.067</td>\n",
       "      <td>18.0</td>\n",
       "      <td>42.0</td>\n",
       "      <td>0.99549</td>\n",
       "      <td>3.39</td>\n",
       "      <td>0.66</td>\n",
       "      <td>11.0</td>\n",
       "      <td>6</td>\n",
       "    </tr>\n",
       "  </tbody>\n",
       "</table>\n",
       "<p>1599 rows × 12 columns</p>\n",
       "</div>"
      ],
      "text/plain": [
       "      fixed acidity  volatile acidity  citric acid  residual sugar  chlorides  \\\n",
       "0               7.4             0.700         0.00             1.9      0.076   \n",
       "1               7.8             0.880         0.00             2.6      0.098   \n",
       "2               7.8             0.760         0.04             2.3      0.092   \n",
       "3              11.2             0.280         0.56             1.9      0.075   \n",
       "4               7.4             0.700         0.00             1.9      0.076   \n",
       "...             ...               ...          ...             ...        ...   \n",
       "1594            6.2             0.600         0.08             2.0      0.090   \n",
       "1595            5.9             0.550         0.10             2.2      0.062   \n",
       "1596            6.3             0.510         0.13             2.3      0.076   \n",
       "1597            5.9             0.645         0.12             2.0      0.075   \n",
       "1598            6.0             0.310         0.47             3.6      0.067   \n",
       "\n",
       "      free sulfur dioxide  total sulfur dioxide  density    pH  sulphates  \\\n",
       "0                    11.0                  34.0  0.99780  3.51       0.56   \n",
       "1                    25.0                  67.0  0.99680  3.20       0.68   \n",
       "2                    15.0                  54.0  0.99700  3.26       0.65   \n",
       "3                    17.0                  60.0  0.99800  3.16       0.58   \n",
       "4                    11.0                  34.0  0.99780  3.51       0.56   \n",
       "...                   ...                   ...      ...   ...        ...   \n",
       "1594                 32.0                  44.0  0.99490  3.45       0.58   \n",
       "1595                 39.0                  51.0  0.99512  3.52       0.76   \n",
       "1596                 29.0                  40.0  0.99574  3.42       0.75   \n",
       "1597                 32.0                  44.0  0.99547  3.57       0.71   \n",
       "1598                 18.0                  42.0  0.99549  3.39       0.66   \n",
       "\n",
       "      alcohol  quality  \n",
       "0         9.4        5  \n",
       "1         9.8        5  \n",
       "2         9.8        5  \n",
       "3         9.8        6  \n",
       "4         9.4        5  \n",
       "...       ...      ...  \n",
       "1594     10.5        5  \n",
       "1595     11.2        6  \n",
       "1596     11.0        6  \n",
       "1597     10.2        5  \n",
       "1598     11.0        6  \n",
       "\n",
       "[1599 rows x 12 columns]"
      ]
     },
     "execution_count": 186,
     "metadata": {},
     "output_type": "execute_result"
    }
   ],
   "source": [
    "data"
   ]
  },
  {
   "cell_type": "code",
   "execution_count": 187,
   "id": "98216952-4d79-4d6a-a3ac-ce7a35fd5ecc",
   "metadata": {},
   "outputs": [],
   "source": [
    "# now known that this  data is normally distributed or not -- so"
   ]
  },
  {
   "cell_type": "code",
   "execution_count": 188,
   "id": "ce7359d2-10ee-4753-8e5c-ba056f5bd905",
   "metadata": {},
   "outputs": [
    {
     "name": "stderr",
     "output_type": "stream",
     "text": [
      "/var/folders/zj/f5qj3syd2556jqx5zlcjl4380000gn/T/ipykernel_94809/2958836585.py:1: UserWarning: \n",
      "\n",
      "`distplot` is a deprecated function and will be removed in seaborn v0.14.0.\n",
      "\n",
      "Please adapt your code to use either `displot` (a figure-level function with\n",
      "similar flexibility) or `histplot` (an axes-level function for histograms).\n",
      "\n",
      "For a guide to updating your code to use the new functions, please see\n",
      "https://gist.github.com/mwaskom/de44147ed2974457ad6372750bbe5751\n",
      "\n",
      "  sns.distplot(population)\n",
      "/opt/anaconda3/lib/python3.11/site-packages/seaborn/_oldcore.py:1119: FutureWarning: use_inf_as_na option is deprecated and will be removed in a future version. Convert inf values to NaN before operating instead.\n",
      "  with pd.option_context('mode.use_inf_as_na', True):\n"
     ]
    },
    {
     "data": {
      "text/plain": [
       "<Axes: ylabel='Density'>"
      ]
     },
     "execution_count": 188,
     "metadata": {},
     "output_type": "execute_result"
    },
    {
     "data": {
      "image/png": "[encoded data removed]",
      "text/plain": [
       "<Figure size 640x480 with 1 Axes>"
      ]
     },
     "metadata": {},
     "output_type": "display_data"
    }
   ],
   "source": [
    "sns.distplot(population)"
   ]
  },
  {
   "cell_type": "code",
   "execution_count": 192,
   "id": "d58ad052-8bde-45bc-9a09-7d935b1605cf",
   "metadata": {},
   "outputs": [],
   "source": [
    "pop=np.random.randn(100000)"
   ]
  },
  {
   "cell_type": "code",
   "execution_count": 193,
   "id": "ae3a2fc6-761b-426f-9d50-a29b7f8646cf",
   "metadata": {},
   "outputs": [
    {
     "data": {
      "text/plain": [
       "array([-0.62294958, -0.78328428,  3.24823839, ...,  1.05237726,\n",
       "        0.39538821, -0.2657908 ])"
      ]
     },
     "execution_count": 193,
     "metadata": {},
     "output_type": "execute_result"
    }
   ],
   "source": [
    "pop"
   ]
  },
  {
   "cell_type": "code",
   "execution_count": 194,
   "id": "3ef4beec-c5c3-4f60-a279-f868b3aa0d76",
   "metadata": {},
   "outputs": [
    {
     "name": "stderr",
     "output_type": "stream",
     "text": [
      "/var/folders/zj/f5qj3syd2556jqx5zlcjl4380000gn/T/ipykernel_94809/1879801924.py:1: UserWarning: \n",
      "\n",
      "`distplot` is a deprecated function and will be removed in seaborn v0.14.0.\n",
      "\n",
      "Please adapt your code to use either `displot` (a figure-level function with\n",
      "similar flexibility) or `histplot` (an axes-level function for histograms).\n",
      "\n",
      "For a guide to updating your code to use the new functions, please see\n",
      "https://gist.github.com/mwaskom/de44147ed2974457ad6372750bbe5751\n",
      "\n",
      "  sns.distplot(pop)\n",
      "/opt/anaconda3/lib/python3.11/site-packages/seaborn/_oldcore.py:1119: FutureWarning: use_inf_as_na option is deprecated and will be removed in a future version. Convert inf values to NaN before operating instead.\n",
      "  with pd.option_context('mode.use_inf_as_na', True):\n"
     ]
    },
    {
     "data": {
      "text/plain": [
       "<Axes: ylabel='Density'>"
      ]
     },
     "execution_count": 194,
     "metadata": {},
     "output_type": "execute_result"
    },
    {
     "data": {
      "image/png": "[encoded data removed]",
      "text/plain": [
       "<Figure size 640x480 with 1 Axes>"
      ]
     },
     "metadata": {},
     "output_type": "display_data"
    }
   ],
   "source": [
    "sns.distplot(pop)"
   ]
  },
  {
   "cell_type": "code",
   "execution_count": 195,
   "id": "d0e47566-98ef-4d15-a960-0f6c15cafb5d",
   "metadata": {},
   "outputs": [],
   "source": [
    "# to know from  statistical way so what to do --- let see"
   ]
  },
  {
   "cell_type": "code",
   "execution_count": 196,
   "id": "292194b5-1344-467d-9a50-2ae3e76c2510",
   "metadata": {},
   "outputs": [
    {
     "data": {
      "text/plain": [
       "ShapiroResult(statistic=0.9493311047554016, pvalue=0.03202524781227112)"
      ]
     },
     "execution_count": 196,
     "metadata": {},
     "output_type": "execute_result"
    }
   ],
   "source": [
    "from scipy import stats\n",
    "stats.shapiro(population)"
   ]
  },
  {
   "cell_type": "code",
   "execution_count": 199,
   "id": "3db072cb-64ee-4ac1-8298-62010a158354",
   "metadata": {},
   "outputs": [
    {
     "name": "stderr",
     "output_type": "stream",
     "text": [
      "/var/folders/zj/f5qj3syd2556jqx5zlcjl4380000gn/T/ipykernel_94809/3678522696.py:1: UserWarning: \n",
      "\n",
      "`distplot` is a deprecated function and will be removed in seaborn v0.14.0.\n",
      "\n",
      "Please adapt your code to use either `displot` (a figure-level function with\n",
      "similar flexibility) or `histplot` (an axes-level function for histograms).\n",
      "\n",
      "For a guide to updating your code to use the new functions, please see\n",
      "https://gist.github.com/mwaskom/de44147ed2974457ad6372750bbe5751\n",
      "\n",
      "  sns.distplot(data['citric acid'])\n",
      "/opt/anaconda3/lib/python3.11/site-packages/seaborn/_oldcore.py:1119: FutureWarning: use_inf_as_na option is deprecated and will be removed in a future version. Convert inf values to NaN before operating instead.\n",
      "  with pd.option_context('mode.use_inf_as_na', True):\n"
     ]
    },
    {
     "data": {
      "text/plain": [
       "<Axes: xlabel='citric acid', ylabel='Density'>"
      ]
     },
     "execution_count": 199,
     "metadata": {},
     "output_type": "execute_result"
    },
    {
     "data": {
      "image/png": "[encoded data removed]",
      "text/plain": [
       "<Figure size 640x480 with 1 Axes>"
      ]
     },
     "metadata": {},
     "output_type": "display_data"
    }
   ],
   "source": [
    "sns.distplot(data['citric acid'])"
   ]
  },
  {
   "cell_type": "code",
   "execution_count": 200,
   "id": "d72fb718-62cc-42a4-b5fe-390e0f591d03",
   "metadata": {},
   "outputs": [
    {
     "data": {
      "text/plain": [
       "ShapiroResult(statistic=0.9552949070930481, pvalue=1.0235257442124836e-21)"
      ]
     },
     "execution_count": 200,
     "metadata": {},
     "output_type": "execute_result"
    }
   ],
   "source": [
    "stats.shapiro(data['citric acid'])"
   ]
  },
  {
   "cell_type": "code",
   "execution_count": 201,
   "id": "bc35ba6d-26d1-4ce2-af54-b92dceb27d98",
   "metadata": {},
   "outputs": [],
   "source": [
    "# pvalue is less than 0.05 and hence reject the h0 that the sample is \n",
    "# drwan from a normal dist population "
   ]
  },
  {
   "cell_type": "code",
   "execution_count": null,
   "id": "345ab8b2-e76f-4711-bff0-fed01cc30d6a",
   "metadata": {},
   "outputs": [],
   "source": [
    "# Now --------- T-Test-------------------"
   ]
  },
  {
   "cell_type": "code",
   "execution_count": null,
   "id": "27bc4d9c-22a9-4fdc-8749-a5e1a551818a",
   "metadata": {},
   "outputs": [],
   "source": [
    "# t- test >> ss less than 30 or sigma of population is not given"
   ]
  },
  {
   "cell_type": "code",
   "execution_count": 140,
   "id": "3f5051f4-fc35-4fbe-893d-4b78e6f2b24f",
   "metadata": {},
   "outputs": [],
   "source": [
    "# t-test done in 3 way\n",
    "#--> one sample t test (wrt one independent sample)\n",
    "#--> two sample t test (wrt two independent sample)\n",
    "#--> paired t test (two samples from same population from different time interval)"
   ]
  },
  {
   "cell_type": "code",
   "execution_count": 141,
   "id": "82610ce3-287f-43c8-9822-ae181ac409c2",
   "metadata": {},
   "outputs": [],
   "source": [
    "##-->Now start --> one sample t test (wrt one independent sample)"
   ]
  },
  {
   "cell_type": "code",
   "execution_count": 142,
   "id": "612a29f2-2215-409a-bb11-0c5c14f946a0",
   "metadata": {},
   "outputs": [],
   "source": [
    "population=np.random.randint(10,50,50)"
   ]
  },
  {
   "cell_type": "code",
   "execution_count": 143,
   "id": "79f64a34-f9f6-4a60-ad46-1050d8565043",
   "metadata": {},
   "outputs": [
    {
     "data": {
      "text/plain": [
       "array([16, 19, 44, 32, 45, 17, 30, 37, 34, 24, 26, 14, 22, 15, 34, 21, 24,\n",
       "       41, 18, 18, 10, 35, 19, 13, 12, 16, 23, 12, 19, 33, 33, 34, 11, 25,\n",
       "       23, 39, 18, 49, 29, 24, 15, 49, 20, 20, 20, 24, 22, 37, 33, 45])"
      ]
     },
     "execution_count": 143,
     "metadata": {},
     "output_type": "execute_result"
    }
   ],
   "source": [
    "population"
   ]
  },
  {
   "cell_type": "code",
   "execution_count": 144,
   "id": "4ff2ca0b-f7c2-4913-8d1d-f61ed1229329",
   "metadata": {},
   "outputs": [],
   "source": [
    "sample= np.random.choice(population,20)"
   ]
  },
  {
   "cell_type": "code",
   "execution_count": 145,
   "id": "01d22b29-73b1-454d-a0f4-c8e06ec57e0b",
   "metadata": {},
   "outputs": [
    {
     "data": {
      "text/plain": [
       "array([10, 21, 45, 11, 37, 19, 15, 19, 15, 34, 10, 32, 19, 22, 17, 33, 16,\n",
       "       20, 24, 18])"
      ]
     },
     "execution_count": 145,
     "metadata": {},
     "output_type": "execute_result"
    }
   ],
   "source": [
    "sample"
   ]
  },
  {
   "cell_type": "code",
   "execution_count": 146,
   "id": "a4fb3e23-2785-4591-b5fb-151b1804bd5c",
   "metadata": {},
   "outputs": [
    {
     "data": {
      "text/plain": [
       "21.85"
      ]
     },
     "execution_count": 146,
     "metadata": {},
     "output_type": "execute_result"
    }
   ],
   "source": [
    "np.mean(sample)"
   ]
  },
  {
   "cell_type": "code",
   "execution_count": 147,
   "id": "654dbabc-f801-4f36-bcb4-eadf828d41f9",
   "metadata": {},
   "outputs": [],
   "source": [
    "null_value=25 # the mean of population is 25"
   ]
  },
  {
   "cell_type": "code",
   "execution_count": 149,
   "id": "800bb8b4-0bd7-4b38-9a78-8329c380c0e1",
   "metadata": {},
   "outputs": [
    {
     "data": {
      "text/plain": [
       "TtestResult(statistic=-1.4726812566507492, pvalue=0.15720991302139245, df=19)"
      ]
     },
     "execution_count": 149,
     "metadata": {},
     "output_type": "execute_result"
    }
   ],
   "source": [
    "import scipy\n",
    "scipy.stats.ttest_1samp(sample,null_value)"
   ]
  },
  {
   "cell_type": "code",
   "execution_count": null,
   "id": "3726b298-533a-4e95-85a5-60ef10db3d06",
   "metadata": {},
   "outputs": [],
   "source": [
    "# if pvalue > 0.05 -- fail to reject null hypothesis"
   ]
  },
  {
   "cell_type": "code",
   "execution_count": null,
   "id": "d2c278b1-4479-4322-b75e-ecf015e196e6",
   "metadata": {},
   "outputs": [],
   "source": []
  },
  {
   "cell_type": "code",
   "execution_count": null,
   "id": "5b896158-76d5-4400-8da1-8bc9054604f9",
   "metadata": {},
   "outputs": [],
   "source": [
    "##--> Now Start--> two sample t test (wrt two independent sample)"
   ]
  },
  {
   "cell_type": "code",
   "execution_count": 150,
   "id": "94830566-fae6-4a45-87a7-fc3775701716",
   "metadata": {},
   "outputs": [],
   "source": [
    "virat_kohli_score=np.random.choice(population,20)"
   ]
  },
  {
   "cell_type": "code",
   "execution_count": 151,
   "id": "da19a2b1-2ac1-4fc7-b606-47230a1a6567",
   "metadata": {},
   "outputs": [
    {
     "data": {
      "text/plain": [
       "array([15, 16, 44, 34, 15, 19, 33, 34, 18, 45, 26, 32, 23, 26, 35, 45, 12,\n",
       "       17, 13, 24])"
      ]
     },
     "execution_count": 151,
     "metadata": {},
     "output_type": "execute_result"
    }
   ],
   "source": [
    "virat_kohli_score"
   ]
  },
  {
   "cell_type": "code",
   "execution_count": 158,
   "id": "f53ba290-0a10-4ede-9573-83203ed59a2b",
   "metadata": {},
   "outputs": [],
   "source": [
    "rohit_sharma_score=np.random.randint(10,90,20)"
   ]
  },
  {
   "cell_type": "code",
   "execution_count": 159,
   "id": "90b8ff0f-25e6-403f-8e3e-72953b195d39",
   "metadata": {},
   "outputs": [
    {
     "data": {
      "text/plain": [
       "array([83, 21, 20, 24, 52, 33, 40, 21, 51, 47, 63, 24, 69, 49, 44, 80, 52,\n",
       "       73, 87, 41])"
      ]
     },
     "execution_count": 159,
     "metadata": {},
     "output_type": "execute_result"
    }
   ],
   "source": [
    "rohit_sharma_score\n"
   ]
  },
  {
   "cell_type": "code",
   "execution_count": 160,
   "id": "1662f86f-b576-4f47-b738-3dd89c17b7a5",
   "metadata": {},
   "outputs": [
    {
     "data": {
      "text/plain": [
       "(48.7, 26.3)"
      ]
     },
     "execution_count": 160,
     "metadata": {},
     "output_type": "execute_result"
    }
   ],
   "source": [
    "# calculate the mean of both\n",
    "np.mean(rohit_sharma_score),np.mean(virat_kohli_score)"
   ]
  },
  {
   "cell_type": "code",
   "execution_count": 161,
   "id": "ef92f994-d533-433a-b305-f5582056be3b",
   "metadata": {},
   "outputs": [
    {
     "data": {
      "text/plain": [
       "TtestResult(statistic=-4.145604877923729, pvalue=0.00018289066638813167, df=38.0)"
      ]
     },
     "execution_count": 161,
     "metadata": {},
     "output_type": "execute_result"
    }
   ],
   "source": [
    "scipy.stats.ttest_ind(virat_kohli_score,rohit_sharma_score)"
   ]
  },
  {
   "cell_type": "code",
   "execution_count": 156,
   "id": "2d94bd21-dc15-4fac-86aa-5ec5616a01ee",
   "metadata": {},
   "outputs": [],
   "source": [
    "# if pvalue > 0.05 , fail to reject the null hypothesis "
   ]
  },
  {
   "cell_type": "code",
   "execution_count": null,
   "id": "1f8b3362-8765-46a7-b828-c21809e08f8c",
   "metadata": {},
   "outputs": [],
   "source": []
  },
  {
   "cell_type": "code",
   "execution_count": 157,
   "id": "0581837a-2d01-4c9a-9e34-a7c68d2dae61",
   "metadata": {},
   "outputs": [],
   "source": [
    "##-->Now Start--> paired t test (two samples from same population from different time interval)"
   ]
  },
  {
   "cell_type": "code",
   "execution_count": 165,
   "id": "0dede593-b688-4e02-b805-8fbbb87f9dc0",
   "metadata": {},
   "outputs": [],
   "source": [
    "population=np.random.randint(10,100,50)"
   ]
  },
  {
   "cell_type": "code",
   "execution_count": 166,
   "id": "e8e29994-2250-4cf5-b672-136e3be8eee1",
   "metadata": {},
   "outputs": [
    {
     "data": {
      "text/plain": [
       "array([14, 96, 25, 18, 41, 51, 34, 29, 33, 16, 57, 89, 89, 55, 79, 69, 66,\n",
       "       82, 86, 35, 31, 43, 56, 63, 81, 95, 49, 55, 61, 52, 80, 12, 44, 47,\n",
       "       37, 18, 25, 39, 45, 56, 93, 14, 31, 55, 34, 35, 20, 74, 92, 81])"
      ]
     },
     "execution_count": 166,
     "metadata": {},
     "output_type": "execute_result"
    }
   ],
   "source": [
    "population"
   ]
  },
  {
   "cell_type": "code",
   "execution_count": 171,
   "id": "aa395fe4-0866-4db5-b802-c39de2cd0aba",
   "metadata": {},
   "outputs": [],
   "source": [
    "virat_kohli_score_first_inning=np.random.choice(population,20)"
   ]
  },
  {
   "cell_type": "code",
   "execution_count": 172,
   "id": "c6803e2e-4909-4dd6-a852-606ee22424a1",
   "metadata": {},
   "outputs": [
    {
     "data": {
      "text/plain": [
       "array([93, 63, 66, 93, 16, 45, 96, 55, 74, 55, 89, 37, 69, 63, 39, 37, 39,\n",
       "       92, 82, 55])"
      ]
     },
     "execution_count": 172,
     "metadata": {},
     "output_type": "execute_result"
    }
   ],
   "source": [
    "virat_kohli_score_first_inning"
   ]
  },
  {
   "cell_type": "code",
   "execution_count": 173,
   "id": "2328da28-79a5-46ac-8334-e089ca6165e2",
   "metadata": {},
   "outputs": [],
   "source": [
    "virat_kohli_score_second_inning=np.random.choice(population,20)"
   ]
  },
  {
   "cell_type": "code",
   "execution_count": 175,
   "id": "db8afad4-5af1-437e-b637-23502b05dc90",
   "metadata": {},
   "outputs": [
    {
     "data": {
      "text/plain": [
       "array([18, 41, 37, 12, 81, 55, 52, 56, 80, 55, 41, 49, 66, 16, 25, 35, 25,\n",
       "       79, 57, 66])"
      ]
     },
     "execution_count": 175,
     "metadata": {},
     "output_type": "execute_result"
    }
   ],
   "source": [
    "virat_kohli_score_second_inning"
   ]
  },
  {
   "cell_type": "code",
   "execution_count": 176,
   "id": "4e39f663-540b-4139-baeb-5137a5420e03",
   "metadata": {},
   "outputs": [
    {
     "data": {
      "text/plain": [
       "(62.9, 47.3)"
      ]
     },
     "execution_count": 176,
     "metadata": {},
     "output_type": "execute_result"
    }
   ],
   "source": [
    "np.mean(virat_kohli_score_first_inning),np.mean(virat_kohli_score_second_inning)"
   ]
  },
  {
   "cell_type": "code",
   "execution_count": 177,
   "id": "da23ea71-6924-42d2-a8ba-02d91033e4fb",
   "metadata": {},
   "outputs": [
    {
     "data": {
      "text/plain": [
       "TtestResult(statistic=2.102558135290901, pvalue=0.049065124124358664, df=19)"
      ]
     },
     "execution_count": 177,
     "metadata": {},
     "output_type": "execute_result"
    }
   ],
   "source": [
    "scipy.stats.ttest_rel(virat_kohli_score_first_inning,virat_kohli_score_second_inning)"
   ]
  },
  {
   "cell_type": "code",
   "execution_count": null,
   "id": "5e75cbe5-e6dc-446b-818d-1a0c834a4c19",
   "metadata": {},
   "outputs": [],
   "source": []
  }
 ],
 "metadata": {
  "kernelspec": {
   "display_name": "Python 3 (ipykernel)",
   "language": "python",
   "name": "python3"
  },
  "language_info": {
   "codemirror_mode": {
    "name": "ipython",
    "version": 3
   },
   "file_extension": ".py",
   "mimetype": "text/x-python",
   "name": "python",
   "nbconvert_exporter": "python",
   "pygments_lexer": "ipython3",
   "version": "3.11.7"
  }
 },
 "nbformat": 4,
 "nbformat_minor": 5
}
